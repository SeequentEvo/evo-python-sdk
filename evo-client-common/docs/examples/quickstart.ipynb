{
 "cells": [
  {
   "cell_type": "markdown",
   "id": "48455e47be6aaecf",
   "metadata": {},
   "source": [
    "# Evo Client Common v2\n",
    "\n",
    "`evo-client-common`\n",
    "\n",
    "Evo Client Common is a Python package that establishes a common framework for use by client libraries that interact\n",
    "with Evo APIs. The v2 version of the package is a complete rewrite of the original package, and is designed to improve\n",
    "the developer experience by providing a more intuitive and flexible API. This notebook demonstrates how to use the\n",
    "v2 package to interact with Evo APIs."
   ]
  },
  {
   "cell_type": "markdown",
   "id": "41bbecbb479d66c9",
   "metadata": {},
   "source": [
    "## ITransport\n",
    "\n",
    "The `ITransport` interface is used to make HTTP requests to Evo APIs. The `AioTransport` class is an implementation\n",
    "based on the `aiohttp` library, which is an optional dependency. Different HTTP client libraries can be substituted by\n",
    "implementing a facade that implements the `ITransport` interface.\n",
    "\n",
    "Transport objects must be re-entrant so that they can be used by multiple coroutines at the same time. `AioTransport`\n",
    "uses an internal counter to track the number of places where the transport is being used. When the counter reaches zero,\n",
    "the underlying HTTP client session is closed, and any related resources are released. The next time the transport is\n",
    "opened, a new session will be created."
   ]
  },
  {
   "cell_type": "code",
   "execution_count": null,
   "id": "49cf74fe4d3a4776",
   "metadata": {},
   "outputs": [],
   "source": [
    "from evo.aio import AioTransport\n",
    "from evo.common.utils import BackoffIncremental\n",
    "\n",
    "# Configure the transport.\n",
    "transport = AioTransport(\n",
    "    user_agent=\"evo-client-common-poc\",\n",
    "    max_attempts=3,\n",
    "    backoff_method=BackoffIncremental(2),\n",
    "    num_pools=4,\n",
    "    verify_ssl=True,\n",
    ")\n",
    "\n",
    "# We can open the transport outside a context manager so that the underlying session is left open. This can save\n",
    "# time if we are going to make multiple batches of requests in the same area of code. Ideally, the transport should\n",
    "# be closed when it is no longer needed.\n",
    "await transport.open()"
   ]
  },
  {
   "cell_type": "markdown",
   "id": "aeba32f8980bac92",
   "metadata": {},
   "source": [
    "## Logging in to Evo\n",
    "\n",
    "The `IAuthorizer` interface is used to authenticate with Evo APIs, by automatically attaching the default headers to\n",
    "API requests. The `AuthorizationCodeAuthorizer` class is an OAuth implementation of `IAuthorizer`, utilizing a reference OAuth\n",
    "implementation that is built using the `aiohttp` library. `aiohttp` is an optional dependency, so it must be installed\n",
    "for the `AuthorizationCodeAuthorizer` implementation to work."
   ]
  },
  {
   "cell_type": "code",
   "execution_count": null,
   "id": "a2d6a781",
   "metadata": {},
   "outputs": [],
   "source": [
    "from evo.oauth import OIDCConnector, AuthorizationCodeAuthorizer\n",
    "\n",
    "ISSUER_URI = \"https://qa-ims.bentley.com\"\n",
    "REDIRECT_URL = \"http://localhost:3000/signin-oidc\"\n",
    "CLIENT_NAME = \"EvoPythonSDK\"\n",
    "CLIENT_ID = CLIENT_NAME.lower()\n",
    "\n",
    "authorizer = AuthorizationCodeAuthorizer(\n",
    "    redirect_url=REDIRECT_URL,\n",
    "    oidc_connector=OIDCConnector(\n",
    "        transport=transport,\n",
    "        oidc_issuer=ISSUER_URI,\n",
    "        client_id=CLIENT_ID,\n",
    "    ),\n",
    ")\n",
    "\n",
    "# Login to the Evo platform.\n",
    "await authorizer.login()"
   ]
  },
  {
   "cell_type": "markdown",
   "id": "6f597302",
   "metadata": {},
   "source": [
    "Alternatively, a client of `client credientials` grant type can use the `ClientCredentialsAuthorizer` for authorization into Evo. This allows for service to service requests, instead of user login and redirects. "
   ]
  },
  {
   "cell_type": "code",
   "execution_count": null,
   "id": "ef7c842c",
   "metadata": {},
   "outputs": [],
   "source": [
    "from evo.oauth import OIDCConnector, ClientCredentialsAuthorizer, OAuthScopes\n",
    "\n",
    "ISSUER_URI = \"https://qa-ims.bentley.com\"\n",
    "CLIENT_NAME = \"<client_name>\"\n",
    "CLIENT_SECRET = \"<client_secret\"\n",
    "CLIENT_ID = CLIENT_NAME.lower()\n",
    "\n",
    "authorizer = ClientCredentialsAuthorizer(\n",
    "    oidc_connector=OIDCConnector(\n",
    "        transport=transport,\n",
    "        oidc_issuer=ISSUER_URI,\n",
    "        client_id=CLIENT_ID,\n",
    "        client_secret=CLIENT_SECRET,\n",
    "    ),\n",
    "    scopes=OAuthScopes.all_evo,\n",
    ")\n",
    "\n",
    "# Authorize the client.\n",
    "await authorizer.authorize()"
   ]
  },
  {
   "cell_type": "markdown",
   "id": "6fbec2d446206842",
   "metadata": {},
   "source": [
    "## Listing Organizations\n",
    "\n",
    "In most user-facing environments it will be necessary to list the organizations that the user has access to. The\n",
    "`DiscoveryApiCLient` interacts with the Discovery API to retrieve this information. Simply give it a connector\n",
    "pointing to the appropriate host, and it will do the rest."
   ]
  },
  {
   "cell_type": "code",
   "execution_count": null,
   "id": "a463d69ab5d7e0e8",
   "metadata": {},
   "outputs": [],
   "source": [
    "from evo.common import ApiConnector\n",
    "from evo.discovery import DiscoveryApiClient\n",
    "\n",
    "# Select an Organization.\n",
    "async with ApiConnector(\"https://uat-api.test.seequent.systems\", transport, authorizer) as idp_connector:\n",
    "    discovery_client = DiscoveryApiClient(idp_connector)\n",
    "    organizations = await discovery_client.list_organizations()\n",
    "\n",
    "# Select the first organization for this example.\n",
    "selected_organization = organizations[0]\n",
    "print(\"Selected organization:\", selected_organization.display_name)"
   ]
  },
  {
   "cell_type": "markdown",
   "id": "a660123195a17934",
   "metadata": {},
   "source": [
    "## Listing Workspaces\n",
    "\n",
    "Once an organization has been selected, the next step is to list the workspaces that the user has access to. Each\n",
    "organization _may_ span multiple hubs, although there is a current commitment to a 1:1 relationship in production\n",
    "environments.\n",
    "\n",
    "We will create a connector targeting the hub URL, which we can reuse later for talking to individual services. The\n",
    "transport and authorizer objects are also reused."
   ]
  },
  {
   "cell_type": "code",
   "execution_count": null,
   "id": "7fd5213babed8914",
   "metadata": {},
   "outputs": [],
   "source": [
    "from evo.workspaces import WorkspaceServiceClient\n",
    "\n",
    "hub = next(hub for hub in selected_organization.hubs if hub.code == \"350mt\")  # Using the 350mt hub for this example.\n",
    "\n",
    "# This connector can be used to connect to any service supported by the hub.\n",
    "hub_connector = ApiConnector(hub.url, transport, authorizer)\n",
    "\n",
    "# List the workspaces.\n",
    "async with hub_connector:\n",
    "    workspace_client = WorkspaceServiceClient(hub_connector, selected_organization.id)\n",
    "    workspaces = await workspace_client.list_workspaces()\n",
    "\n",
    "# Select the first workspace for this example.\n",
    "selected_workspace = workspaces[0]\n",
    "print(\"Selected workspace:\", selected_workspace.display_name)"
   ]
  },
  {
   "cell_type": "markdown",
   "id": "67e604aa3908f850",
   "metadata": {},
   "source": [
    "## Interacting with Service Clients\n",
    "\n",
    "The `Workspace` object can generate an `Environment`, which contains the organization and workspace IDs, and can be\n",
    "used to resolve cache locations. Evo Client Common does not implement any specific service clients*, but it provides\n",
    "a `BaseServiceClient` type that should be used as a base class for service clients.\n",
    "\n",
    "The `BaseServiceClient` defines a shared constructor for service clients, as well as convenient cache management via the `cache` property, and the `clear_cache()` method. "
   ]
  },
  {
   "cell_type": "code",
   "execution_count": null,
   "id": "402cfc1aa9c7f6bc",
   "metadata": {},
   "outputs": [],
   "source": [
    "from evo.common import BaseServiceClient\n",
    "\n",
    "## Interact with a service.\n",
    "async with hub_connector:\n",
    "    service_client = BaseServiceClient(selected_workspace.get_environment(), hub_connector)\n",
    "    ...  # Do something with the service client."
   ]
  }
 ],
 "metadata": {
  "kernelspec": {
   "display_name": "Python 3",
   "language": "python",
   "name": "python3"
  },
  "language_info": {
   "codemirror_mode": {
    "name": "ipython",
    "version": 3
   },
   "file_extension": ".py",
   "mimetype": "text/x-python",
   "name": "python",
   "nbconvert_exporter": "python",
   "pygments_lexer": "ipython3",
   "version": "3.12.4"
  }
 },
 "nbformat": 4,
 "nbformat_minor": 5
}
