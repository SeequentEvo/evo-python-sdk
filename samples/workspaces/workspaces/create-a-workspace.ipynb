{
 "cells": [
  {
   "cell_type": "markdown",
   "id": "0",
   "metadata": {},
   "source": [
    "# Create a workspace\n",
    "\n",
    "For this example, we assume you have already obtained your authorization token and organisation ID. Insert them below."
   ]
  },
  {
   "cell_type": "code",
   "execution_count": null,
   "id": "1",
   "metadata": {},
   "outputs": [],
   "source": [
    "# See the Evo documentation for help on obtaining these values\n",
    "evo_hub_url = \"<insert Evo host address here>\"\n",
    "org_id = \"<insert org ID here>\"\n",
    "auth_token = \"<insert auth token here>\""
   ]
  },
  {
   "cell_type": "markdown",
   "id": "2",
   "metadata": {},
   "source": [
    "To create a workspace, you must give it at least a name. Other optional values include a bounding box, coordinate reference system, description, and some labels. See the API reference for more information."
   ]
  },
  {
   "cell_type": "code",
   "execution_count": null,
   "id": "3",
   "metadata": {},
   "outputs": [],
   "source": [
    "import requests\n",
    "\n",
    "payload = {\n",
    "    \"name\": \"Example workspace\",\n",
    "    \"description\": \"Created with a Jupyter notebook\",\n",
    "    \"labels\": [\"testing\", \"jupyter\"],\n",
    "    \"default_coordinate_system\": \"EPSG:7642\",\n",
    "    \"bounding_box\": {\n",
    "        \"type\": \"Polygon\",\n",
    "        \"coordinates\": [\n",
    "            [\n",
    "                [100.0, 0.0],\n",
    "                [101.0, 0.0],\n",
    "                [101.0, 1.0],\n",
    "                [100.0, 1.0],\n",
    "                [100.0, 0.0],\n",
    "            ],\n",
    "        ],\n",
    "    },\n",
    "}\n",
    "\n",
    "response = requests.post(\n",
    "    f\"https://{evo_hub_url}/workspace/orgs/{org_id}/workspaces\",\n",
    "    json=payload,\n",
    "    headers={\"Authorization\": f\"Bearer {auth_token}\"},\n",
    ")\n",
    "if response.status_code == 201:\n",
    "    workspace_id = response.json()[\"id\"]\n",
    "    print(f\"Workspace created, ID: {workspace_id}\")\n",
    "else:\n",
    "    print(response.json())"
   ]
  },
  {
   "cell_type": "markdown",
   "id": "4",
   "metadata": {},
   "source": [
    "If a workspace already exists with the name you've provided, you will receive a 409 Conflict error."
   ]
  }
 ],
 "metadata": {
  "kernelspec": {
   "display_name": "Python 3",
   "language": "python",
   "name": "python3"
  },
  "language_info": {
   "codemirror_mode": {
    "name": "ipython",
    "version": 2
   },
   "file_extension": ".py",
   "mimetype": "text/x-python",
   "name": "python",
   "nbconvert_exporter": "python",
   "pygments_lexer": "ipython2",
   "version": "2.7.6"
  }
 },
 "nbformat": 4,
 "nbformat_minor": 5
}
