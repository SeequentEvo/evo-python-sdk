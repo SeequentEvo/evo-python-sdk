{
 "cells": [
  {
   "cell_type": "markdown",
   "source": [
    "# Restore a deleted workspace\n",
    "\n",
    "For this example, we assume you have already obtained your authorization token and organisation ID. Insert them below."
   ],
   "metadata": {
    "collapsed": false
   },
   "id": "5f67243ee516924e"
  },
  {
   "cell_type": "code",
   "outputs": [],
   "source": [
    "# See the Evo documentation for help on obtaining these values\n",
    "evo_hub_url = \"<insert Evo host address here>\"\n",
    "org_id = \"<insert org ID here>\"\n",
    "auth_token = \"<insert auth token here>\""
   ],
   "metadata": {
    "collapsed": false
   },
   "id": "1e1c46d681e06390",
   "execution_count": null
  },
  {
   "cell_type": "markdown",
   "source": [
    "If a workspace has been soft-deleted, it can be restored again. You will need an \"owner\" role in the workspace to be able to restore it.\n",
    "\n",
    "If there is a new workspace that uses the same name as the workspace you are trying to restore, Evo will append a suffix to the restored workspace name. For example, restoring a deleted workspace named \"example\" while \"example\", \"example (1)\", and \"example (6)\" exist as active workspaces, will cause the restored workspace to be renamed as \"example (7)\"."
   ],
   "metadata": {
    "collapsed": false
   },
   "id": "e7f6ccbf82c65a90"
  },
  {
   "cell_type": "code",
   "outputs": [],
   "source": [
    "import requests\n",
    "\n",
    "workspace_id = \"<insert workspace ID here>\"\n",
    "\n",
    "response = requests.post(\n",
    "    f\"https://{evo_hub_url}/workspace/orgs/{org_id}/workspaces/{workspace_id}?deleted=false\",\n",
    "    headers={\"Authorization\": f\"Bearer {auth_token}\"},\n",
    ")\n",
    "if response.status_code == 204:\n",
    "    print(\"Workspace restored.\")\n",
    "else:\n",
    "    print(response.json())"
   ],
   "metadata": {
    "collapsed": false
   },
   "id": "179accf40f5000dc",
   "execution_count": null
  }
 ],
 "metadata": {
  "kernelspec": {
   "display_name": "Python 3",
   "language": "python",
   "name": "python3"
  },
  "language_info": {
   "codemirror_mode": {
    "name": "ipython",
    "version": 2
   },
   "file_extension": ".py",
   "mimetype": "text/x-python",
   "name": "python",
   "nbconvert_exporter": "python",
   "pygments_lexer": "ipython2",
   "version": "2.7.6"
  }
 },
 "nbformat": 4,
 "nbformat_minor": 5
}
