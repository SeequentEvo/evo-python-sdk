{
 "cells": [
  {
   "cell_type": "markdown",
   "source": [
    "# Update a workspace\n",
    "\n",
    "For this example, we assume you have already obtained your authorization token and organisation ID. Insert them below."
   ],
   "metadata": {
    "collapsed": false
   },
   "id": "425f66f5b9f83111"
  },
  {
   "cell_type": "code",
   "outputs": [],
   "source": [
    "# See the Evo documentation for help on obtaining these values\n",
    "evo_hub_url = \"<insert Evo host address here>\"\n",
    "org_id = \"<insert org ID here>\"\n",
    "auth_token = \"<insert auth token here>\""
   ],
   "metadata": {
    "collapsed": false
   },
   "id": "1929539d2d1c7a02",
   "execution_count": null
  },
  {
   "cell_type": "markdown",
   "source": [
    "A workspace can be updated via the Evo API. The request parameters are the same for the \"create workspace\" API, although no arguments are required when updating a workspace. See the API reference for more information."
   ],
   "metadata": {
    "collapsed": false
   },
   "id": "112e9e2ed8265ac1"
  },
  {
   "cell_type": "code",
   "outputs": [],
   "source": [
    "import requests\n",
    "\n",
    "workspace_id = \"<insert workspace ID here>\"\n",
    "\n",
    "payload = {\n",
    "    \"name\": \"Example workspace (updated)\",\n",
    "    \"description\": \"We changed the name and description using the 'update workspace' API.\",\n",
    "}\n",
    "\n",
    "response = requests.patch(\n",
    "    f\"https://{evo_hub_url}/workspace/orgs/{org_id}/workspaces/{workspace_id}\",\n",
    "    json=payload,\n",
    "    headers={\"Authorization\": f\"Bearer {auth_token}\"},\n",
    ")\n",
    "if response.ok:\n",
    "    print(\"Workspace updated.\")\n",
    "else:\n",
    "    print(response.json())"
   ],
   "metadata": {
    "collapsed": false
   },
   "id": "5c807ab2413ef7cf",
   "execution_count": null
  }
 ],
 "metadata": {
  "kernelspec": {
   "display_name": "Python 3",
   "language": "python",
   "name": "python3"
  },
  "language_info": {
   "codemirror_mode": {
    "name": "ipython",
    "version": 2
   },
   "file_extension": ".py",
   "mimetype": "text/x-python",
   "name": "python",
   "nbconvert_exporter": "python",
   "pygments_lexer": "ipython2",
   "version": "2.7.6"
  }
 },
 "nbformat": 4,
 "nbformat_minor": 5
}
