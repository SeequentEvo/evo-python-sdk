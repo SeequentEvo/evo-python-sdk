{
 "cells": [
  {
   "cell_type": "markdown",
   "id": "0",
   "metadata": {},
   "source": [
    "# Update a workspace\n",
    "\n",
    "For this example, we assume you have already obtained your authorization token and organisation ID. Insert them below."
   ]
  },
  {
   "cell_type": "code",
   "execution_count": null,
   "id": "1",
   "metadata": {},
   "outputs": [],
   "source": [
    "# See the Evo documentation for help on obtaining these values\n",
    "evo_hub_url = \"<insert Evo host address here>\"\n",
    "org_id = \"<insert org ID here>\"\n",
    "auth_token = \"<insert auth token here>\""
   ]
  },
  {
   "cell_type": "markdown",
   "id": "2",
   "metadata": {},
   "source": [
    "A workspace can be updated via the Evo API. The request parameters are the same for the \"create workspace\" API, although no arguments are required when updating a workspace. See the API reference for more information."
   ]
  },
  {
   "cell_type": "code",
   "execution_count": null,
   "id": "3",
   "metadata": {},
   "outputs": [],
   "source": [
    "import requests\n",
    "\n",
    "workspace_id = \"<insert workspace ID here>\"\n",
    "\n",
    "payload = {\n",
    "    \"name\": \"Example workspace (updated)\",\n",
    "    \"description\": \"We changed the name and description using the 'update workspace' API.\",\n",
    "}\n",
    "\n",
    "response = requests.patch(\n",
    "    f\"https://{evo_hub_url}/workspace/orgs/{org_id}/workspaces/{workspace_id}\",\n",
    "    json=payload,\n",
    "    headers={\"Authorization\": f\"Bearer {auth_token}\"},\n",
    ")\n",
    "if response.ok:\n",
    "    print(\"Workspace updated.\")\n",
    "else:\n",
    "    print(response.json())"
   ]
  }
 ],
 "metadata": {
  "kernelspec": {
   "display_name": "Python 3",
   "language": "python",
   "name": "python3"
  },
  "language_info": {
   "codemirror_mode": {
    "name": "ipython",
    "version": 2
   },
   "file_extension": ".py",
   "mimetype": "text/x-python",
   "name": "python",
   "nbconvert_exporter": "python",
   "pygments_lexer": "ipython2",
   "version": "2.7.6"
  }
 },
 "nbformat": 4,
 "nbformat_minor": 5
}
