{
 "cells": [
  {
   "cell_type": "markdown",
   "source": [
    "# List workspaces\n",
    "\n",
    "For this example, we assume you have already obtained your authorization token and organisation ID. Insert them below."
   ],
   "metadata": {
    "collapsed": false
   },
   "id": "81851c15a54ff612"
  },
  {
   "cell_type": "code",
   "outputs": [],
   "source": [
    "# See the Evo documentation for help on obtaining these values\n",
    "evo_hub_url = \"<insert Evo host address here>\"\n",
    "org_id = \"<insert org ID here>\"\n",
    "auth_token = \"<insert auth token here>\""
   ],
   "metadata": {
    "collapsed": false
   },
   "id": "8066ea68cbb0353f",
   "execution_count": null
  },
  {
   "cell_type": "markdown",
   "source": [
    "A list of workspaces can be retrieved. The response will be paginated."
   ],
   "metadata": {
    "collapsed": false
   },
   "id": "3fbbe59ba958e400"
  },
  {
   "cell_type": "code",
   "outputs": [],
   "source": [
    "import requests\n",
    "\n",
    "response = requests.get(\n",
    "    f\"https://{evo_hub_url}/workspace/orgs/{org_id}/workspaces\",\n",
    "    headers={\"Authorization\": f\"Bearer {auth_token}\"},\n",
    ")\n",
    "response_json = response.json()\n",
    "if response.ok:\n",
    "    print(response_json[\"results\"])\n",
    "else:\n",
    "    print(response_json)"
   ],
   "metadata": {
    "collapsed": false
   },
   "id": "370421b8f252da4",
   "execution_count": null
  },
  {
   "cell_type": "markdown",
   "source": [
    "## Filtering\n",
    "\n",
    "Optional filters may be applied to the query:\n",
    "\n",
    "* `filter[user_id]:` Filters workspaces that are accessible by a user\n",
    "* `filter[created_by]:` Filters workspaces that are created by a user\n",
    "* `filter[created_at]:` Filters workspaces based on creation time (operators: `eq`, `lt`, `lte`, `gt`, `gte`)\n",
    "* `filter[updated_at]:` Filters workspaces based on updated time (operators: `eq`, `lt`, `lte`, `gt`, `gte`)\n",
    "* `name=[operator]:[value]` Filters workspaces based on their name (operators: `eq`)\n",
    "* `deleted` Filters workspaces based on their deletion status"
   ],
   "metadata": {
    "collapsed": false
   },
   "id": "50e95811e09005f4"
  },
  {
   "cell_type": "code",
   "outputs": [],
   "source": [
    "response = requests.get(\n",
    "    f\"https://{evo_hub_url}/workspace/orgs/{org_id}/workspaces?name=eq:Example%20workspace\",\n",
    "    headers={\"Authorization\": f\"Bearer {auth_token}\"},\n",
    ")\n",
    "response_json = response.json()\n",
    "if response.ok:\n",
    "    print(response_json[\"results\"])\n",
    "else:\n",
    "    print(response_json)"
   ],
   "metadata": {
    "collapsed": false
   },
   "id": "adb2219b8eaa1ade",
   "execution_count": null
  },
  {
   "cell_type": "markdown",
   "source": [
    "## Including deleted workspaces\n",
    "\n",
    "Soft-deleted workspaces are excluded from \"get workspace\" and \"list workspaces\" responses by default. You can append `deleted=false` to your request arguments to include them."
   ],
   "metadata": {
    "collapsed": false
   },
   "id": "df8d38de17aa2127"
  },
  {
   "cell_type": "markdown",
   "source": [
    "## Pagination\n",
    "\n",
    "You can specify the number of entries (limit) as well as the position to begin listing entries until the limit (offset)."
   ],
   "metadata": {
    "collapsed": false
   },
   "id": "bae82acd4503131f"
  },
  {
   "cell_type": "code",
   "outputs": [],
   "source": [
    "response = requests.get(\n",
    "    f\"https://{evo_hub_url}/workspace/orgs/{org_id}/workspaces?limit=1&offset=2\",\n",
    "    headers={\"Authorization\": f\"Bearer {auth_token}\"},\n",
    ")\n",
    "response_json = response.json()\n",
    "if response.ok:\n",
    "    print(response_json[\"results\"])\n",
    "else:\n",
    "    print(response_json)"
   ],
   "metadata": {
    "collapsed": false
   },
   "id": "2388da7671fdf45e",
   "execution_count": null
  }
 ],
 "metadata": {
  "kernelspec": {
   "display_name": "Python 3",
   "language": "python",
   "name": "python3"
  },
  "language_info": {
   "codemirror_mode": {
    "name": "ipython",
    "version": 2
   },
   "file_extension": ".py",
   "mimetype": "text/x-python",
   "name": "python",
   "nbconvert_exporter": "python",
   "pygments_lexer": "ipython2",
   "version": "2.7.6"
  }
 },
 "nbformat": 4,
 "nbformat_minor": 5
}
