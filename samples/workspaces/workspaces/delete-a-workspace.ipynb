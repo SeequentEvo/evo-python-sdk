{
 "cells": [
  {
   "cell_type": "markdown",
   "source": [
    "# Delete a workspace\n",
    "\n",
    "For this example, we assume you have already obtained your authorization token and organisation ID. Insert them below."
   ],
   "metadata": {
    "collapsed": false
   },
   "id": "db2a7ed3b1b9cdd"
  },
  {
   "cell_type": "code",
   "outputs": [],
   "source": [
    "# See the Evo documentation for help on obtaining these values\n",
    "evo_hub_url = \"<insert Evo host address here>\"\n",
    "org_id = \"<insert org ID here>\"\n",
    "auth_token = \"<insert auth token here>\""
   ],
   "metadata": {
    "collapsed": false
   },
   "id": "b02f1f5d733ecff8",
   "execution_count": null
  },
  {
   "cell_type": "markdown",
   "source": [
    "A workspace can be deleted using the Evo API. When you delete a workspace, it will be soft-deleted. Deleted workspaces will no longer be accessible through \"get workspaces\" or \"list workspaces\" by default. You can include them in these API requests by appending `deleted=true` to your request arguments.\n",
    "\n",
    "Deleting a workspace will return a 204 HTTP status code, as will subsequent requests to delete it."
   ],
   "metadata": {
    "collapsed": false
   },
   "id": "7684b5693b81edd4"
  },
  {
   "cell_type": "code",
   "outputs": [],
   "source": [
    "import requests\n",
    "\n",
    "workspace_id = \"<insert workspace ID here>\"\n",
    "\n",
    "response = requests.delete(\n",
    "    f\"https://{evo_hub_url}/workspace/orgs/{org_id}/workspaces/{workspace_id}\",\n",
    "    headers={\"Authorization\": f\"Bearer {auth_token}\"},\n",
    ")\n",
    "if response.status_code == 204:\n",
    "    print(\"Workspace deleted.\")\n",
    "else:\n",
    "    print(response.json())"
   ],
   "metadata": {
    "collapsed": false
   },
   "id": "f7fcbed8a0d7204e",
   "execution_count": null
  },
  {
   "cell_type": "markdown",
   "source": [
    "Once a workspace has been deleted, it can be restored again."
   ],
   "metadata": {
    "collapsed": false
   },
   "id": "45eaa6badae396d2"
  }
 ],
 "metadata": {
  "kernelspec": {
   "display_name": "Python 3",
   "language": "python",
   "name": "python3"
  },
  "language_info": {
   "codemirror_mode": {
    "name": "ipython",
    "version": 2
   },
   "file_extension": ".py",
   "mimetype": "text/x-python",
   "name": "python",
   "nbconvert_exporter": "python",
   "pygments_lexer": "ipython2",
   "version": "2.7.6"
  }
 },
 "nbformat": 4,
 "nbformat_minor": 5
}
