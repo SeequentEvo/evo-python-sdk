{
 "cells": [
  {
   "cell_type": "markdown",
   "source": [
    "# Retrieve a workspace\n",
    "\n",
    "For this example, we assume you have already obtained your authorization token and organisation ID. Insert them below."
   ],
   "metadata": {
    "collapsed": false
   },
   "id": "caaa4a82009c986e"
  },
  {
   "cell_type": "code",
   "outputs": [],
   "source": [
    "# See the Evo documentation for help on obtaining these values\n",
    "evo_hub_url = \"<insert Evo host address here>\"\n",
    "org_id = \"<insert org ID here>\"\n",
    "auth_token = \"<insert auth token here>\""
   ],
   "metadata": {
    "collapsed": false
   },
   "id": "d9a5e00f1cfb9ecc",
   "execution_count": null
  },
  {
   "cell_type": "markdown",
   "source": [
    "You can retrieve a specific workspace by its ID."
   ],
   "metadata": {
    "collapsed": false
   },
   "id": "527c6caf98f0e2f5"
  },
  {
   "cell_type": "code",
   "outputs": [],
   "source": [
    "import requests\n",
    "\n",
    "workspace_id = \"<insert workspace ID here>\"\n",
    "\n",
    "response = requests.get(\n",
    "    f\"https://{evo_hub_url}/workspace/orgs/{org_id}/workspaces/{workspace_id}\",\n",
    "    headers={\"Authorization\": f\"Bearer {auth_token}\"},\n",
    ")\n",
    "response.json()"
   ],
   "metadata": {
    "collapsed": false
   },
   "id": "7d011437cb689469",
   "execution_count": null
  },
  {
   "cell_type": "markdown",
   "source": [
    "## Including deleted workspaces\n",
    "\n",
    "Soft-deleted workspaces are excluded from \"get workspace\" and \"list workspaces\" responses by default. You can append `deleted=false` to your request arguments to include them."
   ],
   "metadata": {
    "collapsed": false
   },
   "id": "723f19a54dfc7b77"
  }
 ],
 "metadata": {
  "kernelspec": {
   "display_name": "Python 3",
   "language": "python",
   "name": "python3"
  },
  "language_info": {
   "codemirror_mode": {
    "name": "ipython",
    "version": 2
   },
   "file_extension": ".py",
   "mimetype": "text/x-python",
   "name": "python",
   "nbconvert_exporter": "python",
   "pygments_lexer": "ipython2",
   "version": "2.7.6"
  }
 },
 "nbformat": 4,
 "nbformat_minor": 5
}
