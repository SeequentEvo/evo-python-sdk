{
 "cells": [
  {
   "cell_type": "markdown",
   "source": [
    "# Retrieve current user's role\n",
    "\n",
    "For this example, we assume you have already obtained your authorization token and organisation ID. Insert them below."
   ],
   "metadata": {
    "collapsed": false
   },
   "id": "4ee920697587c28c"
  },
  {
   "cell_type": "code",
   "outputs": [],
   "source": [
    "# See the Evo documentation for help on obtaining these values\n",
    "evo_hub_url = \"<insert Evo host address here>\"\n",
    "org_id = \"<insert org ID here>\"\n",
    "workspace_id = \"<insert workspace ID here>\"\n",
    "user_id = \"<insert your user ID here>\"\n",
    "auth_token = \"<insert auth token here>\""
   ],
   "metadata": {
    "collapsed": false
   },
   "id": "65ecc546ad2b953e",
   "execution_count": null
  },
  {
   "cell_type": "markdown",
   "source": [
    "The current user's role can be retrieved. This can also be achieved using filtering on the \"list user roles\" API."
   ],
   "metadata": {
    "collapsed": false
   },
   "id": "fd0c3ce2bd7273bf"
  },
  {
   "cell_type": "code",
   "outputs": [],
   "source": [
    "import requests\n",
    "\n",
    "response = requests.get(\n",
    "    f\"https://{evo_hub_url}/workspace/orgs/{org_id}/workspaces/{workspace_id}/current-user-role\",\n",
    "    headers={\"Authorization\": f\"Bearer {auth_token}\"},\n",
    ")\n",
    "response.json()"
   ],
   "metadata": {
    "collapsed": false
   },
   "id": "7669c4126c9d6c1c",
   "execution_count": null
  }
 ],
 "metadata": {
  "kernelspec": {
   "display_name": "Python 3",
   "language": "python",
   "name": "python3"
  },
  "language_info": {
   "codemirror_mode": {
    "name": "ipython",
    "version": 2
   },
   "file_extension": ".py",
   "mimetype": "text/x-python",
   "name": "python",
   "nbconvert_exporter": "python",
   "pygments_lexer": "ipython2",
   "version": "2.7.6"
  }
 },
 "nbformat": 4,
 "nbformat_minor": 5
}
