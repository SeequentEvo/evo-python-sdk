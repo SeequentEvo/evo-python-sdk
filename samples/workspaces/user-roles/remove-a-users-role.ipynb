{
 "cells": [
  {
   "cell_type": "markdown",
   "id": "0",
   "metadata": {},
   "source": [
    "# Remove a user's role\n",
    "\n",
    "For this example, we assume you have already obtained your authorization token and organisation ID. Insert them below."
   ]
  },
  {
   "cell_type": "code",
   "execution_count": null,
   "id": "1",
   "metadata": {},
   "outputs": [],
   "source": [
    "# See the Evo documentation for help on obtaining these values\n",
    "evo_hub_url = \"<insert Evo host address here>\"\n",
    "org_id = \"<insert org ID here>\"\n",
    "workspace_id = \"<insert workspace ID here>\"\n",
    "user_id = \"<insert your user ID here>\"\n",
    "auth_token = \"<insert auth token here>\""
   ]
  },
  {
   "cell_type": "markdown",
   "id": "2",
   "metadata": {},
   "source": [
    "You can remove a user's role/access to a workspace entirely."
   ]
  },
  {
   "cell_type": "code",
   "execution_count": null,
   "id": "3",
   "metadata": {},
   "outputs": [],
   "source": [
    "import requests\n",
    "\n",
    "response = requests.delete(\n",
    "    f\"https://{evo_hub_url}/workspace/orgs/{org_id}/workspaces/{workspace_id}/users/{user_id}\",\n",
    "    headers={\"Authorization\": f\"Bearer {auth_token}\"},\n",
    ")\n",
    "if response.ok:\n",
    "    print(\"User removed from workspace.\")\n",
    "else:\n",
    "    print(response.json())"
   ]
  }
 ],
 "metadata": {
  "kernelspec": {
   "display_name": "Python 3",
   "language": "python",
   "name": "python3"
  },
  "language_info": {
   "codemirror_mode": {
    "name": "ipython",
    "version": 2
   },
   "file_extension": ".py",
   "mimetype": "text/x-python",
   "name": "python",
   "nbconvert_exporter": "python",
   "pygments_lexer": "ipython2",
   "version": "2.7.6"
  }
 },
 "nbformat": 4,
 "nbformat_minor": 5
}
