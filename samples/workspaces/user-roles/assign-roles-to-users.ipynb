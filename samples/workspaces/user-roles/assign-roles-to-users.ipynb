{
 "cells": [
  {
   "cell_type": "markdown",
   "source": [
    "# Assign roles to users\n",
    "\n",
    "For this example, we assume you have already obtained your authorization token and organisation ID. Insert them below."
   ],
   "metadata": {
    "collapsed": false
   },
   "id": "b2fbc6cb9e408c27"
  },
  {
   "cell_type": "code",
   "outputs": [],
   "source": [
    "# See the Evo documentation for help on obtaining these values\n",
    "evo_hub_url = \"<insert Evo host address here>\"\n",
    "org_id = \"<insert org ID here>\"\n",
    "workspace_id = \"<insert workspace ID here>\"\n",
    "user_id = \"<insert your user ID here>\"\n",
    "auth_token = \"<insert auth token here>\""
   ],
   "metadata": {
    "collapsed": false
   },
   "id": "3452af3a15bf4cb0",
   "execution_count": null
  },
  {
   "cell_type": "markdown",
   "source": [
    "You can assign a role to a user. Possible roles are `viewer` (read access), `editor` (write access), and `owner` (admin access).\n",
    "\n",
    "You cannot assign a user a role that is higher than your own. For example, if you have an \"editor\" role, you cannot assign an \"owner\" role to anyone (including yourself)."
   ],
   "metadata": {
    "collapsed": false
   },
   "id": "c24e56b9795d67d6"
  },
  {
   "cell_type": "code",
   "outputs": [],
   "source": [
    "import requests\n",
    "\n",
    "payload = {\n",
    "    \"role\": \"editor\",\n",
    "    \"user_id\": user_id,\n",
    "}\n",
    "\n",
    "response = requests.post(\n",
    "    f\"https://{evo_hub_url}/workspace/orgs/{org_id}/workspaces/{workspace_id}/users\",\n",
    "    json=payload,\n",
    "    headers={\"Authorization\": f\"Bearer {auth_token}\"},\n",
    ")\n",
    "if response.ok:\n",
    "    print(\"User role assigned successfully.\")\n",
    "else:\n",
    "    print(response.json())"
   ],
   "metadata": {
    "collapsed": false
   },
   "id": "ac02b7107a959bdf",
   "execution_count": null
  }
 ],
 "metadata": {
  "kernelspec": {
   "display_name": "Python 3",
   "language": "python",
   "name": "python3"
  },
  "language_info": {
   "codemirror_mode": {
    "name": "ipython",
    "version": 2
   },
   "file_extension": ".py",
   "mimetype": "text/x-python",
   "name": "python",
   "nbconvert_exporter": "python",
   "pygments_lexer": "ipython2",
   "version": "2.7.6"
  }
 },
 "nbformat": 4,
 "nbformat_minor": 5
}
