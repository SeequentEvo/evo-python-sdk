{
 "cells": [
  {
   "cell_type": "markdown",
   "source": [
    "# List user roles\n",
    "\n",
    "For this example, we assume you have already obtained your authorization token and organisation ID. Insert them below."
   ],
   "metadata": {
    "collapsed": false
   },
   "id": "1da922b4039815c7"
  },
  {
   "cell_type": "code",
   "outputs": [],
   "source": [
    "# See the Evo documentation for help on obtaining these values\n",
    "evo_hub_url = \"<insert Evo host address here>\"\n",
    "org_id = \"<insert org ID here>\"\n",
    "workspace_id = \"<insert workspace ID here>\"\n",
    "auth_token = \"<insert auth token here>\""
   ],
   "metadata": {
    "collapsed": false
   },
   "id": "7868928a3011e0e6",
   "execution_count": null
  },
  {
   "cell_type": "markdown",
   "source": [
    "You can list all users and their roles for a workspace:"
   ],
   "metadata": {
    "collapsed": false
   },
   "id": "b6e39c14afaf477f"
  },
  {
   "cell_type": "code",
   "outputs": [],
   "source": [
    "import requests\n",
    "\n",
    "response = requests.get(\n",
    "    f\"https://{evo_hub_url}/workspace/orgs/{org_id}/workspaces/{workspace_id}/users\",\n",
    "    headers={\"Authorization\": f\"Bearer {auth_token}\"},\n",
    ")\n",
    "response_json = response.json()\n",
    "if response.ok:\n",
    "    print(response_json[\"results\"])\n",
    "else:\n",
    "    print(response_json)"
   ],
   "metadata": {
    "collapsed": false
   },
   "id": "28eac2cf893fead9",
   "execution_count": null
  },
  {
   "cell_type": "markdown",
   "source": [
    "## Filtering\n",
    "\n",
    "You can add optional request parameters to filter the results:\n",
    "\n",
    "* `filter[user_id]`: Filters users based on their ID"
   ],
   "metadata": {
    "collapsed": false
   },
   "id": "ab081084fef270dc"
  },
  {
   "cell_type": "code",
   "outputs": [],
   "source": [
    "user_id = \"<insert user ID here>\"\n",
    "\n",
    "response = requests.get(\n",
    "    f\"https://{evo_hub_url}/workspace/orgs/{org_id}/workspaces/{workspace_id}/users?filter[user_id]={user_id}\",\n",
    "    headers={\"Authorization\": f\"Bearer {auth_token}\"},\n",
    ")\n",
    "response_json = response.json()\n",
    "if response.ok:\n",
    "    print(response_json[\"results\"])\n",
    "else:\n",
    "    print(response_json)"
   ],
   "metadata": {
    "collapsed": false
   },
   "id": "d9002318167c26d5",
   "execution_count": null
  }
 ],
 "metadata": {
  "kernelspec": {
   "display_name": "Python 3",
   "language": "python",
   "name": "python3"
  },
  "language_info": {
   "codemirror_mode": {
    "name": "ipython",
    "version": 2
   },
   "file_extension": ".py",
   "mimetype": "text/x-python",
   "name": "python",
   "nbconvert_exporter": "python",
   "pygments_lexer": "ipython2",
   "version": "2.7.6"
  }
 },
 "nbformat": 4,
 "nbformat_minor": 5
}
