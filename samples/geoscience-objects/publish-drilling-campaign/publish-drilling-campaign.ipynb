{
 "cells": [
  {
   "cell_type": "markdown",
   "id": "0",
   "metadata": {},
   "source": [
    "## Publish a Drilling Campaign object\n",
    "\n",
    "This example shows how to convert drilling campaign data in CSV format into an Evo geoscience object using the Evo Python SDK.\n",
    "\n",
    "### Requirements\n",
    "\n",
    "You must have a Seequent account with the Evo entitlement to use this notebook.\n",
    "\n",
    "The following parameters must be provided:\n",
    "\n",
    "- The client ID of your Evo application.\n",
    "- The callback/redirect URL of your Evo application.\n",
    "\n",
    "To obtain these app credentials, refer to the [Apps and tokens guide](https://developer.seequent.com/docs/guides/getting-started/apps-and-tokens) in the Seequent Developer Portal."
   ]
  },
  {
   "cell_type": "code",
   "execution_count": null,
   "id": "1",
   "metadata": {},
   "outputs": [],
   "source": [
    "import uuid\n",
    "\n",
    "import pandas as pd\n",
    "from evo_schemas.components import (\n",
    "    BoundingBox_V1_0_1,\n",
    "    CategoryAttribute_V1_1_0,\n",
    "    CategoryData_V1_0_1,\n",
    "    Crs_V1_0_1_EpsgCode,\n",
    "    HoleChunks_V1_0_0,\n",
    "    HoleCollars_V1_0_0,\n",
    "    NanCategorical_V1_0_1,\n",
    "    StringAttribute_V1_1_0,\n",
    ")\n",
    "from evo_schemas.elements import (\n",
    "    FloatArray3_V1_0_1,\n",
    "    FloatArray6_V1_0_1,\n",
    "    IntegerArray1_V1_0_1,\n",
    "    LookupTable_V1_0_1,\n",
    "    StringArray_V1_0_1,\n",
    ")\n",
    "from evo_schemas.objects import (\n",
    "    DrillingCampaign_V1_0_0,\n",
    "    DrillingCampaign_V1_0_0_Planned,\n",
    "    DrillingCampaign_V1_0_0_Planned_Path_NaturalDeviation,\n",
    ")\n",
    "\n",
    "from evo.notebooks import FeedbackWidget, ServiceManagerWidget\n",
    "from evo.objects import ObjectAPIClient\n",
    "\n",
    "cache_location = \"data\"\n",
    "input_path = f\"{cache_location}/input\"\n",
    "\n",
    "# Evo app credentials\n",
    "client_id = \"<your-client-id>\"\n",
    "redirect_url = \"<your-redirect-url>\"\n",
    "\n",
    "manager = await ServiceManagerWidget.with_auth_code(\n",
    "    discovery_url=\"https://discover.api.seequent.com\",\n",
    "    redirect_url=redirect_url,\n",
    "    client_id=client_id,\n",
    "    cache_location=cache_location,\n",
    ").login()"
   ]
  },
  {
   "cell_type": "markdown",
   "id": "2",
   "metadata": {},
   "source": [
    "### Use the Evo Python SDK to create an object client and a data client"
   ]
  },
  {
   "cell_type": "code",
   "execution_count": null,
   "id": "3",
   "metadata": {},
   "outputs": [],
   "source": [
    "# The object client will manage your auth token and Geoscience Object API requests.\n",
    "object_client = ObjectAPIClient(manager.get_environment(), manager.get_connector())\n",
    "\n",
    "# The data client will manage saving your data as Parquet and publishing your data to Evo storage.\n",
    "data_client = object_client.get_data_client(manager.cache)"
   ]
  },
  {
   "cell_type": "markdown",
   "id": "4",
   "metadata": {},
   "source": [
    "### Define helper functions\n",
    "\n",
    "These functions assist with assembling the elements and components of geoscience objects and for viewing the new object in the Evo portal."
   ]
  },
  {
   "cell_type": "code",
   "execution_count": null,
   "id": "5",
   "metadata": {},
   "outputs": [],
   "source": [
    "import numpy as np\n",
    "\n",
    "\n",
    "def create_hole_id_mapping(hole_id_table, value_list):\n",
    "    \"\"\"\n",
    "    Create a hole ID mapping table based on the hole ID table and the value list.\n",
    "\n",
    "    Args:\n",
    "        hole_id_table (pd.DataFrame): The hole ID lookup table.\n",
    "        value_list (pd.DataFrame): The value list to create the mapping from.\n",
    "\n",
    "    Returns:\n",
    "        mapping_df (pd.DataFrame): The hole ID mapping table.\n",
    "    \"\"\"\n",
    "\n",
    "    num_keys = len(hole_id_table.index)\n",
    "\n",
    "    mapping_df = pd.DataFrame(list())\n",
    "    mapping_df[\"hole_index\"] = hole_id_table[\"key\"] - 1\n",
    "    mapping_df[\"offset\"] = [0] * num_keys\n",
    "    mapping_df[\"count\"] = [0] * num_keys\n",
    "\n",
    "    print(mapping_df.head())\n",
    "\n",
    "    mapping_df[\"hole_index\"] = mapping_df[\"hole_index\"].astype(\"int32\")\n",
    "    mapping_df[\"offset\"] = mapping_df[\"offset\"].astype(\"uint64\")\n",
    "    mapping_df[\"count\"] = mapping_df[\"count\"].astype(\"uint64\")\n",
    "\n",
    "    print(mapping_df.head())\n",
    "\n",
    "    prev_value = \"\"\n",
    "    key = \"\"\n",
    "    count = 0\n",
    "    offset = 0\n",
    "\n",
    "    for index, row in value_list.iterrows():\n",
    "        new_value = row[\"data\"]\n",
    "\n",
    "        if new_value != prev_value:\n",
    "            if prev_value != \"\":\n",
    "                mapping_df.loc[mapping_df[\"hole_index\"] == key, \"count\"] = count\n",
    "                mapping_df.loc[mapping_df[\"hole_index\"] == key, \"offset\"] = offset\n",
    "                offset += count\n",
    "\n",
    "            mask = hole_id_table[\"value\"] == new_value\n",
    "            masked_df = hole_id_table[mask]\n",
    "            try:\n",
    "                key_row = masked_df.iloc[[0]]\n",
    "            except IndexError:\n",
    "                print(\"Ignoring this hole ID\")\n",
    "                continue\n",
    "\n",
    "            key = key_row[\"key\"].iloc[0] - 1\n",
    "            count = 1\n",
    "            prev_value = new_value\n",
    "        else:\n",
    "            count += 1\n",
    "\n",
    "    mapping_df.loc[mapping_df[\"hole_index\"] == key, \"count\"] = count\n",
    "    mapping_df.loc[mapping_df[\"hole_index\"] == key, \"offset\"] = offset\n",
    "\n",
    "    return mapping_df\n",
    "\n",
    "\n",
    "def create_category_lookup_and_values(attribute):\n",
    "    \"\"\"\n",
    "    Create a category lookup table and the associated column of mapped key values.\n",
    "\n",
    "    Args:\n",
    "        attribute (pd.DataFrame): An attribute of a geoscience object.\n",
    "\n",
    "    Returns:\n",
    "        table_df (pd.DataFrame): The category lookup table.\n",
    "        values_df (pd.DataFrame): The associated column with mapped key values.\n",
    "    \"\"\"\n",
    "\n",
    "    # Replace NaN with empty string\n",
    "    attribute.replace(np.nan, \"\", regex=True, inplace=True)\n",
    "    set_obj = set(attribute[\"data\"])\n",
    "    list_obj = list(set_obj)\n",
    "    list_obj.sort()\n",
    "    num_unique_elements = len(list_obj)\n",
    "\n",
    "    # Create lookup table\n",
    "    table_df = pd.DataFrame([])\n",
    "    table_df[\"key\"] = list(range(1, num_unique_elements + 1))\n",
    "    table_df[\"value\"] = list_obj\n",
    "\n",
    "    # Create data column\n",
    "    values_df = pd.DataFrame([])\n",
    "    values_df[\"data\"] = attribute[\"data\"].map(table_df.set_index(\"value\")[\"key\"])\n",
    "    return table_df, values_df"
   ]
  },
  {
   "cell_type": "markdown",
   "id": "6",
   "metadata": {},
   "source": [
    "### Define object metadata\n",
    "\n",
    "Geoscience object data must conform to a specific object schema. The `evo-schemas` package provides Pydantic models that make it easy to work with the equivalent JSON schemas. \n",
    "For this example we'll use v1.0.0 of the drilling-campaign schema, via the relevant Pydantic model.\n",
    "\n",
    "Enter values for these parameters that are required by the pointset schema.\n",
    "- `object_hole_id`: The column name that represents your hole ID. This value should be the same across all input files.\n",
    "- `object_name`: The name of the object.\n",
    "- `object_path`: The file path where the object will be found.\n",
    "- `object_epsg_code`: (Optional) The EPSG region code that matches the location of your data. Leave as `None` if not required.\n",
    "- `object_tags`: (Optional) A dictionary of additional tags to be assigned to the object. Leave as `None` is not required."
   ]
  },
  {
   "cell_type": "code",
   "execution_count": null,
   "id": "7",
   "metadata": {},
   "outputs": [],
   "source": [
    "# Set the name of the hole ID parameter in the data.\n",
    "object_hole_id = \"hole_id\"\n",
    "\n",
    "# Set other object properties.\n",
    "object_name = \"Drilling_campaign_SDK_demo\"\n",
    "object_path = \"Jupyter_Example\"\n",
    "object_epsg_code = 32650\n",
    "object_tags = {\"Source\": \"Jupyter Notebook\"}\n",
    "\n",
    "# Define a coordinate reference system (CRS) for the object.\n",
    "coordinate_reference_system = Crs_V1_0_1_EpsgCode(epsg_code=object_epsg_code)\n",
    "\n",
    "# Create an empty list to store geoscience object collections.\n",
    "collections = []\n",
    "\n",
    "# Define the object path.\n",
    "full_obj_path = f\"{object_path}/{object_name}.json\""
   ]
  },
  {
   "cell_type": "markdown",
   "id": "8",
   "metadata": {},
   "source": [
    "### Define object attributes and keys"
   ]
  },
  {
   "cell_type": "code",
   "execution_count": null,
   "id": "9",
   "metadata": {},
   "outputs": [],
   "source": [
    "# List all of the attributes to be included in the object. Every attribute must have a unique key associated with it.\n",
    "# Keys must be unique across the entire object, and we recommend saving a reference to the keys for later use.\n",
    "collar_attributes = [\n",
    "    {\n",
    "        \"name\": \"Comments\",\n",
    "        \"key\": str(uuid.uuid4()),\n",
    "        \"type\": \"string\",\n",
    "    }\n",
    "]"
   ]
  },
  {
   "cell_type": "markdown",
   "id": "10",
   "metadata": {},
   "source": [
    "## Collar data"
   ]
  },
  {
   "cell_type": "code",
   "execution_count": null,
   "id": "11",
   "metadata": {},
   "outputs": [],
   "source": [
    "# Define input and output file paths.\n",
    "input_file_path = f\"{input_path}/collar.csv\"\n",
    "\n",
    "# Load the collar file, count the number of hole IDs and sort the data based on the hole ID.\n",
    "input_df = pd.read_csv(input_file_path)\n",
    "print(input_df.head())\n",
    "num_hole_ids = len(input_df.index)\n",
    "sorted_collar_df = input_df.sort_values([object_hole_id]).reset_index(drop=True)"
   ]
  },
  {
   "cell_type": "markdown",
   "id": "12",
   "metadata": {},
   "source": [
    "### Hole ID table"
   ]
  },
  {
   "cell_type": "markdown",
   "id": "13",
   "metadata": {},
   "source": [
    "Components in the drilling campaign object will reference the hole IDs defined in the collar table.\n",
    "\n",
    "This means that we must create a 2-column dataframe that maps a unique `key` to a `hole ID`.\n",
    "\n",
    "The `planned` and `interim` sections of the drilling campaign object makes use of this mapping, so we provide a 1-column dataframe that lists the keys in the order they are displayed in the input file."
   ]
  },
  {
   "cell_type": "code",
   "execution_count": null,
   "id": "14",
   "metadata": {},
   "outputs": [],
   "source": [
    "# Create a dataframe for the hole IDs.\n",
    "hole_id_table_df = pd.DataFrame()\n",
    "hole_id_table_df[\"key\"] = [i for i in range(1, num_hole_ids + 1)]\n",
    "hole_id_table_df[\"value\"] = sorted_collar_df[object_hole_id]\n",
    "hole_id_table_component = LookupTable_V1_0_1.from_dict(data_client.save_dataframe(hole_id_table_df))\n",
    "print(hole_id_table_df.head())"
   ]
  },
  {
   "cell_type": "markdown",
   "id": "15",
   "metadata": {},
   "source": [
    "### Hole ID values"
   ]
  },
  {
   "cell_type": "code",
   "execution_count": null,
   "id": "16",
   "metadata": {},
   "outputs": [],
   "source": [
    "# Create a dataframe and generate a list from 1 to `n`, where `n` is the number of hole IDs.\n",
    "# This table represents the list of hole IDs created in the previous step.\n",
    "hole_id_values_df = pd.DataFrame()\n",
    "hole_id_values_df[\"data\"] = [i for i in range(1, num_hole_ids + 1)]\n",
    "hole_id_values_component = IntegerArray1_V1_0_1.from_dict(data_client.save_dataframe(hole_id_values_df))\n",
    "\n",
    "hole_id_component = CategoryData_V1_0_1(\n",
    "    table=hole_id_table_component,\n",
    "    values=hole_id_values_component,\n",
    ")\n",
    "\n",
    "print(hole_id_component)"
   ]
  },
  {
   "cell_type": "markdown",
   "id": "17",
   "metadata": {},
   "source": [
    "### Coordinates"
   ]
  },
  {
   "cell_type": "code",
   "execution_count": null,
   "id": "18",
   "metadata": {},
   "outputs": [],
   "source": [
    "# Create a dataframe and copy the required columns.\n",
    "coordinates_df = input_df[[\"x\", \"y\", \"z\"]]\n",
    "\n",
    "# Create a `BoundingBox_V1_0_1` component for the bounding box.\n",
    "bounding_box = BoundingBox_V1_0_1(\n",
    "    min_x=coordinates_df[\"x\"].min(),\n",
    "    max_x=coordinates_df[\"x\"].max(),\n",
    "    min_y=coordinates_df[\"y\"].min(),\n",
    "    max_y=coordinates_df[\"y\"].max(),\n",
    "    min_z=coordinates_df[\"z\"].min(),\n",
    "    max_z=coordinates_df[\"z\"].max(),\n",
    ")\n",
    "\n",
    "# Create a `FloatArray3_V1_0_1` element for the coordinates.\n",
    "coordinates_component = FloatArray3_V1_0_1.from_dict(data_client.save_dataframe(coordinates_df))"
   ]
  },
  {
   "cell_type": "markdown",
   "id": "19",
   "metadata": {},
   "source": [
    "### Distances"
   ]
  },
  {
   "cell_type": "code",
   "execution_count": null,
   "id": "20",
   "metadata": {},
   "outputs": [],
   "source": [
    "# Create a distances dataframe and copy the required columns.\n",
    "# NOTE: The drilling campaign object requires 3 columns: `final`, `target` and `current`,\n",
    "distances_df = input_df[[\"final\", \"target\", \"current\"]]\n",
    "\n",
    "# Create a `FloatArray3_V1_0_1` element for the distances.\n",
    "distances_component = FloatArray3_V1_0_1.from_dict(data_client.save_dataframe(distances_df))"
   ]
  },
  {
   "cell_type": "markdown",
   "id": "21",
   "metadata": {},
   "source": [
    "### Attributes"
   ]
  },
  {
   "cell_type": "code",
   "execution_count": null,
   "id": "22",
   "metadata": {},
   "outputs": [],
   "source": [
    "attributes = []\n",
    "\n",
    "for collar_attribute in collar_attributes:\n",
    "    name = collar_attribute[\"name\"]\n",
    "    key = collar_attribute[\"key\"]\n",
    "    type = collar_attribute[\"type\"]\n",
    "\n",
    "    attribute_df = pd.DataFrame()\n",
    "    attribute_df[\"data\"] = input_df[name]\n",
    "\n",
    "    if type == \"string\":\n",
    "        attribute_df = attribute_df.astype(str).reset_index(drop=True)\n",
    "        values = StringArray_V1_0_1.from_dict(data_client.save_dataframe(attribute_df))\n",
    "        attribute = StringAttribute_V1_1_0(name=name, key=key, values=values)\n",
    "    elif type == \"category\":\n",
    "        attribute_df = attribute_df.astype(str).reset_index(drop=True)\n",
    "        table_df, values_df = create_category_lookup_and_values(attribute_df)\n",
    "\n",
    "        table = LookupTable_V1_0_1.from_dict(data_client.save_dataframe(table_df))\n",
    "        values = IntegerArray1_V1_0_1.from_dict(data_client.save_dataframe(values_df))\n",
    "\n",
    "        attribute = CategoryAttribute_V1_1_0(\n",
    "            name=name, key=key, nan_description=NanCategorical_V1_0_1(values=[]), table=table, values=values\n",
    "        )\n",
    "    else:\n",
    "        print(f\"Unsupported attribute type: {type}\")\n",
    "        continue\n",
    "\n",
    "    attributes.append(attribute)\n",
    "\n",
    "print(attributes)"
   ]
  },
  {
   "cell_type": "markdown",
   "id": "23",
   "metadata": {},
   "source": [
    "## Planned data"
   ]
  },
  {
   "cell_type": "code",
   "execution_count": null,
   "id": "24",
   "metadata": {},
   "outputs": [],
   "source": [
    "# Define input and output file paths.\n",
    "input_file_path = f\"{input_path}/planned.csv\"\n",
    "\n",
    "# Load the file.\n",
    "df = pd.read_csv(input_file_path)\n",
    "df = df.sort_values([object_hole_id]).reset_index(drop=True)\n",
    "df.head()"
   ]
  },
  {
   "cell_type": "markdown",
   "id": "25",
   "metadata": {},
   "source": [
    "### Path\n",
    "\n",
    "Natural deviation"
   ]
  },
  {
   "cell_type": "code",
   "execution_count": null,
   "id": "26",
   "metadata": {},
   "outputs": [],
   "source": [
    "planned_hole_values_df = pd.DataFrame()\n",
    "planned_hole_values_df[\"data\"] = df[object_hole_id]\n",
    "\n",
    "print(planned_hole_values_df.head())"
   ]
  },
  {
   "cell_type": "code",
   "execution_count": null,
   "id": "27",
   "metadata": {},
   "outputs": [],
   "source": [
    "holes_df = create_hole_id_mapping(hole_id_table=hole_id_table_df, value_list=planned_hole_values_df)\n",
    "print(holes_df.head())\n",
    "\n",
    "hole_chunks_component = HoleChunks_V1_0_0.from_dict(data_client.save_dataframe(holes_df))\n",
    "\n",
    "# print(hole_chunks_component)"
   ]
  },
  {
   "cell_type": "code",
   "execution_count": null,
   "id": "28",
   "metadata": {},
   "outputs": [],
   "source": [
    "hole_collars_component = HoleCollars_V1_0_0(\n",
    "    coordinates=coordinates_component, distances=distances_component, holes=hole_chunks_component, attributes=attributes\n",
    ")\n",
    "print(hole_collars_component)"
   ]
  },
  {
   "cell_type": "code",
   "execution_count": null,
   "id": "29",
   "metadata": {},
   "outputs": [],
   "source": [
    "natural_dev_df = df[[\"distance\", \"azimuth\", \"dip\", \"lift rate\", \"drift rate\", \"deviation rate distance\"]]\n",
    "print(natural_dev_df.head())\n",
    "\n",
    "natural_dev_component = FloatArray6_V1_0_1.from_dict(data_client.save_dataframe(natural_dev_df))\n",
    "\n",
    "print(natural_dev_component)"
   ]
  },
  {
   "cell_type": "code",
   "execution_count": null,
   "id": "30",
   "metadata": {},
   "outputs": [],
   "source": [
    "path_component = DrillingCampaign_V1_0_0_Planned_Path_NaturalDeviation.from_dict(\n",
    "    data_client.save_dataframe(natural_dev_df)\n",
    ")\n",
    "\n",
    "print(path_component)"
   ]
  },
  {
   "cell_type": "markdown",
   "id": "31",
   "metadata": {},
   "source": [
    "### Create the planned component"
   ]
  },
  {
   "cell_type": "code",
   "execution_count": null,
   "id": "32",
   "metadata": {},
   "outputs": [],
   "source": [
    "planned_component = DrillingCampaign_V1_0_0_Planned(\n",
    "    collar=hole_collars_component,\n",
    "    path=path_component,\n",
    ")\n",
    "\n",
    "print(planned_component)"
   ]
  },
  {
   "cell_type": "markdown",
   "id": "33",
   "metadata": {},
   "source": [
    "### Create the drilling campaign object"
   ]
  },
  {
   "cell_type": "code",
   "execution_count": null,
   "id": "34",
   "metadata": {},
   "outputs": [],
   "source": [
    "dc = DrillingCampaign_V1_0_0(\n",
    "    name=object_name,\n",
    "    bounding_box=bounding_box,\n",
    "    coordinate_reference_system=coordinate_reference_system,\n",
    "    uuid=None,\n",
    "    hole_id=hole_id_component,\n",
    "    planned=planned_component,\n",
    "    tags=object_tags,\n",
    ")\n",
    "\n",
    "print(dc)"
   ]
  },
  {
   "cell_type": "code",
   "execution_count": null,
   "id": "35",
   "metadata": {},
   "outputs": [],
   "source": [
    "await data_client.upload_referenced_data(dc.as_dict(), FeedbackWidget(\"Uploading data\"))\n",
    "new_drilling_campaign_metadata = await object_client.create_geoscience_object(full_obj_path, dc.as_dict())"
   ]
  }
 ],
 "metadata": {
  "kernelspec": {
   "display_name": ".venv",
   "language": "python",
   "name": "python3"
  },
  "language_info": {
   "codemirror_mode": {
    "name": "ipython",
    "version": 3
   },
   "file_extension": ".py",
   "mimetype": "text/x-python",
   "name": "python",
   "nbconvert_exporter": "python",
   "pygments_lexer": "ipython3",
   "version": "3.12.11"
  }
 },
 "nbformat": 4,
 "nbformat_minor": 5
}
