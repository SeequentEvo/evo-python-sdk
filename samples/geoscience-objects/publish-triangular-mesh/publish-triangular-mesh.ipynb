{
 "cells": [
  {
   "cell_type": "markdown",
   "metadata": {},
   "source": [
    "## Publish a Triangle Mesh object\n",
    "\n",
    "This example shows how to convert a mesh file in `obj` format into an Evo geoscience object using the Evo Python SDK.\n",
    "\n",
    "### Requirements\n",
    "\n",
    "You must have a Seequent account with the Evo entitlement to use this notebook.\n",
    "\n",
    "The following parameters must be provided:\n",
    "\n",
    "- The client ID of your Evo application.\n",
    "- The callback/redirect URL of your Evo application.\n",
    "\n",
    "To obtain these app credentials, refer to the [Apps and tokens guide](https://developer.seequent.com/docs/guides/getting-started/apps-and-tokens) in the Seequent Developer Portal."
   ]
  },
  {
   "cell_type": "code",
   "execution_count": null,
   "metadata": {},
   "outputs": [],
   "source": [
    "import numpy as np\n",
    "import pandas as pd\n",
    "import pyarrow as pa\n",
    "from evo.notebooks import FeedbackWidget, ServiceManagerWidget\n",
    "from evo.objects import ObjectAPIClient\n",
    "from evo_schemas.components import (\n",
    "    BoundingBox_V1_0_1,\n",
    "    Crs_V1_0_1_EpsgCode,\n",
    "    Triangles_V1_2_0,\n",
    "    Triangles_V1_2_0_Indices,\n",
    "    Triangles_V1_2_0_Vertices,\n",
    ")\n",
    "from evo_schemas.objects import TriangleMesh_V2_1_0\n",
    "from IPython.display import HTML, display\n",
    "\n",
    "cache_location = \"data\"\n",
    "input_path = f\"{cache_location}/input\"\n",
    "\n",
    "# Evo app credentials\n",
    "client_id = \"<your-client-id>\"\n",
    "redirect_url = \"<your-redirect-url>\"\n",
    "\n",
    "manager = await ServiceManagerWidget.with_auth_code(\n",
    "    discovery_url=\"https://discover.api.seequent.com\",\n",
    "    redirect_url=redirect_url,\n",
    "    client_id=client_id,\n",
    "    cache_location=cache_location,\n",
    ").login()"
   ]
  },
  {
   "cell_type": "markdown",
   "metadata": {},
   "source": [
    "### Use the Evo Python SDK to create an object client and a data client"
   ]
  },
  {
   "cell_type": "code",
   "execution_count": null,
   "metadata": {},
   "outputs": [],
   "source": [
    "# The object client will manage your auth token and Geoscience Object API requests.\n",
    "object_client = ObjectAPIClient(manager.get_environment(), manager.get_connector())\n",
    "\n",
    "# The data client will manage saving your data as Parquet and publishing your data to Evo storage.\n",
    "data_client = object_client.get_data_client(manager.cache)"
   ]
  },
  {
   "cell_type": "markdown",
   "metadata": {},
   "source": [
    "### Define a helper function\n",
    "\n",
    "This function assists with viewing the new object in the Evo portal."
   ]
  },
  {
   "cell_type": "code",
   "execution_count": null,
   "metadata": {},
   "outputs": [],
   "source": [
    "def build_portal_url(object_metadata):\n",
    "    \"\"\"\n",
    "    Build the URL to view the object in the Evo Portal.\n",
    "\n",
    "    Args:\n",
    "        object_metadata (str): The object metadata object returned after the object is created.\n",
    "\n",
    "    Returns:\n",
    "        str: The URL to view the object in the Evo Portal.\n",
    "    \"\"\"\n",
    "\n",
    "    hub_url = object_metadata.environment.hub_url\n",
    "    hub_name = hub_url.split(\"://\")[1].split(\".\")[0]\n",
    "    org_id = object_metadata.environment.org_id\n",
    "    workspace_id = object_metadata.environment.workspace_id\n",
    "    object_id = object_metadata.id\n",
    "\n",
    "    url = f\"https://evo.seequent.com/{org_id}/workspaces/{hub_name}/{workspace_id}/viewer?id={object_id}\"\n",
    "\n",
    "    display(HTML(f'<a href=\"{url}\" target=\"_blank\">View object in the Evo Portal</a>'))"
   ]
  },
  {
   "cell_type": "markdown",
   "metadata": {},
   "source": [
    "### Define object metadata\n",
    "\n",
    "Geoscience object data must conform to a specific object schema. The `evo-schemas` package provides Pydantic models that make it easy to work with the equivalent JSON schemas. \n",
    "For this example we'll use v2.1.0 of the triangle mesh schema, via the relevant Pydantic model.\n",
    "\n",
    "Enter values for these parameters that are required by the object schema.\n",
    "- `object_name`: The name of the object.\n",
    "- `object_path`: The file path where the object will be found.\n",
    "- `object_epsg_code`: (Optional) The EPSG region code that matches the location of your data. Leave as `None` if not required.\n",
    "- `object_tags`: (Optional) A dictionary of additional tags to be assigned to the object. Leave as `None` is not required."
   ]
  },
  {
   "cell_type": "code",
   "execution_count": null,
   "metadata": {},
   "outputs": [],
   "source": [
    "object_name = \"Mesh_SDK_demo\"\n",
    "object_path = \"Jupyter_Example/Mesh\"\n",
    "object_epsg_code = 32650\n",
    "object_tags = {\"Source\": \"Jupyter Notebook\"}\n",
    "\n",
    "# Define a coordinate reference system (CRS) for the object.\n",
    "coordinate_reference_system = Crs_V1_0_1_EpsgCode(epsg_code=object_epsg_code)\n",
    "\n",
    "### Set the full object path for the final Evo API call.\n",
    "# NOTE: The object name requires the `.json` extension\n",
    "full_obj_path = f\"{object_path}/{object_name}.json\""
   ]
  },
  {
   "cell_type": "markdown",
   "metadata": {},
   "source": [
    "### Configure input object data"
   ]
  },
  {
   "cell_type": "code",
   "execution_count": null,
   "metadata": {},
   "outputs": [],
   "source": [
    "vertices = []\n",
    "faces = []\n",
    "\n",
    "relative_path = \"data/input/cow.obj\"\n",
    "\n",
    "with open(relative_path, \"r\") as file:\n",
    "    for line in file:\n",
    "        if line.startswith(\"v \"):\n",
    "            _, x, y, z = line.split()\n",
    "            vertices.append([float(x), float(y), float(z)])\n",
    "        elif line.startswith(\"f \"):\n",
    "            parts = line.split()[1:]\n",
    "            face = [int(part.split(\"/\")[0]) for part in parts]\n",
    "            faces.append(face)\n",
    "\n",
    "vertices_array = np.array(vertices)\n",
    "faces_array = np.array(faces)\n",
    "faces_array -= 1"
   ]
  },
  {
   "cell_type": "markdown",
   "metadata": {},
   "source": [
    "### Create sample locations and triangle data"
   ]
  },
  {
   "cell_type": "code",
   "execution_count": null,
   "metadata": {},
   "outputs": [],
   "source": [
    "schema_v = pa.schema(\n",
    "    [\n",
    "        pa.field(\"X\", pa.float64()),\n",
    "        pa.field(\"Y\", pa.float64()),\n",
    "        pa.field(\"Z\", pa.float64()),\n",
    "    ]\n",
    ")\n",
    "\n",
    "schema_f = pa.schema([pa.field(\"X\", pa.uint64()), pa.field(\"Y\", pa.uint64()), pa.field(\"Z\", pa.uint64())])\n",
    "\n",
    "table_v = pa.Table.from_arrays(\n",
    "    [pa.array(vertices_array[:, i], type=pa.float64()) for i in range(len(schema_v))],\n",
    "    schema=schema_v,\n",
    ")\n",
    "table_f = pa.Table.from_arrays(\n",
    "    [pa.array(faces_array[:, i], type=pa.uint64()) for i in range(len(schema_f))],\n",
    "    schema=schema_f,\n",
    ")\n",
    "df_v = pd.DataFrame(table_v.to_pandas())\n",
    "df_f = pd.DataFrame(table_f.to_pandas())"
   ]
  },
  {
   "cell_type": "markdown",
   "metadata": {},
   "source": [
    "### Coordinates"
   ]
  },
  {
   "cell_type": "markdown",
   "metadata": {},
   "source": [
    "Create a **coordinates** dataframe and copy the required columns."
   ]
  },
  {
   "cell_type": "code",
   "execution_count": null,
   "metadata": {},
   "outputs": [],
   "source": [
    "vertices_coordinates_df = pd.DataFrame()\n",
    "vertices_coordinates_df[[\"x\", \"y\", \"z\"]] = df_v[[\"X\", \"Y\", \"Z\"]]\n",
    "\n",
    "# Define the bounding box from vertices\n",
    "vertices_bounding_box = BoundingBox_V1_0_1(\n",
    "    min_x=vertices_coordinates_df[\"x\"].min(),\n",
    "    max_x=vertices_coordinates_df[\"x\"].max(),\n",
    "    min_y=vertices_coordinates_df[\"y\"].min(),\n",
    "    max_y=vertices_coordinates_df[\"y\"].max(),\n",
    "    min_z=vertices_coordinates_df[\"z\"].min(),\n",
    "    max_z=vertices_coordinates_df[\"z\"].max(),\n",
    ")\n",
    "\n",
    "mesh_vertices = Triangles_V1_2_0_Vertices.from_dict(data_client.save_dataframe(df_v))\n",
    "mesh_indices = Triangles_V1_2_0_Indices.from_dict(data_client.save_dataframe(df_f))"
   ]
  },
  {
   "cell_type": "markdown",
   "metadata": {},
   "source": [
    "### Create a new triangle mesh and publish it to Evo"
   ]
  },
  {
   "cell_type": "code",
   "execution_count": null,
   "metadata": {},
   "outputs": [],
   "source": [
    "# Lastly, assemble the complete geoscience object by combining all previously defined components.\n",
    "# - The name and UUID are used to identify the object.\n",
    "# - The UUID is set to None because this is a new object. A new UUID will be assigned by the Evo service.\n",
    "# - The bounding box defines the spatial extent of the object.\n",
    "# - The tags provide metadata about the object.\n",
    "# - The coordinate reference system defines the spatial reference for the object.\n",
    "# - The locations component contains the coordinates and attributes.\n",
    "\n",
    "triangle_mesh = TriangleMesh_V2_1_0(\n",
    "    name=object_name,\n",
    "    uuid=None,\n",
    "    bounding_box=vertices_bounding_box,\n",
    "    tags=object_tags,\n",
    "    coordinate_reference_system=coordinate_reference_system,\n",
    "    triangles=Triangles_V1_2_0(vertices=mesh_vertices, indices=mesh_indices),\n",
    ")\n",
    "\n",
    "# Upload the Parquet data to Evo.\n",
    "await data_client.upload_referenced_data(triangle_mesh.as_dict(), FeedbackWidget(\"Uploading data\"))\n",
    "\n",
    "# Create the geoscience object.\n",
    "new_pointset_metadata = await object_client.create_geoscience_object(full_obj_path, triangle_mesh.as_dict())"
   ]
  },
  {
   "cell_type": "markdown",
   "metadata": {},
   "source": [
    "### View the object in the Evo portal"
   ]
  },
  {
   "cell_type": "code",
   "execution_count": null,
   "metadata": {},
   "outputs": [],
   "source": [
    "build_portal_url(new_pointset_metadata)"
   ]
  },
  {
   "cell_type": "markdown",
   "metadata": {},
   "source": [
    "Success! You now have a new geoscience object in Evo containing your mesh data.\n",
    "\n",
    "## Summary\n",
    "\n",
    "In this example, we've completed the following:\n",
    "* Analysed the vertices and indices and constructed the elements and components required for these properties.\n",
    "* Converted the input data into Parquet format and saved it to the local cache.\n",
    "* Combined all of the elements, components and data references into the triangle-mesh schema format.\n",
    "* Uploaded the Parquet files and the newly assembled object in JSON format to Evo."
   ]
  }
 ],
 "metadata": {
  "kernelspec": {
   "display_name": ".venv",
   "language": "python",
   "name": "python3"
  },
  "language_info": {
   "codemirror_mode": {
    "name": "ipython",
    "version": 3
   },
   "file_extension": ".py",
   "mimetype": "text/x-python",
   "name": "python",
   "nbconvert_exporter": "python",
   "pygments_lexer": "ipython3",
   "version": "3.12.11"
  }
 },
 "nbformat": 4,
 "nbformat_minor": 2
}
