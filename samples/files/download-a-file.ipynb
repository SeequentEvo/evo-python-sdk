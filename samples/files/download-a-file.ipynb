{
 "cells": [
  {
   "cell_type": "markdown",
   "id": "a0826f12e6ae986d",
   "metadata": {
    "collapsed": false
   },
   "source": [
    "# Download a file\n",
    "\n",
    "For this example, we assume you have already obtained your Evo hub URL, organization ID, workspace ID, and authorization token. Insert them below."
   ]
  },
  {
   "cell_type": "code",
   "execution_count": null,
   "id": "832355257f4f3666",
   "metadata": {
    "collapsed": false
   },
   "outputs": [],
   "source": [
    "# See the Evo documentation for help on obtaining these values\n",
    "evo_hub_url = \"<insert Evo host address here>\"\n",
    "org_id = \"<insert org ID here>\"\n",
    "workspace_id = \"<insert workspace ID here>\"\n",
    "auth_token = \"<insert auth token here>\""
   ]
  },
  {
   "cell_type": "markdown",
   "id": "52263ea2498cb248",
   "metadata": {
    "collapsed": false
   },
   "source": [
    "A file can be downloaded either by its ID, or by its path."
   ]
  },
  {
   "cell_type": "markdown",
   "id": "49144c3913f685fb",
   "metadata": {
    "collapsed": false
   },
   "source": [
    "## By ID"
   ]
  },
  {
   "cell_type": "code",
   "execution_count": null,
   "id": "e539b06eb83fbac",
   "metadata": {
    "collapsed": false
   },
   "outputs": [],
   "source": [
    "import requests\n",
    "\n",
    "file_id = \"<insert file ID here>\"\n",
    "\n",
    "url = f\"https://{evo_hub_url}/file/v2/orgs/{org_id}/workspaces/{workspace_id}/files/{file_id}\"\n",
    "response = requests.get(url, headers={\"Authorization\": f\"Bearer {auth_token}\"})\n",
    "\n",
    "response_json = response.json()\n",
    "\n",
    "if not response.ok:\n",
    "    print(response_json)\n",
    "else:\n",
    "    print(\"Download URL:\")\n",
    "    print(response_json[\"download\"])"
   ]
  },
  {
   "cell_type": "markdown",
   "id": "6982bb5916645a74",
   "metadata": {
    "collapsed": false
   },
   "source": [
    "## By path"
   ]
  },
  {
   "cell_type": "code",
   "execution_count": null,
   "id": "11e4eff56965c1ac",
   "metadata": {
    "collapsed": false
   },
   "outputs": [],
   "source": [
    "import requests\n",
    "\n",
    "file_path = \"example.txt\"\n",
    "url = f\"https://{evo_hub_url}/file/v2/orgs/{org_id}/workspaces/{workspace_id}/files/path/{file_path}\"\n",
    "response = requests.get(url, headers={\"Authorization\": f\"Bearer {auth_token}\"})\n",
    "\n",
    "response_json = response.json()\n",
    "\n",
    "if not response.ok:\n",
    "    print(response_json)\n",
    "else:\n",
    "    print(\"Download URL:\")\n",
    "    print(response_json[\"download\"])"
   ]
  },
  {
   "cell_type": "markdown",
   "id": "9b26fbc9762981a4",
   "metadata": {
    "collapsed": false
   },
   "source": [
    "The `upload` URL returned by this request is a pre-signed download URL. It is valid for 30 minutes.\n",
    "\n",
    "Use the `upload` URL to either open a new tab in your browser, perform a GET request to retrieve the file's contents, etc. \n",
    "\n",
    "## Download specific version\n",
    "\n",
    "If you need to download a specific version of a file, you can include `version={version_id}` in your request parameters."
   ]
  }
 ],
 "metadata": {
  "kernelspec": {
   "display_name": "Python 3",
   "language": "python",
   "name": "python3"
  },
  "language_info": {
   "codemirror_mode": {
    "name": "ipython",
    "version": 2
   },
   "file_extension": ".py",
   "mimetype": "text/x-python",
   "name": "python",
   "nbconvert_exporter": "python",
   "pygments_lexer": "ipython2",
   "version": "2.7.6"
  }
 },
 "nbformat": 4,
 "nbformat_minor": 5
}
