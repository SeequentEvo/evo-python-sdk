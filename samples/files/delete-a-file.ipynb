{
 "cells": [
  {
   "cell_type": "markdown",
   "id": "a04adc3aecba5832",
   "metadata": {
    "collapsed": false
   },
   "source": [
    "# Delete a file\n",
    "\n",
    "For this example, we assume you have already obtained your Evo hub URL, organization ID, workspace ID, and authorization token. Insert them below."
   ]
  },
  {
   "cell_type": "code",
   "execution_count": null,
   "id": "3ad9f6a5e710ca69",
   "metadata": {
    "collapsed": false
   },
   "outputs": [],
   "source": [
    "# See the Evo documentation for help on obtaining these values\n",
    "evo_hub_url = \"<insert Evo host address here>\"\n",
    "org_id = \"<insert org ID here>\"\n",
    "workspace_id = \"<insert workspace ID here>\"\n",
    "auth_token = \"<insert auth token here>\""
   ]
  },
  {
   "cell_type": "markdown",
   "id": "8b4474d761325d6b",
   "metadata": {
    "collapsed": false
   },
   "source": [
    "A file can be deleted either by its ID, or by its path.\n",
    "\n",
    "A successful response will return a 204 No Content status code. Subsequent requests to delete the file will also return a 204 status code."
   ]
  },
  {
   "cell_type": "markdown",
   "id": "d028118453cb34f8",
   "metadata": {
    "collapsed": false
   },
   "source": [
    "## By path"
   ]
  },
  {
   "cell_type": "code",
   "execution_count": null,
   "id": "1a873f300a021f7b",
   "metadata": {
    "collapsed": false
   },
   "outputs": [],
   "source": [
    "import requests\n",
    "\n",
    "file_path = \"example.txt\"\n",
    "\n",
    "url = f\"https://{evo_hub_url}/file/v2/orgs/{org_id}/workspaces/{workspace_id}/files/path/{file_path}\"\n",
    "response = requests.delete(url, headers={\"Authorization\": f\"Bearer {auth_token}\"})\n",
    "response"
   ]
  },
  {
   "cell_type": "markdown",
   "id": "a32e8b3e58261638",
   "metadata": {
    "collapsed": false
   },
   "source": [
    "## By ID"
   ]
  },
  {
   "cell_type": "code",
   "execution_count": null,
   "id": "3c065b9d1e59e0d2",
   "metadata": {
    "collapsed": false
   },
   "outputs": [],
   "source": [
    "import requests\n",
    "\n",
    "file_id = \"4efdd192-f995-44f4-a841-578e4869abcd\"\n",
    "\n",
    "url = f\"https://{evo_hub_url}/file/v2/orgs/{org_id}/workspaces/{workspace_id}/files/{file_id}\"\n",
    "response = requests.delete(url, headers={\"Authorization\": f\"Bearer {auth_token}\"})\n",
    "response"
   ]
  }
 ],
 "metadata": {
  "kernelspec": {
   "display_name": "Python 3",
   "language": "python",
   "name": "python3"
  },
  "language_info": {
   "codemirror_mode": {
    "name": "ipython",
    "version": 2
   },
   "file_extension": ".py",
   "mimetype": "text/x-python",
   "name": "python",
   "nbconvert_exporter": "python",
   "pygments_lexer": "ipython2",
   "version": "2.7.6"
  }
 },
 "nbformat": 4,
 "nbformat_minor": 5
}
