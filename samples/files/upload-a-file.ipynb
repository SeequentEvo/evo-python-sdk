{
 "cells": [
  {
   "cell_type": "markdown",
   "id": "4a7eb558831e4efb",
   "metadata": {
    "collapsed": false
   },
   "source": [
    "# Upload a file\n",
    "\n",
    "For this example, we assume you have already obtained your Evo hub URL, organization ID, workspace ID, and authorization token. Insert them below."
   ]
  },
  {
   "cell_type": "code",
   "execution_count": null,
   "id": "b9b5325f9d5f2700",
   "metadata": {
    "collapsed": false
   },
   "outputs": [],
   "source": [
    "# See the Evo documentation for help on obtaining these values\n",
    "evo_hub_url = \"<insert Evo host address here>\"\n",
    "org_id = \"<insert org ID here>\"\n",
    "workspace_id = \"<insert workspace ID here>\"\n",
    "auth_token = \"<insert auth token here>\""
   ]
  },
  {
   "cell_type": "markdown",
   "id": "b8a667f6c076102f",
   "metadata": {
    "collapsed": false
   },
   "source": [
    "## Get blob storage URL"
   ]
  },
  {
   "cell_type": "code",
   "execution_count": null,
   "id": "9aebf1194a4e211d",
   "metadata": {
    "collapsed": false
   },
   "outputs": [],
   "source": [
    "import requests\n",
    "\n",
    "file_path = \"data/example.txt\"\n",
    "url = f\"https://{evo_hub_url}/file/v2/orgs/{org_id}/workspaces/{workspace_id}/files/path/{file_path}\"\n",
    "\n",
    "response = requests.put(url, headers={\"Authorization\": f\"Bearer {auth_token}\"})\n",
    "response_json = response.json()\n",
    "\n",
    "response_json"
   ]
  },
  {
   "cell_type": "markdown",
   "id": "724c1ab3bcfa340a",
   "metadata": {
    "collapsed": false
   },
   "source": [
    "## Upload the blob data"
   ]
  },
  {
   "cell_type": "code",
   "execution_count": null,
   "id": "f134a1cc8a085335",
   "metadata": {
    "collapsed": false
   },
   "outputs": [],
   "source": [
    "file_contents = {f\"{response_json['file_id']}\": open(file_path, \"rb\")}\n",
    "upload_response = requests.put(\n",
    "    response_json[\"upload\"],\n",
    "    files=file_contents,\n",
    "    headers={\"x-ms-blob-type\": \"BlockBlob\"},\n",
    ")\n",
    "upload_response"
   ]
  },
  {
   "cell_type": "markdown",
   "id": "2854165f66b274bd",
   "metadata": {
    "collapsed": false
   },
   "source": [
    "## Poll until the file is ready\n",
    "\n",
    "This example gives an example of looping while we wait for the file upload to complete in the background.\n",
    "\n",
    "**Tip:** if you're uploading a new version of an existing file, you can compare the `version_id` you receive in the first and last steps of this example to determine whether the new version has finished uploading. "
   ]
  },
  {
   "cell_type": "code",
   "execution_count": null,
   "id": "18d70d24a350d2b4",
   "metadata": {
    "collapsed": false
   },
   "outputs": [],
   "source": [
    "import time\n",
    "\n",
    "url = f\"https://{evo_hub_url}/file/v2/orgs/{org_id}/workspaces/{workspace_id}/files/path/{file_path}\"\n",
    "i = 1\n",
    "limit = 10  # To prevent an infinite loop\n",
    "\n",
    "while True:\n",
    "    file = requests.get(url, headers={\"Authorization\": f\"Bearer {auth_token}\"})\n",
    "    result = file.json()\n",
    "    # Is the file ready yet?\n",
    "    if result:\n",
    "        break\n",
    "    # Have we reached our recursion limit?\n",
    "    i += 1\n",
    "    if i > limit:\n",
    "        break\n",
    "    # Wait a bit until trying again\n",
    "    time.sleep(1)\n",
    "\n",
    "print(\"File is ready to use.\")"
   ]
  }
 ],
 "metadata": {
  "kernelspec": {
   "display_name": "Python 3",
   "language": "python",
   "name": "python3"
  },
  "language_info": {
   "codemirror_mode": {
    "name": "ipython",
    "version": 2
   },
   "file_extension": ".py",
   "mimetype": "text/x-python",
   "name": "python",
   "nbconvert_exporter": "python",
   "pygments_lexer": "ipython2",
   "version": "2.7.6"
  }
 },
 "nbformat": 4,
 "nbformat_minor": 5
}
