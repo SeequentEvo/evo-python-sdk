{
 "cells": [
  {
   "cell_type": "markdown",
   "id": "0",
   "metadata": {},
   "source": [
    "# List files\n",
    "\n",
    "For this example, we assume you have already obtained your Evo hub URL, organization ID, workspace ID, and authorization token. Insert them below."
   ]
  },
  {
   "cell_type": "code",
   "execution_count": null,
   "id": "1",
   "metadata": {},
   "outputs": [],
   "source": [
    "# See the Evo documentation for help on obtaining these values\n",
    "evo_hub_url = \"<insert Evo host address here>\"\n",
    "org_id = \"<insert org ID here>\"\n",
    "workspace_id = \"<insert workspace ID here>\"\n",
    "auth_token = \"<insert auth token here>\""
   ]
  },
  {
   "cell_type": "markdown",
   "id": "2",
   "metadata": {},
   "source": [
    "## List all files"
   ]
  },
  {
   "cell_type": "code",
   "execution_count": null,
   "id": "3",
   "metadata": {},
   "outputs": [],
   "source": [
    "import requests\n",
    "\n",
    "url = f\"https://{evo_hub_url}/file/v2/orgs/{org_id}/workspaces/{workspace_id}/files\"\n",
    "response = requests.get(url, headers={\"Authorization\": f\"Bearer {auth_token}\"})\n",
    "response.json()"
   ]
  },
  {
   "cell_type": "markdown",
   "id": "4",
   "metadata": {},
   "source": [
    "## Filtering\n",
    "\n",
    "Apply filters in the query string. See the API reference for a list of possible filters."
   ]
  },
  {
   "cell_type": "code",
   "execution_count": null,
   "id": "5",
   "metadata": {},
   "outputs": [],
   "source": [
    "limit = 5000\n",
    "offset = 0\n",
    "\n",
    "url = f\"https://{evo_hub_url}/file/v2/orgs/{org_id}/workspaces/{workspace_id}/files?limit={limit}&offset={offset}&file_name=example.txt\"\n",
    "response = requests.get(url, headers={\"Authorization\": f\"Bearer {auth_token}\"})\n",
    "response.json()"
   ]
  },
  {
   "cell_type": "markdown",
   "id": "6",
   "metadata": {},
   "source": [
    "## Include all versions\n",
    "\n",
    "Each time a file is modified, a new version is created. This list of versions is not included in requests by default for performance reasons. You can list all versions of a file by including `?include_versions=1` in the request."
   ]
  },
  {
   "cell_type": "code",
   "execution_count": null,
   "id": "7",
   "metadata": {},
   "outputs": [],
   "source": [
    "import requests\n",
    "\n",
    "url = f\"https://{evo_hub_url}/file/v2/orgs/{org_id}/workspaces/{workspace_id}/files/path/example.txt?include_versions=1\"\n",
    "response = requests.get(url, headers={\"Authorization\": f\"Bearer {auth_token}\"})\n",
    "response.json()"
   ]
  }
 ],
 "metadata": {
  "kernelspec": {
   "display_name": "Python 3",
   "language": "python",
   "name": "python3"
  },
  "language_info": {
   "codemirror_mode": {
    "name": "ipython",
    "version": 2
   },
   "file_extension": ".py",
   "mimetype": "text/x-python",
   "name": "python",
   "nbconvert_exporter": "python",
   "pygments_lexer": "ipython2",
   "version": "2.7.6"
  }
 },
 "nbformat": 4,
 "nbformat_minor": 5
}
