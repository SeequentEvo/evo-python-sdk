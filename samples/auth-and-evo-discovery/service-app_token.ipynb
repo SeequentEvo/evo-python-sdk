{
 "cells": [
  {
   "cell_type": "markdown",
   "metadata": {},
   "source": [
    "## Bentley auth using the client credentials flow"
   ]
  },
  {
   "cell_type": "markdown",
   "metadata": {},
   "source": [
    "### Option 1\n",
    "#### Automatic auth using the Evo Python SDK"
   ]
  },
  {
   "cell_type": "code",
   "execution_count": null,
   "metadata": {},
   "outputs": [],
   "source": [
    "from evo.aio import AioTransport\n",
    "from evo.oauth import ClientCredentialsAuthorizer, OAuthConnector\n",
    "\n",
    "# Enter your client ID and client secret. The Evo scopes are handled automatically.\n",
    "client_id = \"<YOUR-SERVICE-APP-CLIENT-ID>\"\n",
    "client_secret = \"<YOUR-SERVICE-APP-CLIENT-SECRET>\"\n",
    "\n",
    "# Enter a user agent for your API requests.\n",
    "user_agent = \"Evo Demo app/1.0\"\n",
    "\n",
    "# Create an authorizer to obtain access tokens using the client credentials flow.\n",
    "authorizer = ClientCredentialsAuthorizer(\n",
    "    oauth_connector=OAuthConnector(\n",
    "        transport=AioTransport(user_agent=user_agent),\n",
    "        client_id=client_id,\n",
    "        client_secret=client_secret,\n",
    "    ),\n",
    ")\n",
    "\n",
    "# Print the default headers, including the Authorization header with the access token.\n",
    "print(await authorizer.get_default_headers())"
   ]
  },
  {
   "cell_type": "markdown",
   "metadata": {},
   "source": [
    "### Option 2\n",
    "#### Manual auth using common Python packages"
   ]
  },
  {
   "cell_type": "code",
   "execution_count": null,
   "metadata": {},
   "outputs": [],
   "source": [
    "import datetime\n",
    "from http import HTTPStatus\n",
    "\n",
    "import jwt\n",
    "import requests\n",
    "\n",
    "# Define your client ID, client secret and Evo scopes.\n",
    "client_id = \"<YOUR-SERVICE-APP-CLIENT-ID>\"\n",
    "client_secret = \"<YOUR-SERVICE-APP-CLIENT-SECRET>\"\n",
    "\n",
    "# Define the scopes your app needs.\n",
    "scope = \"evo.workspace evo.discovery evo.object evo.blocksync evo.file\"\n",
    "\n",
    "# Define the token endpoint URL.\n",
    "url = \"https://ims.bentley.com/connect/token\"\n",
    "\n",
    "# Define the parameters for the token request.\n",
    "params = {\n",
    "    \"grant_type\": \"client_credentials\",\n",
    "    \"client_id\": client_id,\n",
    "    \"client_secret\": client_secret,\n",
    "    \"scope\": scope,\n",
    "}\n",
    "\n",
    "# Make the token request and print the access token.\n",
    "response = requests.post(url, data=params)\n",
    "if response.status_code != HTTPStatus.OK:\n",
    "    raise RuntimeError(f\"Failed to get token: {response.status_code} {response.reason}\")\n",
    "\n",
    "token = response.json()[\"access_token\"]\n",
    "print(\"Access token:\")\n",
    "print(token)\n",
    "\n",
    "# Decode the access token to get the expiration time.\n",
    "# Note: In a production application, you should verify the token signature.\n",
    "decoded = jwt.decode(token, options={\"verify_signature\": False}, algorithms=[\"RS256\"])\n",
    "exp_timestamp = decoded[\"exp\"]\n",
    "exp_datetime = datetime.datetime.fromtimestamp(exp_timestamp, datetime.timezone.utc)\n",
    "print(f\"Token expires at: {exp_datetime} UTC\")"
   ]
  }
 ],
 "metadata": {
  "kernelspec": {
   "display_name": "evo-sdk",
   "language": "python",
   "name": "python3"
  },
  "language_info": {
   "codemirror_mode": {
    "name": "ipython",
    "version": 3
   },
   "file_extension": ".py",
   "mimetype": "text/x-python",
   "name": "python",
   "nbconvert_exporter": "python",
   "pygments_lexer": "ipython3",
   "version": "3.10.16"
  }
 },
 "nbformat": 4,
 "nbformat_minor": 2
}
