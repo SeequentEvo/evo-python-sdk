{
 "cells": [
  {
   "cell_type": "markdown",
   "metadata": {},
   "source": [
    "## Bentley auth using native, SPA or web app credentials"
   ]
  },
  {
   "cell_type": "markdown",
   "metadata": {},
   "source": [
    "### Option 1\n",
    "#### Automatic auth using the Evo Python SDK"
   ]
  },
  {
   "cell_type": "code",
   "execution_count": 1,
   "metadata": {},
   "outputs": [],
   "source": [
    "# Define your client ID and callback URL.\n",
    "\n",
    "client_id = \"native-QIGoQwAKp2OemxuIkjIbo8TfJ\"\n",
    "redirect_url = \"http://localhost:3000/signin-callback\""
   ]
  },
  {
   "cell_type": "code",
   "execution_count": 2,
   "metadata": {},
   "outputs": [
    {
     "name": "stderr",
     "output_type": "stream",
     "text": [
      "/Users/david.knight/Developer/evo-python-sdk-fork/packages/evo-sdk-common/src/evo/notebooks/authorizer.py:108: UserWarning: The evo.notebooks.AuthorizationCodeAuthorizer is not secure, and should only ever be used in Jupyter notebooks in a private environment.\n",
      "  warnings.warn(\n"
     ]
    },
    {
     "data": {
      "application/vnd.jupyter.widget-view+json": {
       "model_id": "c9ca06e6080a4e05941a10fa9771ee21",
       "version_major": 2,
       "version_minor": 0
      },
      "text/plain": [
       "ServiceManagerWidget(children=(VBox(children=(HBox(children=(Image(value=b'\\x89PNG\\r\\n\\x1a\\n\\x00\\x00\\x00\\rIHDR…"
      ]
     },
     "metadata": {},
     "output_type": "display_data"
    }
   ],
   "source": [
    "from evo.notebooks import ServiceManagerWidget\n",
    "\n",
    "cache_location = \"cache\"\n",
    "\n",
    "manager = await ServiceManagerWidget.with_auth_code(\n",
    "    redirect_url=redirect_url,\n",
    "    client_id=client_id,\n",
    "    cache_location=cache_location,\n",
    ").login()"
   ]
  },
  {
   "cell_type": "code",
   "execution_count": null,
   "metadata": {},
   "outputs": [],
   "source": [
    "environment = manager.get_environment()\n",
    "print(f\"Hub URL: {environment.hub_url}\")\n",
    "print(f\"Org ID: {environment.org_id}\")\n",
    "print(f\"Workspace ID: {environment.workspace_id}\")"
   ]
  },
  {
   "cell_type": "markdown",
   "metadata": {},
   "source": [
    "### Option 2\n",
    "#### Manual auth using common Python packages"
   ]
  },
  {
   "cell_type": "code",
   "execution_count": null,
   "metadata": {},
   "outputs": [],
   "source": [
    "# Define your client ID, callback URL and Evo scopes.\n",
    "# NOTE: Add the scope \"offline_access\" to the list if you require a refresh token.\n",
    "\n",
    "client_id = \"<your-client-id>\"\n",
    "redirect_url = \"<your-redirect-url>\"\n",
    "scope = [\"evo.workspace\", \"evo.discovery\", \"evo.object\", \"evo.blocksync\", \"evo.file\"]\n",
    "\n",
    "base_uri = \"https://ims.bentley.com\""
   ]
  },
  {
   "cell_type": "code",
   "execution_count": null,
   "metadata": {},
   "outputs": [],
   "source": [
    "import datetime\n",
    "import webbrowser\n",
    "from http.server import BaseHTTPRequestHandler, HTTPServer\n",
    "from urllib.parse import urlparse\n",
    "\n",
    "import jwt\n",
    "from authlib.common.security import generate_token\n",
    "from authlib.integrations.requests_client import OAuth2Session\n",
    "\n",
    "\n",
    "def get_access_token(\n",
    "    client_id: str,\n",
    "    redirect_url: str,\n",
    "    authorisation_url: str,\n",
    "    access_token_url: str,\n",
    "    scope: str,\n",
    ") -> str:\n",
    "    \"\"\"Get an access token.\"\"\"\n",
    "\n",
    "    port = urlparse(redirect_url).port\n",
    "\n",
    "    class OAuthHttpServer(HTTPServer):\n",
    "        def __init__(self, *args, **kwargs):\n",
    "            super().__init__(*args, **kwargs)\n",
    "            self.authorization_code = \"\"\n",
    "\n",
    "    class OAuthHttpHandler(BaseHTTPRequestHandler):\n",
    "        def do_GET(self):\n",
    "            self.send_response(200)\n",
    "            self.send_header(\"Content-Type\", \"text/html\")\n",
    "            self.end_headers()\n",
    "            self.wfile.write(\"Redirecting to the Bentley login page\\n\".encode(\"UTF-8\"))\n",
    "\n",
    "            client.fetch_token(\n",
    "                url=access_token_url,\n",
    "                authorization_response=self.path,\n",
    "                state=state,\n",
    "                code_verifier=code_verifier,\n",
    "                grant_type=\"authorization_code\",\n",
    "            )\n",
    "\n",
    "            self.wfile.write(\n",
    "                \"\"\"\n",
    "                <html>\n",
    "                  <body>\n",
    "                    <h2>Authorization request to Bentley has been completed.</h1>\n",
    "                    <h3>You may now close this tab or window now.</h3>\n",
    "                  </body>\n",
    "                </html>\n",
    "                \"\"\".encode(\"UTF-8\")\n",
    "            )\n",
    "            self.wfile.write(\n",
    "                '<script> setTimeout(\"window.close()\", 2500);</script>'.encode(\"UTF-8\")\n",
    "            )  # Timeout only works if already logged in\n",
    "\n",
    "    with OAuthHttpServer((\"\", port), OAuthHttpHandler) as httpd:\n",
    "        client = OAuth2Session(\n",
    "            client_id=client_id,\n",
    "            scope=scope,\n",
    "            redirect_uri=redirect_url,\n",
    "            code_challenge_method=\"S256\",\n",
    "        )\n",
    "\n",
    "        code_verifier = generate_token(48)\n",
    "        auth_uri, state = client.create_authorization_url(authorisation_url, code_verifier=code_verifier)\n",
    "        webbrowser.open_new(auth_uri)\n",
    "        httpd.handle_request()\n",
    "\n",
    "    return client.token[\"access_token\"]\n",
    "\n",
    "\n",
    "token = get_access_token(\n",
    "    client_id=client_id,\n",
    "    redirect_url=redirect_url,\n",
    "    authorisation_url=f\"{base_uri}/connect/authorize\",\n",
    "    access_token_url=f\"{base_uri}/connect/token\",\n",
    "    scope=scope,\n",
    ")\n",
    "\n",
    "print(\"Access token:\")\n",
    "print(token)\n",
    "\n",
    "decoded = jwt.decode(token, options={\"verify_signature\": False}, algorithms=[\"RS256\"])\n",
    "exp_timestamp = decoded[\"exp\"]\n",
    "exp_datetime = datetime.datetime.fromtimestamp(exp_timestamp, datetime.timezone.utc)\n",
    "print(f\"Token expires at:\\n{exp_datetime} UTC\")"
   ]
  }
 ],
 "metadata": {
  "kernelspec": {
   "display_name": "Python 3 (ipykernel)",
   "language": "python",
   "name": "python3"
  },
  "language_info": {
   "codemirror_mode": {
    "name": "ipython",
    "version": 3
   },
   "file_extension": ".py",
   "mimetype": "text/x-python",
   "name": "python",
   "nbconvert_exporter": "python",
   "pygments_lexer": "ipython3",
   "version": "3.10.16"
  }
 },
 "nbformat": 4,
 "nbformat_minor": 4
}
