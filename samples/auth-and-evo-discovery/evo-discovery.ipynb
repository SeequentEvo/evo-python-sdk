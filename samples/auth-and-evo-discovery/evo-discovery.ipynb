{
 "cells": [
  {
   "cell_type": "code",
   "execution_count": null,
   "metadata": {},
   "outputs": [],
   "source": [
    "import json\n",
    "\n",
    "import requests\n",
    "\n",
    "# Enter your Evo access token.\n",
    "access_token = \"<YOUR_EVO_ACCESS_TOKEN_HERE>\"\n",
    "\n",
    "# Prepare the authorization header.\n",
    "auth_header = {\"Authorization\": \"Bearer \" + access_token}\n",
    "\n",
    "# Define the Evo services to be searched.\n",
    "services = {\"blockmodel\", \"geoscienceobject\", \"file\"}\n",
    "params = {\"service\": services}\n",
    "\n",
    "# Define the Evo Discovery API URL.\n",
    "base_url = \"https://discover.api.seequent.com/evo/identity/v2/discovery\"\n",
    "\n",
    "# Make the GET request to the Evo Discovery API.\n",
    "response = requests.get(base_url, headers=auth_header, params=params)\n",
    "response_output = json.dumps(response.json(), indent=4)\n",
    "print(f\"GET {base_url}?{response.url.split('?')[1]}\")\n",
    "print(response_output)"
   ]
  }
 ],
 "metadata": {
  "kernelspec": {
   "display_name": "evo-sdk",
   "language": "python",
   "name": "python3"
  },
  "language_info": {
   "codemirror_mode": {
    "name": "ipython",
    "version": 3
   },
   "file_extension": ".py",
   "mimetype": "text/x-python",
   "name": "python",
   "nbconvert_exporter": "python",
   "pygments_lexer": "ipython3",
   "version": "3.10.16"
  }
 },
 "nbformat": 4,
 "nbformat_minor": 2
}
