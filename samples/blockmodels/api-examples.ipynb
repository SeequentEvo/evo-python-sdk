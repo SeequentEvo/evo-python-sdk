{
 "cells": [
  {
   "cell_type": "markdown",
   "metadata": {},
   "source": [
    "## Block Model API Examples\n",
    "\n",
    "This notebook demonstrates how to work with Evo Block Models using **direct API calls**, providing granular control over block model operations and detailed insight into the underlying service interactions.\n",
    "\n",
    "### API vs SDK Approach\n",
    "\n",
    "This notebook uses **direct Block Model API calls** which:\n",
    "- ✅ Provides full control over API requests and responses\n",
    "- ✅ Shows detailed API response structures and metadata\n",
    "- ✅ Allows for advanced customization and fine-tuning\n",
    "- ✅ Helps understand the underlying service architecture\n",
    "- ✅ Useful for debugging and advanced use cases\n",
    "\n",
    "### Want a Simpler, High-Level Interface?\n",
    "\n",
    "If you prefer a more streamlined experience with less boilerplate code, check out the `sdk-examples.ipynb` notebook in this same directory. The SDK examples show:\n",
    "- Simplified method calls using `BlockModelAPIClient`\n",
    "- Automatic handling of complex API interactions\n",
    "- Direct integration with PyArrow tables and pandas DataFrames\n",
    "- Better error handling and validation\n",
    "- Recommended for most common use cases"
   ]
  },
  {
   "cell_type": "code",
   "execution_count": null,
   "metadata": {},
   "outputs": [],
   "source": [
    "from evo.notebooks import ServiceManagerWidget\n",
    "\n",
    "cache_location = \"./notebook-data\"\n",
    "\n",
    "# Evo app credentials\n",
    "client_id = \"<your-client-id>\"  # Replace with your client ID\n",
    "redirect_url = \"<your-redirect-url>\"  # Replace with your redirect URL\n",
    "\n",
    "manager = await ServiceManagerWidget.with_auth_code(\n",
    "    discovery_url=\"https://discover.api.seequent.com\",\n",
    "    redirect_url=redirect_url,\n",
    "    client_id=client_id,\n",
    "    cache_location=cache_location,\n",
    ").login()"
   ]
  },
  {
   "cell_type": "markdown",
   "metadata": {},
   "source": [
    "### Prepare Evo SDK parameters"
   ]
  },
  {
   "cell_type": "code",
   "execution_count": null,
   "metadata": {},
   "outputs": [],
   "source": [
    "import os\n",
    "\n",
    "# Create download directories\n",
    "download_path = cache_location + \"/downloads\"\n",
    "input_path = f\"{cache_location}/input\"\n",
    "\n",
    "if not os.path.exists(download_path):\n",
    "    try:\n",
    "        os.mkdir(download_path)\n",
    "    except Exception:\n",
    "        raise RuntimeError(f\"Error: Failed to create {download_path}.\")\n",
    "\n",
    "# Get the environment and connector from the ServiceManagerWidget instance.\n",
    "# The environment contains the hub URL, organization ID, and workspace ID.\n",
    "# The connector is used to make API calls to the Evo service.\n",
    "environment = manager.get_environment()\n",
    "connector = manager.get_connector()\n",
    "\n",
    "# Copy the environment details to local variables for easier access.\n",
    "evo_hub_url = environment.hub_url\n",
    "org_id = environment.org_id\n",
    "workspace_id = environment.workspace_id"
   ]
  },
  {
   "cell_type": "markdown",
   "metadata": {},
   "source": [
    "### Demo 1: Create a regular block model"
   ]
  },
  {
   "cell_type": "code",
   "execution_count": null,
   "metadata": {},
   "outputs": [],
   "source": [
    "import json\n",
    "from datetime import datetime\n",
    "from http import HTTPStatus\n",
    "\n",
    "from pygments import highlight\n",
    "from pygments.formatters import TerminalTrueColorFormatter\n",
    "from pygments.lexers import JsonLexer\n",
    "\n",
    "from evo.common.data import HTTPResponse\n",
    "\n",
    "resource_path = \"/blockmodel/orgs/{org_id}/workspaces/{workspace_id}/block-models\"\n",
    "\n",
    "path_params = {\n",
    "    \"org_id\": org_id,\n",
    "    \"workspace_id\": workspace_id,\n",
    "}\n",
    "\n",
    "body = {\n",
    "    \"name\": f\"My regular block model {datetime.now().strftime('%Y-%m-%d %H:%M:%S')}\",\n",
    "    \"description\": \"This is a description of my regular block model.\",\n",
    "    \"comment\": \"First revision.\",\n",
    "    \"model_origin\": {\"x\": 1478500, \"y\": 5174500, \"z\": 100},\n",
    "    \"block_rotation\": [],\n",
    "    \"size_options\": {\n",
    "        \"n_blocks\": {\"nx\": 48, \"ny\": 68, \"nz\": 40},\n",
    "        \"model_type\": \"regular\",\n",
    "        \"block_size\": {\"x\": 25, \"y\": 25, \"z\": 25},\n",
    "    },\n",
    "}\n",
    "\n",
    "api_response = await connector.call_api(\n",
    "    method=\"POST\",\n",
    "    resource_path=resource_path,\n",
    "    path_params=path_params,\n",
    "    header_params={\"Content-Type\": \"application/json\"},\n",
    "    body=body,\n",
    "    response_types_map={\n",
    "        \"201\": HTTPResponse,\n",
    "    },\n",
    ")\n",
    "\n",
    "status = api_response.status\n",
    "if status != HTTPStatus.CREATED:\n",
    "    raise RuntimeError(f\"Error: Failed to create block model. Status: {status}\")\n",
    "\n",
    "# Parse the response data\n",
    "response = api_response.data.decode(\"utf-8\")\n",
    "response_json = json.loads(response)\n",
    "\n",
    "# Copy the job URL and remove the host portion to be compatible with the Evo connector object\n",
    "job_url = \"/\" + \"/\".join(response_json[\"job_url\"].split(\"/\")[3:])\n",
    "\n",
    "# Copy the block model UUID for later use\n",
    "bm_uuid = response_json[\"bm_uuid\"]\n",
    "\n",
    "# Print the response in a highlighted format\n",
    "print(f\"Block model created successfully with UUID: {bm_uuid}\")\n",
    "print(highlight(json.dumps(response_json, indent=4), JsonLexer(), TerminalTrueColorFormatter(style=\"lightbulb\")))"
   ]
  },
  {
   "cell_type": "markdown",
   "metadata": {},
   "source": [
    "#### Keep checking the `job_url` until the `job_status` is `COMPLETE`"
   ]
  },
  {
   "cell_type": "code",
   "execution_count": null,
   "metadata": {},
   "outputs": [],
   "source": [
    "api_response = await connector.call_api(\n",
    "    method=\"GET\",\n",
    "    resource_path=job_url,\n",
    "    response_types_map={\n",
    "        \"200\": HTTPResponse,\n",
    "    },\n",
    ")\n",
    "\n",
    "response = api_response.data.decode(\"utf-8\")\n",
    "response_json = json.loads(response)\n",
    "print(highlight(json.dumps(response_json, indent=4), JsonLexer(), TerminalTrueColorFormatter(style=\"lightbulb\")))"
   ]
  },
  {
   "cell_type": "markdown",
   "metadata": {},
   "source": [
    "### Demo 2: Add columns to a block model"
   ]
  },
  {
   "cell_type": "markdown",
   "metadata": {},
   "source": [
    "#### Tell the API what changes we are making. In this example we are adding 2 new columns."
   ]
  },
  {
   "cell_type": "code",
   "execution_count": null,
   "metadata": {},
   "outputs": [],
   "source": [
    "resource_path = \"/blockmodel/orgs/{org_id}/workspaces/{workspace_id}/block-models/{bm_uuid}/blocks\"\n",
    "\n",
    "path_params = {\n",
    "    \"org_id\": org_id,\n",
    "    \"workspace_id\": workspace_id,\n",
    "    \"bm_uuid\": bm_uuid,\n",
    "}\n",
    "\n",
    "body = {\n",
    "    \"columns\": {\n",
    "        \"new\": [\n",
    "            {\"title\": \"Geology\", \"data_type\": \"Utf8\"},\n",
    "            {\"title\": \"Cu\", \"data_type\": \"Float64\"},\n",
    "        ],\n",
    "        \"delete\": [],\n",
    "        \"update\": [],\n",
    "        \"rename\": [],\n",
    "    },\n",
    "    \"comment\": \"Comment updated during 'add' request.\",\n",
    "}\n",
    "\n",
    "api_response = await connector.call_api(\n",
    "    method=\"PATCH\",\n",
    "    resource_path=resource_path,\n",
    "    path_params=path_params,\n",
    "    header_params={\"Content-Type\": \"application/json\"},\n",
    "    body=body,\n",
    "    response_types_map={\n",
    "        \"202\": HTTPResponse,\n",
    "    },\n",
    ")\n",
    "\n",
    "status = api_response.status\n",
    "if status != HTTPStatus.ACCEPTED:\n",
    "    raise RuntimeError(f\"Error: Failed to add columns to the block model. Status: {status}\")\n",
    "\n",
    "# Parse the response data\n",
    "response = api_response.data.decode(\"utf-8\")\n",
    "response_json = json.loads(response)\n",
    "\n",
    "# Copy the job URL and remove the host portion to be compatible with the Evo connector object\n",
    "job_url = \"/\" + \"/\".join(response_json[\"job_url\"].split(\"/\")[3:])\n",
    "\n",
    "# Copy the upload URL for later use\n",
    "upload_url = response_json[\"upload_url\"]\n",
    "\n",
    "# Print the response in a highlighted format\n",
    "print(highlight(json.dumps(response_json, indent=4), JsonLexer(), TerminalTrueColorFormatter(style=\"lightbulb\")))"
   ]
  },
  {
   "cell_type": "markdown",
   "metadata": {},
   "source": [
    "### Upload the block model data to the provided `upload_url`"
   ]
  },
  {
   "cell_type": "code",
   "execution_count": null,
   "metadata": {},
   "outputs": [],
   "source": [
    "import requests\n",
    "\n",
    "# Compose the headers\n",
    "headers = {\"Content-Type\": \"application/binary\", \"x-ms-blob-type\": \"BlockBlob\"}\n",
    "\n",
    "# Make a PUT request - include the binary data and headers\n",
    "with open(\"sample/data.parquet\", \"rb\") as data_stream:\n",
    "    response = requests.put(url=upload_url, data=data_stream, headers=headers)\n",
    "\n",
    "if response.status_code != HTTPStatus.CREATED:\n",
    "    raise Exception(f\"Request failed: \\n Status: {response.status_code} \\n Response: {response.json()}\")"
   ]
  },
  {
   "cell_type": "markdown",
   "metadata": {},
   "source": [
    "### Tell BlockSync that the patch is complete"
   ]
  },
  {
   "cell_type": "code",
   "execution_count": null,
   "metadata": {},
   "outputs": [],
   "source": [
    "resource_path = job_url + \"/uploaded\"\n",
    "\n",
    "api_response = await connector.call_api(\n",
    "    method=\"POST\",\n",
    "    resource_path=resource_path,\n",
    "    response_types_map={\n",
    "        \"201\": HTTPResponse,\n",
    "    },\n",
    ")\n",
    "\n",
    "response = api_response.data.decode(\"utf-8\")\n",
    "response_json = json.loads(response)\n",
    "print(highlight(json.dumps(response_json, indent=4), JsonLexer(), TerminalTrueColorFormatter(style=\"lightbulb\")))"
   ]
  },
  {
   "cell_type": "markdown",
   "metadata": {},
   "source": [
    "### Keep checking the `job_url` until the `job_status` is `COMPLETE`"
   ]
  },
  {
   "cell_type": "code",
   "execution_count": null,
   "metadata": {},
   "outputs": [],
   "source": [
    "api_response = await connector.call_api(\n",
    "    method=\"GET\",\n",
    "    resource_path=job_url,\n",
    "    response_types_map={\n",
    "        \"200\": HTTPResponse,\n",
    "    },\n",
    ")\n",
    "\n",
    "response = api_response.data.decode(\"utf-8\")\n",
    "response_json = json.loads(response)\n",
    "print(highlight(json.dumps(response_json, indent=4), JsonLexer(), TerminalTrueColorFormatter(style=\"lightbulb\")))"
   ]
  },
  {
   "cell_type": "markdown",
   "metadata": {},
   "source": [
    "### Demo 3: Display block models in your workspace"
   ]
  },
  {
   "cell_type": "code",
   "execution_count": null,
   "metadata": {},
   "outputs": [],
   "source": [
    "resource_path = \"/blockmodel/orgs/{org_id}/workspaces/{workspace_id}/block-models\"\n",
    "\n",
    "path_params = {\n",
    "    \"org_id\": org_id,\n",
    "    \"workspace_id\": workspace_id,\n",
    "}\n",
    "\n",
    "api_response = await connector.call_api(\n",
    "    method=\"GET\",\n",
    "    resource_path=resource_path,\n",
    "    path_params=path_params,\n",
    "    response_types_map={\n",
    "        \"200\": HTTPResponse,\n",
    "    },\n",
    ")\n",
    "\n",
    "response = api_response.data.decode(\"utf-8\")\n",
    "response_json = json.loads(response)\n",
    "print(highlight(json.dumps(response_json, indent=4), JsonLexer(), TerminalTrueColorFormatter(style=\"lightbulb\")))"
   ]
  },
  {
   "cell_type": "markdown",
   "metadata": {},
   "source": [
    "### Demo 4: Query the latest version of a block model"
   ]
  },
  {
   "cell_type": "code",
   "execution_count": null,
   "metadata": {},
   "outputs": [],
   "source": [
    "# Copy the `bm_uuid` value from your chosen block model in the previous cell response\n",
    "bm_uuid = \"<your-block-model-uuid>\"  # Replace with your block model UUID\n",
    "\n",
    "# Part 1 - Send the initial request\n",
    "resource_path = \"/blockmodel/orgs/{org_id}/workspaces/{workspace_id}/block-models/{bm_uuid}/blocks\"\n",
    "\n",
    "path_params = {\"org_id\": org_id, \"workspace_id\": workspace_id, \"bm_uuid\": bm_uuid}\n",
    "\n",
    "body = {\"columns\": [\"*\"], \"geometry_columns\": \"coordinates\"}\n",
    "\n",
    "api_response = await connector.call_api(\n",
    "    method=\"POST\",\n",
    "    resource_path=resource_path,\n",
    "    path_params=path_params,\n",
    "    header_params={\"Content-Type\": \"application/json\"},\n",
    "    body=body,\n",
    "    response_types_map={\n",
    "        \"200\": HTTPResponse,\n",
    "    },\n",
    ")\n",
    "\n",
    "status = api_response.status\n",
    "if status != HTTPStatus.OK:\n",
    "    raise RuntimeError(f\"Error: Failed to download the block model. Status: {status}\")\n",
    "\n",
    "# Parse the response data\n",
    "response = api_response.data.decode(\"utf-8\")\n",
    "response_json = json.loads(response)\n",
    "\n",
    "# Copy the job URL and remove the host portion to be compatible with the Evo connector object\n",
    "job_url = \"/\" + \"/\".join(response_json[\"job_url\"].split(\"/\")[3:])"
   ]
  },
  {
   "cell_type": "markdown",
   "metadata": {},
   "source": [
    "#### Check the job status until it is complete"
   ]
  },
  {
   "cell_type": "code",
   "execution_count": null,
   "metadata": {},
   "outputs": [],
   "source": [
    "api_response = await connector.call_api(\n",
    "    method=\"GET\",\n",
    "    resource_path=job_url,\n",
    "    response_types_map={\n",
    "        \"200\": HTTPResponse,\n",
    "    },\n",
    ")\n",
    "\n",
    "response = api_response.data.decode(\"utf-8\")\n",
    "response_json = json.loads(response)\n",
    "print(highlight(json.dumps(response_json, indent=4), JsonLexer(), TerminalTrueColorFormatter(style=\"lightbulb\")))\n",
    "\n",
    "if response_json[\"job_status\"] == \"COMPLETE\":\n",
    "    download_url = response_json[\"payload\"][\"download_url\"]"
   ]
  },
  {
   "cell_type": "markdown",
   "metadata": {},
   "source": [
    "#### Download the data"
   ]
  },
  {
   "cell_type": "code",
   "execution_count": null,
   "metadata": {},
   "outputs": [],
   "source": [
    "import pandas as pd\n",
    "\n",
    "download_response = requests.get(download_url)\n",
    "file_path = f\"{download_path}/query_results.parquet\"\n",
    "open(file_path, \"wb\").write(download_response.content)\n",
    "\n",
    "df = pd.read_parquet(file_path)\n",
    "df.head()"
   ]
  },
  {
   "cell_type": "markdown",
   "metadata": {},
   "source": [
    "### Demo 5: Query a block model using a bounding box"
   ]
  },
  {
   "cell_type": "code",
   "execution_count": null,
   "metadata": {},
   "outputs": [],
   "source": [
    "# Part 1 - Send the initial request\n",
    "resource_path = \"/blockmodel/orgs/{org_id}/workspaces/{workspace_id}/block-models/{bm_uuid}/blocks\"\n",
    "\n",
    "path_params = {\"org_id\": org_id, \"workspace_id\": workspace_id, \"bm_uuid\": bm_uuid}\n",
    "\n",
    "body = {\n",
    "    \"bbox\": {\n",
    "        \"i_minmax\": {\"min\": 3, \"max\": 6},\n",
    "        \"j_minmax\": {\"min\": 2, \"max\": 8},\n",
    "        \"k_minmax\": {\"min\": 1, \"max\": 3},\n",
    "    },\n",
    "    \"columns\": [\"Cu\"],\n",
    "}\n",
    "\n",
    "api_response = await connector.call_api(\n",
    "    method=\"POST\",\n",
    "    resource_path=resource_path,\n",
    "    path_params=path_params,\n",
    "    header_params={\"Content-Type\": \"application/json\"},\n",
    "    body=body,\n",
    "    response_types_map={\n",
    "        \"200\": HTTPResponse,\n",
    "    },\n",
    ")\n",
    "\n",
    "status = api_response.status\n",
    "if status != HTTPStatus.OK:\n",
    "    raise RuntimeError(f\"Error: Failed to download the block model. Status: {status}\")\n",
    "\n",
    "# Parse the response data\n",
    "response = api_response.data.decode(\"utf-8\")\n",
    "response_json = json.loads(response)\n",
    "\n",
    "# Copy the job URL and remove the host portion to be compatible with the Evo connector object\n",
    "job_url = \"/\" + \"/\".join(response_json[\"job_url\"].split(\"/\")[3:])"
   ]
  },
  {
   "cell_type": "markdown",
   "metadata": {},
   "source": [
    "#### Check the job status until it is complete"
   ]
  },
  {
   "cell_type": "code",
   "execution_count": null,
   "metadata": {},
   "outputs": [],
   "source": [
    "api_response = await connector.call_api(\n",
    "    method=\"GET\",\n",
    "    resource_path=job_url,\n",
    "    response_types_map={\n",
    "        \"200\": HTTPResponse,\n",
    "    },\n",
    ")\n",
    "\n",
    "response = api_response.data.decode(\"utf-8\")\n",
    "response_json = json.loads(response)\n",
    "print(highlight(json.dumps(response_json, indent=4), JsonLexer(), TerminalTrueColorFormatter(style=\"lightbulb\")))\n",
    "\n",
    "if response_json[\"job_status\"] == \"COMPLETE\":\n",
    "    download_url = response_json[\"payload\"][\"download_url\"]"
   ]
  },
  {
   "cell_type": "markdown",
   "metadata": {},
   "source": [
    "#### Download the data"
   ]
  },
  {
   "cell_type": "code",
   "execution_count": null,
   "metadata": {},
   "outputs": [],
   "source": [
    "download_response = requests.get(download_url)\n",
    "file_path = f\"{download_path}/query_results.parquet\"\n",
    "open(file_path, \"wb\").write(download_response.content)\n",
    "\n",
    "df = pd.read_parquet(file_path)\n",
    "df.head()"
   ]
  },
  {
   "cell_type": "markdown",
   "metadata": {},
   "source": [
    "### Demo 6: Update units on existing columns"
   ]
  },
  {
   "cell_type": "code",
   "execution_count": null,
   "metadata": {},
   "outputs": [],
   "source": [
    "resource_path = \"/blockmodel/orgs/{org_id}/workspaces/{workspace_id}/block-models/{bm_uuid}/blocks\"\n",
    "\n",
    "path_params = {\"org_id\": org_id, \"workspace_id\": workspace_id, \"bm_uuid\": bm_uuid}\n",
    "\n",
    "body = {\n",
    "    \"columns\": {\n",
    "        \"new\": [],\n",
    "        \"delete\": [],\n",
    "        \"update\": [],\n",
    "        \"rename\": [],\n",
    "        \"update_metadata\": [{\"title\": \"Cu\", \"values\": {\"unit_id\": \"%[mass]\"}}],\n",
    "    },\n",
    "    \"comment\": \"Updated Cu unit.\",\n",
    "}\n",
    "\n",
    "api_response = await connector.call_api(\n",
    "    method=\"PATCH\",\n",
    "    resource_path=resource_path,\n",
    "    path_params=path_params,\n",
    "    header_params={\"Content-Type\": \"application/json\"},\n",
    "    body=body,\n",
    "    response_types_map={\n",
    "        \"202\": HTTPResponse,\n",
    "    },\n",
    ")\n",
    "\n",
    "status = api_response.status\n",
    "if status != HTTPStatus.ACCEPTED:\n",
    "    raise RuntimeError(f\"Error: Failed to update units of the block model. Status: {status}\")\n",
    "\n",
    "# Parse the response data\n",
    "response = api_response.data.decode(\"utf-8\")\n",
    "response_json = json.loads(response)\n",
    "\n",
    "# Copy the job URL and remove the host portion to be compatible with the Evo connector object\n",
    "job_url = \"/\" + \"/\".join(response_json[\"job_url\"].split(\"/\")[3:])\n",
    "\n",
    "# Copy the upload URL for later use\n",
    "upload_url = response_json[\"upload_url\"]\n",
    "\n",
    "# Print the response in a highlighted format\n",
    "print(highlight(json.dumps(response_json, indent=4), JsonLexer(), TerminalTrueColorFormatter(style=\"lightbulb\")))"
   ]
  },
  {
   "cell_type": "markdown",
   "metadata": {},
   "source": [
    "#### Tell BlockSync that the patch is complete"
   ]
  },
  {
   "cell_type": "code",
   "execution_count": null,
   "metadata": {},
   "outputs": [],
   "source": [
    "resource_path = job_url + \"/uploaded\"\n",
    "\n",
    "api_response = await connector.call_api(\n",
    "    method=\"POST\",\n",
    "    resource_path=resource_path,\n",
    "    response_types_map={\n",
    "        \"201\": HTTPResponse,\n",
    "    },\n",
    ")\n",
    "\n",
    "response = api_response.data.decode(\"utf-8\")\n",
    "response_json = json.loads(response)\n",
    "print(highlight(json.dumps(response_json, indent=4), JsonLexer(), TerminalTrueColorFormatter(style=\"lightbulb\")))"
   ]
  },
  {
   "cell_type": "markdown",
   "metadata": {},
   "source": [
    "#### Keep checking the `job_url` until the `job_status` is `COMPLETE`"
   ]
  },
  {
   "cell_type": "code",
   "execution_count": null,
   "metadata": {},
   "outputs": [],
   "source": [
    "api_response = await connector.call_api(\n",
    "    method=\"GET\",\n",
    "    resource_path=job_url,\n",
    "    response_types_map={\n",
    "        \"200\": HTTPResponse,\n",
    "    },\n",
    ")\n",
    "\n",
    "response = api_response.data.decode(\"utf-8\")\n",
    "response_json = json.loads(response)\n",
    "print(highlight(json.dumps(response_json, indent=4), JsonLexer(), TerminalTrueColorFormatter(style=\"lightbulb\")))"
   ]
  },
  {
   "cell_type": "markdown",
   "metadata": {},
   "source": [
    "### Demo 7: Update a column and publish a new version of the block model"
   ]
  },
  {
   "cell_type": "code",
   "execution_count": null,
   "metadata": {},
   "outputs": [],
   "source": [
    "column_to_update = \"Cu\"\n",
    "\n",
    "df[column_to_update] = df[column_to_update] + 1\n",
    "df.head()\n",
    "df.to_parquet(file_path, index=False)\n",
    "\n",
    "resource_path = \"/blockmodel/orgs/{org_id}/workspaces/{workspace_id}/block-models/{bm_uuid}/blocks\"\n",
    "\n",
    "path_params = {\n",
    "    \"org_id\": org_id,\n",
    "    \"workspace_id\": workspace_id,\n",
    "    \"bm_uuid\": bm_uuid,\n",
    "}\n",
    "\n",
    "body = {\n",
    "    \"columns\": {\"new\": [], \"delete\": [], \"update\": [column_to_update], \"rename\": []},\n",
    "    \"comment\": f\"Updated the {column_to_update} column\",\n",
    "}\n",
    "\n",
    "api_response = await connector.call_api(\n",
    "    method=\"PATCH\",\n",
    "    resource_path=resource_path,\n",
    "    path_params=path_params,\n",
    "    header_params={\"Content-Type\": \"application/json\"},\n",
    "    body=body,\n",
    "    response_types_map={\n",
    "        \"202\": HTTPResponse,\n",
    "    },\n",
    ")\n",
    "\n",
    "status = api_response.status\n",
    "if status != HTTPStatus.ACCEPTED:\n",
    "    raise RuntimeError(f\"Error: Failed to update the block model. Status: {status}\")\n",
    "\n",
    "# Parse the response data\n",
    "response = api_response.data.decode(\"utf-8\")\n",
    "response_json = json.loads(response)\n",
    "\n",
    "# Copy the job URL and remove the host portion to be compatible with the Evo connector object\n",
    "job_url = \"/\" + \"/\".join(response_json[\"job_url\"].split(\"/\")[3:])\n",
    "\n",
    "# Copy the upload URL for later use\n",
    "upload_url = response_json[\"upload_url\"]\n",
    "\n",
    "# Print the response in a highlighted format\n",
    "print(highlight(json.dumps(response_json, indent=4), JsonLexer(), TerminalTrueColorFormatter(style=\"lightbulb\")))"
   ]
  },
  {
   "cell_type": "markdown",
   "metadata": {},
   "source": [
    "#### Upload the block model data to the provided `upload_url`"
   ]
  },
  {
   "cell_type": "code",
   "execution_count": null,
   "metadata": {},
   "outputs": [],
   "source": [
    "# Compose the headers\n",
    "headers = {\"Content-Type\": \"application/binary\", \"x-ms-blob-type\": \"BlockBlob\"}\n",
    "\n",
    "# Make a PUT request - include the binary data and headers\n",
    "with open(file_path, \"rb\") as data_stream:\n",
    "    response = requests.put(url=upload_url, data=data_stream, headers=headers)\n",
    "\n",
    "if response.status_code != HTTPStatus.CREATED:\n",
    "    raise Exception(f\"Request failed: \\n Status: {response.status_code} \\n Response: {response.json()}\")"
   ]
  },
  {
   "cell_type": "markdown",
   "metadata": {},
   "source": [
    "#### Tell BlockSync that the patch is complete"
   ]
  },
  {
   "cell_type": "code",
   "execution_count": null,
   "metadata": {},
   "outputs": [],
   "source": [
    "resource_path = job_url + \"/uploaded\"\n",
    "\n",
    "api_response = await connector.call_api(\n",
    "    method=\"POST\",\n",
    "    resource_path=resource_path,\n",
    "    response_types_map={\n",
    "        \"201\": HTTPResponse,\n",
    "    },\n",
    ")\n",
    "\n",
    "response = api_response.data.decode(\"utf-8\")\n",
    "response_json = json.loads(response)\n",
    "print(highlight(json.dumps(response_json, indent=4), JsonLexer(), TerminalTrueColorFormatter(style=\"lightbulb\")))"
   ]
  },
  {
   "cell_type": "markdown",
   "metadata": {},
   "source": [
    "#### Keep checking the `job_url` until the `job_status` is `COMPLETE`"
   ]
  },
  {
   "cell_type": "code",
   "execution_count": null,
   "metadata": {},
   "outputs": [],
   "source": [
    "api_response = await connector.call_api(\n",
    "    method=\"GET\",\n",
    "    resource_path=job_url,\n",
    "    response_types_map={\n",
    "        \"200\": HTTPResponse,\n",
    "    },\n",
    ")\n",
    "\n",
    "response = api_response.data.decode(\"utf-8\")\n",
    "response_json = json.loads(response)\n",
    "print(highlight(json.dumps(response_json, indent=4), JsonLexer(), TerminalTrueColorFormatter(style=\"lightbulb\")))"
   ]
  },
  {
   "cell_type": "markdown",
   "metadata": {},
   "source": [
    "### Demo 8: Rename columns"
   ]
  },
  {
   "cell_type": "code",
   "execution_count": null,
   "metadata": {},
   "outputs": [],
   "source": [
    "resource_path = \"/blockmodel/orgs/{org_id}/workspaces/{workspace_id}/block-models/{bm_uuid}/blocks\"\n",
    "\n",
    "path_params = {\n",
    "    \"org_id\": org_id,\n",
    "    \"workspace_id\": workspace_id,\n",
    "    \"bm_uuid\": bm_uuid,\n",
    "}\n",
    "\n",
    "body = {\n",
    "    \"columns\": {\n",
    "        \"new\": [],\n",
    "        \"delete\": [],\n",
    "        \"update\": [],\n",
    "        \"rename\": [\n",
    "            {\"title\": \"Cu\", \"new_title\": \"Cu_renamed\"},\n",
    "            {\"title\": \"Geology\", \"new_title\": \"Geology_renamed\"},\n",
    "        ],\n",
    "    },\n",
    "    \"comment\": \"Updated column names.\",\n",
    "}\n",
    "\n",
    "api_response = await connector.call_api(\n",
    "    method=\"PATCH\",\n",
    "    resource_path=resource_path,\n",
    "    path_params=path_params,\n",
    "    header_params={\"Content-Type\": \"application/json\"},\n",
    "    body=body,\n",
    "    response_types_map={\n",
    "        \"202\": HTTPResponse,\n",
    "    },\n",
    ")\n",
    "\n",
    "status = api_response.status\n",
    "if status != HTTPStatus.ACCEPTED:\n",
    "    raise RuntimeError(f\"Error: Failed to rename columns in the block model. Status: {status}\")\n",
    "\n",
    "# Parse the response data\n",
    "response = api_response.data.decode(\"utf-8\")\n",
    "response_json = json.loads(response)\n",
    "\n",
    "# Copy the job URL and remove the host portion to be compatible with the Evo connector object\n",
    "job_url = \"/\" + \"/\".join(response_json[\"job_url\"].split(\"/\")[3:])\n",
    "\n",
    "# Copy the upload URL for later use\n",
    "upload_url = response_json[\"upload_url\"]\n",
    "\n",
    "# Print the response in a highlighted format\n",
    "print(highlight(json.dumps(response_json, indent=4), JsonLexer(), TerminalTrueColorFormatter(style=\"lightbulb\")))"
   ]
  },
  {
   "cell_type": "markdown",
   "metadata": {},
   "source": [
    "#### Tell BlockSync that the patch is complete"
   ]
  },
  {
   "cell_type": "code",
   "execution_count": null,
   "metadata": {},
   "outputs": [],
   "source": [
    "resource_path = job_url + \"/uploaded\"\n",
    "\n",
    "api_response = await connector.call_api(\n",
    "    method=\"POST\",\n",
    "    resource_path=resource_path,\n",
    "    response_types_map={\n",
    "        \"201\": HTTPResponse,\n",
    "    },\n",
    ")\n",
    "\n",
    "response = api_response.data.decode(\"utf-8\")\n",
    "response_json = json.loads(response)\n",
    "print(highlight(json.dumps(response_json, indent=4), JsonLexer(), TerminalTrueColorFormatter(style=\"lightbulb\")))"
   ]
  },
  {
   "cell_type": "markdown",
   "metadata": {},
   "source": [
    "#### Keep checking the `job_url` until the `job_status` is `COMPLETE`"
   ]
  },
  {
   "cell_type": "code",
   "execution_count": null,
   "metadata": {},
   "outputs": [],
   "source": [
    "api_response = await connector.call_api(\n",
    "    method=\"GET\",\n",
    "    resource_path=job_url,\n",
    "    response_types_map={\n",
    "        \"200\": HTTPResponse,\n",
    "    },\n",
    ")\n",
    "\n",
    "response = api_response.data.decode(\"utf-8\")\n",
    "response_json = json.loads(response)\n",
    "print(highlight(json.dumps(response_json, indent=4), JsonLexer(), TerminalTrueColorFormatter(style=\"lightbulb\")))"
   ]
  },
  {
   "cell_type": "markdown",
   "metadata": {},
   "source": [
    "### Demo 9: Delete a column"
   ]
  },
  {
   "cell_type": "code",
   "execution_count": null,
   "metadata": {},
   "outputs": [],
   "source": [
    "# Delete a column from a block model\n",
    "column_to_delete = \"Cu_renamed\"\n",
    "\n",
    "resource_path = \"/blockmodel/orgs/{org_id}/workspaces/{workspace_id}/block-models/{bm_uuid}/blocks\"\n",
    "\n",
    "path_params = {\n",
    "    \"org_id\": org_id,\n",
    "    \"workspace_id\": workspace_id,\n",
    "    \"bm_uuid\": bm_uuid,\n",
    "}\n",
    "\n",
    "body = {\n",
    "    \"columns\": {\"new\": [], \"delete\": [column_to_delete], \"update\": [], \"rename\": []},\n",
    "    \"comment\": \"Deleted a column.\",\n",
    "}\n",
    "\n",
    "api_response = await connector.call_api(\n",
    "    method=\"PATCH\",\n",
    "    resource_path=resource_path,\n",
    "    path_params=path_params,\n",
    "    header_params={\"Content-Type\": \"application/json\"},\n",
    "    body=body,\n",
    "    response_types_map={\n",
    "        \"202\": HTTPResponse,\n",
    "    },\n",
    ")\n",
    "\n",
    "status = api_response.status\n",
    "if status != HTTPStatus.ACCEPTED:\n",
    "    raise RuntimeError(f\"Error: Failed to delete a column from the block model. Status: {status}\")\n",
    "\n",
    "# Parse the response data\n",
    "response = api_response.data.decode(\"utf-8\")\n",
    "response_json = json.loads(response)\n",
    "\n",
    "# Copy the job URL and remove the host portion to be compatible with the Evo connector object\n",
    "job_url = \"/\" + \"/\".join(response_json[\"job_url\"].split(\"/\")[3:])\n",
    "\n",
    "# Copy the upload URL for later use\n",
    "upload_url = response_json[\"upload_url\"]\n",
    "\n",
    "# Print the response in a highlighted format\n",
    "print(highlight(json.dumps(response_json, indent=4), JsonLexer(), TerminalTrueColorFormatter(style=\"lightbulb\")))"
   ]
  },
  {
   "cell_type": "markdown",
   "metadata": {},
   "source": [
    "#### Tell BlockSync that the patch is complete"
   ]
  },
  {
   "cell_type": "code",
   "execution_count": null,
   "metadata": {},
   "outputs": [],
   "source": [
    "resource_path = job_url + \"/uploaded\"\n",
    "\n",
    "api_response = await connector.call_api(\n",
    "    method=\"POST\",\n",
    "    resource_path=resource_path,\n",
    "    response_types_map={\n",
    "        \"201\": HTTPResponse,\n",
    "    },\n",
    ")\n",
    "\n",
    "response = api_response.data.decode(\"utf-8\")\n",
    "response_json = json.loads(response)\n",
    "print(highlight(json.dumps(response_json, indent=4), JsonLexer(), TerminalTrueColorFormatter(style=\"lightbulb\")))"
   ]
  },
  {
   "cell_type": "markdown",
   "metadata": {},
   "source": [
    "#### Keep checking the `job_url` until the `job_status` is `COMPLETE`"
   ]
  },
  {
   "cell_type": "code",
   "execution_count": null,
   "metadata": {},
   "outputs": [],
   "source": [
    "api_response = await connector.call_api(\n",
    "    method=\"GET\",\n",
    "    resource_path=job_url,\n",
    "    response_types_map={\n",
    "        \"200\": HTTPResponse,\n",
    "    },\n",
    ")\n",
    "\n",
    "response = api_response.data.decode(\"utf-8\")\n",
    "response_json = json.loads(response)\n",
    "print(highlight(json.dumps(response_json, indent=4), JsonLexer(), TerminalTrueColorFormatter(style=\"lightbulb\")))"
   ]
  },
  {
   "cell_type": "markdown",
   "metadata": {},
   "source": [
    "### Demo 10: List all versions of a block model"
   ]
  },
  {
   "cell_type": "code",
   "execution_count": null,
   "metadata": {},
   "outputs": [],
   "source": [
    "resource_path = \"/blockmodel/orgs/{org_id}/workspaces/{workspace_id}/block-models/{bm_uuid}/versions\"\n",
    "\n",
    "path_params = {\n",
    "    \"org_id\": org_id,\n",
    "    \"workspace_id\": workspace_id,\n",
    "    \"bm_uuid\": bm_uuid,\n",
    "}\n",
    "\n",
    "api_response = await connector.call_api(\n",
    "    method=\"GET\",\n",
    "    resource_path=resource_path,\n",
    "    path_params=path_params,\n",
    "    header_params={\"Content-Type\": \"application/json\"},\n",
    "    response_types_map={\n",
    "        \"200\": HTTPResponse,\n",
    "    },\n",
    ")\n",
    "\n",
    "status = api_response.status\n",
    "if status != HTTPStatus.OK:\n",
    "    raise RuntimeError(f\"Error: Failed to list block model versions. Status: {status}\")\n",
    "\n",
    "# Parse the response data\n",
    "response = api_response.data.decode(\"utf-8\")\n",
    "version_output = json.loads(response)\n",
    "\n",
    "# Print the response in a highlighted format\n",
    "print(highlight(json.dumps(version_output, indent=4), JsonLexer(), TerminalTrueColorFormatter(style=\"lightbulb\")))"
   ]
  },
  {
   "cell_type": "markdown",
   "metadata": {},
   "source": [
    "### Demo 11: Query a specific block model version"
   ]
  },
  {
   "cell_type": "code",
   "execution_count": null,
   "metadata": {},
   "outputs": [],
   "source": [
    "version_id = 2\n",
    "\n",
    "# Parse the version_output from the previous cell to find the version_uuid for the specified version_id\n",
    "filtered_version = next((v for v in version_output[\"results\"] if v[\"version_id\"] == version_id), None)\n",
    "if not filtered_version:\n",
    "    raise ValueError(f\"Version {version_id} not found in the version_output.\")\n",
    "\n",
    "version_uuid = filtered_version[\"version_uuid\"]\n",
    "\n",
    "resource_path = \"/blockmodel/orgs/{org_id}/workspaces/{workspace_id}/block-models/{bm_uuid}/blocks\"\n",
    "\n",
    "path_params = {\n",
    "    \"org_id\": org_id,\n",
    "    \"workspace_id\": workspace_id,\n",
    "    \"bm_uuid\": bm_uuid,\n",
    "}\n",
    "\n",
    "body = {\"columns\": [\"*\"], \"geometry_columns\": \"coordinates\", \"version_uuid\": version_uuid}\n",
    "\n",
    "api_response = await connector.call_api(\n",
    "    method=\"POST\",\n",
    "    resource_path=resource_path,\n",
    "    path_params=path_params,\n",
    "    header_params={\"Content-Type\": \"application/json\"},\n",
    "    body=body,\n",
    "    response_types_map={\n",
    "        \"200\": HTTPResponse,\n",
    "    },\n",
    ")\n",
    "\n",
    "status = api_response.status\n",
    "if status != HTTPStatus.OK:\n",
    "    raise RuntimeError(f\"Error: Failed to download block model version. Status: {status}\")\n",
    "\n",
    "# Parse the response data\n",
    "response = api_response.data.decode(\"utf-8\")\n",
    "response_json = json.loads(response)\n",
    "\n",
    "# Copy the job URL and remove the host portion to be compatible with the Evo connector object\n",
    "job_url = \"/\" + \"/\".join(response_json[\"job_url\"].split(\"/\")[3:])\n",
    "\n",
    "# Print the response in a highlighted format\n",
    "print(highlight(json.dumps(response_json, indent=4), JsonLexer(), TerminalTrueColorFormatter(style=\"lightbulb\")))"
   ]
  },
  {
   "cell_type": "markdown",
   "metadata": {},
   "source": [
    "#### Keep checking the `job_url` until the `job_status` is `COMPLETE`"
   ]
  },
  {
   "cell_type": "code",
   "execution_count": null,
   "metadata": {},
   "outputs": [],
   "source": [
    "api_response = await connector.call_api(\n",
    "    method=\"GET\",\n",
    "    resource_path=job_url,\n",
    "    response_types_map={\n",
    "        \"200\": HTTPResponse,\n",
    "    },\n",
    ")\n",
    "\n",
    "response = api_response.data.decode(\"utf-8\")\n",
    "response_json = json.loads(response)\n",
    "print(highlight(json.dumps(response_json, indent=4), JsonLexer(), TerminalTrueColorFormatter(style=\"lightbulb\")))\n",
    "\n",
    "if response_json[\"job_status\"] == \"COMPLETE\":\n",
    "    download_url = response_json[\"payload\"][\"download_url\"]"
   ]
  },
  {
   "cell_type": "markdown",
   "metadata": {},
   "source": [
    "#### Download the data"
   ]
  },
  {
   "cell_type": "code",
   "execution_count": null,
   "metadata": {},
   "outputs": [],
   "source": [
    "download_response = requests.get(download_url)\n",
    "file_path = f\"{download_path}/query_results.parquet\"\n",
    "open(file_path, \"wb\").write(download_response.content)\n",
    "\n",
    "df = pd.read_parquet(file_path)\n",
    "df.head()"
   ]
  }
 ],
 "metadata": {
  "kernelspec": {
   "display_name": "samples",
   "language": "python",
   "name": "python3"
  },
  "language_info": {
   "codemirror_mode": {
    "name": "ipython",
    "version": 3
   },
   "file_extension": ".py",
   "mimetype": "text/x-python",
   "name": "python",
   "nbconvert_exporter": "python",
   "pygments_lexer": "ipython3",
   "version": "3.10.16"
  }
 },
 "nbformat": 4,
 "nbformat_minor": 2
}
