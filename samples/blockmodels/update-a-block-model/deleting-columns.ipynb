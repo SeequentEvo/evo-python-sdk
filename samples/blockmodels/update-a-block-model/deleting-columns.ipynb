{
 "cells": [
  {
   "cell_type": "markdown",
   "metadata": {},
   "source": [
    "## Deleting columns"
   ]
  },
  {
   "cell_type": "code",
   "execution_count": null,
   "metadata": {},
   "outputs": [],
   "source": [
    "# Import modules\n",
    "\n",
    "import json\n",
    "from http import HTTPStatus\n",
    "\n",
    "import requests"
   ]
  },
  {
   "cell_type": "markdown",
   "metadata": {},
   "source": [
    "## Prepare OAuth client and Evo configuration"
   ]
  },
  {
   "cell_type": "code",
   "execution_count": null,
   "metadata": {},
   "outputs": [],
   "source": [
    "# Enter your access token, Evo hub URL, org ID, workspace ID, and block model ID.\n",
    "\n",
    "access_token = \"\"\n",
    "evo_hub_url = \"\"\n",
    "org_id = \"\"\n",
    "workspace_id = \"\"\n",
    "block_model_id = \"\"\n",
    "\n",
    "auth_header = {\"Authorization\": \"Bearer \" + access_token}"
   ]
  },
  {
   "cell_type": "code",
   "execution_count": null,
   "metadata": {},
   "outputs": [],
   "source": [
    "# Compose the URL and JSON body\n",
    "url = f\"{evo_hub_url}/blockmodel/orgs/{org_id}/workspaces/{workspace_id}/block-models/{block_model_id}/blocks\"\n",
    "\n",
    "# The column that we are deleting was changed from \"Geology\" to \"A new title!\" in the previous notebook.\n",
    "body = {\n",
    "    \"columns\": {\"new\": [], \"delete\": [\"A new title!\"], \"update\": [], \"rename\": []},\n",
    "    \"comment\": \"Deleting the 'A new title!' column.\",\n",
    "}\n",
    "\n",
    "# Make a PATCH request and include the JSON body and headers\n",
    "response = requests.patch(url=url, json=body, headers=auth_header)\n",
    "response_output = json.dumps(response.json(), indent=4, sort_keys=True)\n",
    "\n",
    "# Copy the `job_url` parameter from the response\n",
    "if response.status_code == HTTPStatus.ACCEPTED:\n",
    "    print(response_output)\n",
    "    job_url = response.json()[\"job_url\"]\n",
    "else:\n",
    "    raise Exception(f\"Request failed: \\n Status: {response.status_code} \\n Response: {response_output}\")"
   ]
  },
  {
   "attachments": {},
   "cell_type": "markdown",
   "metadata": {},
   "source": [
    "### Step 2: Tell BlockSync to process the change\n",
    "\n",
    "After the `PATCH` request is complete, send a `POST` request to inform BlockSync that the change can now be processed.\n",
    "\n",
    "The URL is simply the `job_url` from Step 1 with `/uploaded` appended.\n",
    "\n",
    "NOTE: Even though no data was uploaded, this API request must still be made."
   ]
  },
  {
   "cell_type": "code",
   "execution_count": null,
   "metadata": {},
   "outputs": [],
   "source": [
    "# Compose the URL\n",
    "url = f\"{job_url}/uploaded\"\n",
    "\n",
    "# Make a POST request, including the headers\n",
    "response = requests.post(url=url, headers=auth_header)\n",
    "response_output = json.dumps(response.json(), indent=4, sort_keys=True)\n",
    "print(response_output)"
   ]
  },
  {
   "attachments": {},
   "cell_type": "markdown",
   "metadata": {},
   "source": [
    "### Step 3: Check the job status\n",
    "\n",
    "Deleting data may take anywhere from a few seconds to a few minutes to complete, so it's still worthwhile checking the job status to ensure nothing went wrong."
   ]
  },
  {
   "cell_type": "code",
   "execution_count": null,
   "metadata": {},
   "outputs": [],
   "source": [
    "# Keep checking the `job_url` until the `job_status` is `COMPLETE`.\n",
    "\n",
    "# Make a GET request, including the headers\n",
    "response = requests.get(url=job_url, headers=auth_header)\n",
    "response_output = json.dumps(response.json(), indent=4, sort_keys=True)\n",
    "print(response_output)"
   ]
  }
 ],
 "metadata": {
  "kernelspec": {
   "display_name": ".venv",
   "language": "python",
   "name": "python3"
  },
  "language_info": {
   "codemirror_mode": {
    "name": "ipython",
    "version": 3
   },
   "file_extension": ".py",
   "mimetype": "text/x-python",
   "name": "python",
   "nbconvert_exporter": "python",
   "pygments_lexer": "ipython3",
   "version": "3.12.0"
  },
  "orig_nbformat": 4
 },
 "nbformat": 4,
 "nbformat_minor": 2
}
