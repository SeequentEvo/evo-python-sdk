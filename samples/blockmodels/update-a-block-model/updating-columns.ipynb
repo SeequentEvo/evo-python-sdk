{
 "cells": [
  {
   "cell_type": "markdown",
   "metadata": {},
   "source": [
    "## Updating columns"
   ]
  },
  {
   "cell_type": "code",
   "execution_count": null,
   "metadata": {},
   "outputs": [],
   "source": [
    "# Import modules\n",
    "\n",
    "import json\n",
    "from http import HTTPStatus\n",
    "\n",
    "import requests"
   ]
  },
  {
   "cell_type": "code",
   "execution_count": null,
   "metadata": {},
   "outputs": [],
   "source": [
    "# Enter your access token, Evo hub URL, org ID, workspace ID, and block model ID.\n",
    "\n",
    "access_token = \"\"\n",
    "evo_hub_url = \"\"\n",
    "org_id = \"\"\n",
    "workspace_id = \"\"\n",
    "block_model_id = \"\"\n",
    "\n",
    "auth_header = {\"Authorization\": \"Bearer \" + access_token}"
   ]
  },
  {
   "cell_type": "code",
   "execution_count": null,
   "metadata": {},
   "outputs": [],
   "source": [
    "# Compose the URL and JSON body\n",
    "url = f\"{evo_hub_url}/blockmodel/orgs/{org_id}/workspaces/{workspace_id}/block-models/{block_model_id}/blocks\"\n",
    "\n",
    "body = {\n",
    "    \"columns\": {\"new\": [], \"delete\": [], \"update\": [\"Geology\"], \"rename\": []},\n",
    "    \"comment\": \"Comment updated during UPDATE column.\",\n",
    "}\n",
    "\n",
    "# Make a PATCH request and include the JSON body and headers\n",
    "response = requests.patch(url=url, json=body, headers=auth_header)\n",
    "response_output = json.dumps(response.json(), indent=4, sort_keys=True)\n",
    "\n",
    "# Copy the `upload_url` and `job_url` parameters from the response\n",
    "if response.status_code == HTTPStatus.ACCEPTED:\n",
    "    print(response_output)\n",
    "    upload_url = response.json()[\"upload_url\"]\n",
    "    job_url = response.json()[\"job_url\"]\n",
    "else:\n",
    "    raise Exception(f\"Request failed: \\n Status: {response.status_code} \\n Response: {response_output}\")"
   ]
  },
  {
   "cell_type": "code",
   "execution_count": null,
   "metadata": {},
   "outputs": [],
   "source": [
    "# Compose the headers\n",
    "# NOTE: The Seequent ID access token is not required for this request\n",
    "headers = {\"Content-Type\": \"application/binary\", \"x-ms-blob-type\": \"BlockBlob\"}\n",
    "\n",
    "# Make a PUT request - include the binary data and headers\n",
    "with open(\"sample/data_update.parquet\", \"rb\") as data_stream:\n",
    "    response = requests.put(url=upload_url, data=data_stream, headers=headers)\n",
    "\n",
    "if response.status_code != HTTPStatus.CREATED:\n",
    "    raise Exception(f\"Request failed: \\n Status: {response.status_code} \\n Response: {response.json()}\")"
   ]
  },
  {
   "cell_type": "code",
   "execution_count": null,
   "metadata": {},
   "outputs": [],
   "source": [
    "# Compose the URL\n",
    "url = f\"{job_url}/uploaded\"\n",
    "\n",
    "# Make a POST request, including the headers\n",
    "response = requests.post(url=url, headers=auth_header)\n",
    "response_output = json.dumps(response.json(), indent=4, sort_keys=True)\n",
    "print(response_output)"
   ]
  },
  {
   "cell_type": "code",
   "execution_count": null,
   "metadata": {},
   "outputs": [],
   "source": [
    "# Keep checking the `job_url` until the `job_status` is `COMPLETE`.\n",
    "\n",
    "# Make a GET request, including the headers\n",
    "response = requests.get(url=job_url, headers=auth_header)\n",
    "response_output = json.dumps(response.json(), indent=4, sort_keys=True)\n",
    "print(response_output)"
   ]
  }
 ],
 "metadata": {
  "kernelspec": {
   "display_name": "Python 3",
   "language": "python",
   "name": "python3"
  },
  "language_info": {
   "codemirror_mode": {
    "name": "ipython",
    "version": 3
   },
   "file_extension": ".py",
   "mimetype": "text/x-python",
   "name": "python",
   "nbconvert_exporter": "python",
   "pygments_lexer": "ipython3",
   "version": "3.12.0"
  },
  "orig_nbformat": 4
 },
 "nbformat": 4,
 "nbformat_minor": 2
}
