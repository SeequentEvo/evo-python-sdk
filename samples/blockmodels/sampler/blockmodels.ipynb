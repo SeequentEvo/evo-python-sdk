{
 "cells": [
  {
   "cell_type": "code",
   "execution_count": null,
   "metadata": {},
   "outputs": [],
   "source": [
    "import json\n",
    "import os\n",
    "import sys\n",
    "from datetime import datetime\n",
    "from http import HTTPStatus\n",
    "\n",
    "import numpy as np\n",
    "import pandas as pd\n",
    "import requests\n",
    "from pygments import highlight\n",
    "from pygments.formatters import TerminalTrueColorFormatter\n",
    "from pygments.lexers import JsonLexer\n",
    "\n",
    "# Add the path to the geoscience-objects helpers directory\n",
    "sys.path.append(\"./helpers\")\n",
    "import evo_common\n",
    "\n",
    "from evo.blockmodels import BlockModelAPIClient\n",
    "from evo.common.data import HTTPResponse\n",
    "from evo.notebooks import ServiceManagerWidget\n",
    "\n",
    "cache_location = \"./notebook-data\"\n",
    "download_path = cache_location + \"/downloads\"\n",
    "input_path = f\"{cache_location}/input\"\n",
    "\n",
    "if not os.path.exists(download_path):\n",
    "    try:\n",
    "        os.mkdir(download_path)\n",
    "    except Exception:\n",
    "        raise RuntimeError(f\"Error: Failed to create {download_path}.\")\n",
    "\n",
    "# Evo app credentials\n",
    "client_id = \"\"\n",
    "redirect_url = \"http://localhost:32369/auth/callback\"\n",
    "\n",
    "manager = await ServiceManagerWidget.with_auth_code(\n",
    "    discovery_url=\"https://discover.api.seequent.com\",\n",
    "    redirect_url=redirect_url,\n",
    "    client_id=client_id,\n",
    "    cache_location=cache_location,\n",
    ").login()"
   ]
  },
  {
   "cell_type": "markdown",
   "metadata": {},
   "source": [
    "## Prepare Evo SDK parameters"
   ]
  },
  {
   "cell_type": "code",
   "execution_count": null,
   "metadata": {},
   "outputs": [],
   "source": [
    "# Get the environment and connector from the ServiceManagerWidget instance.\n",
    "# The environment contains the hub URL, organization ID, and workspace ID.\n",
    "# The connector is used to make API calls to the Evo service.\n",
    "environment = manager.get_environment()\n",
    "connector = manager.get_connector()\n",
    "\n",
    "service_client = BlockModelAPIClient(environment, connector, manager.cache)\n",
    "\n",
    "# Create a BlockModelSelector instance. This will be used to select block models from the service.\n",
    "# The source code for this class is in helpers/evo_common.py\n",
    "bm_selector = evo_common.BlockModelSelector(environment, connector)\n",
    "\n",
    "workspace_id = None\n",
    "org_id = None"
   ]
  },
  {
   "cell_type": "markdown",
   "metadata": {},
   "source": [
    "## Demo 1: Create a regular block model"
   ]
  },
  {
   "cell_type": "code",
   "execution_count": null,
   "metadata": {},
   "outputs": [],
   "source": [
    "import pyarrow\n",
    "\n",
    "from evo.blockmodels.data import RegularGridDefinition\n",
    "from evo.blockmodels.endpoints.models import RotationAxis\n",
    "\n",
    "name = f\"Regular block model {datetime.now().strftime('%Y-%m-%d %H:%M:%S')}\"\n",
    "description = \"This is a description of my regular block model.\"\n",
    "object_path = \"/Jupyter/SDK-demo/\"  # Similar to a folder path.\n",
    "coordinate_reference_system = \"EPSG:3395\"  # BlockSync only supports EPSG codes that are meter based.\n",
    "size_unit_id = \"m\"\n",
    "\n",
    "grid_definition = RegularGridDefinition(\n",
    "    model_origin=[1478500, 5174500, 100],\n",
    "    rotations=[(RotationAxis.x, 0), (RotationAxis.y, 0), (RotationAxis.z, 0)],  # Null rotation for demo purposes\n",
    "    n_blocks=[48, 68, 40],\n",
    "    block_size=[25, 25, 25],\n",
    ")\n",
    "\n",
    "initial_data = pyarrow.table(\n",
    "    {\n",
    "        \"x\": [1478512.5, 1479687.5, 1479612.5],\n",
    "        \"y\": [5174512.5, 5175087.5, 5175137.5],\n",
    "        \"z\": [112.5, 337.5, 587.5],\n",
    "        \"Au\": [\"A\", \"D\", \"E\"],\n",
    "        \"Cu\": [1.5, 1.3, 1.2],\n",
    "    },\n",
    "    schema=pyarrow.schema(\n",
    "        {\n",
    "            \"x\": pyarrow.float64(),\n",
    "            \"y\": pyarrow.float64(),\n",
    "            \"z\": pyarrow.float64(),\n",
    "            \"Au\": pyarrow.string(),\n",
    "            \"Cu\": pyarrow.float64(),\n",
    "        }\n",
    "    ),\n",
    ")\n",
    "\n",
    "block_model, version = await service_client.create_block_model(\n",
    "    name=name,\n",
    "    description=description,\n",
    "    grid_definition=grid_definition,\n",
    "    object_path=object_path,\n",
    "    coordinate_reference_system=coordinate_reference_system,\n",
    "    size_unit_id=size_unit_id,\n",
    "    initial_data=initial_data,\n",
    ")"
   ]
  },
  {
   "cell_type": "markdown",
   "metadata": {},
   "source": [
    "## Demo 2: Add new columns to a block model"
   ]
  },
  {
   "cell_type": "code",
   "execution_count": null,
   "metadata": {},
   "outputs": [],
   "source": [
    "new_cols = pyarrow.table(\n",
    "    {\n",
    "        \"x\": [1478512.5, 1479687.5, 1479612.5],\n",
    "        \"y\": [5174512.5, 5175087.5, 5175137.5],\n",
    "        \"z\": [112.5, 337.5, 587.5],\n",
    "        \"Ag\": [120, 155, 72],\n",
    "        \"Pt\": [4.5, 5.3, 2.1],\n",
    "    },\n",
    "    schema=pyarrow.schema(\n",
    "        {\n",
    "            \"x\": pyarrow.float64(),\n",
    "            \"y\": pyarrow.float64(),\n",
    "            \"z\": pyarrow.float64(),\n",
    "            \"Ag\": pyarrow.int32(),\n",
    "            \"Pt\": pyarrow.float64(),\n",
    "        }\n",
    "    ),\n",
    ")\n",
    "\n",
    "version_with_new_columns = await service_client.add_new_columns(\n",
    "    bm_id=block_model.id,\n",
    "    data=new_cols,\n",
    "    units={\"Pt\": \"g/t\"},\n",
    ")"
   ]
  },
  {
   "cell_type": "markdown",
   "metadata": {},
   "source": [
    "## Demo 4: Download the latest version of a block model"
   ]
  },
  {
   "cell_type": "code",
   "execution_count": null,
   "metadata": {},
   "outputs": [],
   "source": [
    "# Get the selected block model from the dropdown in the previous cell\n",
    "selected_blockmodel = bm_selector.get_selected_item()\n",
    "block_model.id = selected_blockmodel[\"block_model.id\"]\n",
    "\n",
    "# Part 1 - Send the initial request\n",
    "resource_path = \"/blockmodel/orgs/{org_id}/workspaces/{workspace_id}/block-models/{block_model.id}/blocks\"\n",
    "\n",
    "path_params = {\"org_id\": org_id, \"workspace_id\": workspace_id, \"block_model.id\": block_model.id}\n",
    "\n",
    "body = {\"columns\": [\"*\"], \"geometry_columns\": \"coordinates\"}\n",
    "\n",
    "api_response = await connector.call_api(\n",
    "    method=\"POST\",\n",
    "    resource_path=resource_path,\n",
    "    path_params=path_params,\n",
    "    header_params={\"Content-Type\": \"application/json\"},\n",
    "    body=body,\n",
    "    response_types_map={\n",
    "        \"200\": HTTPResponse,\n",
    "    },\n",
    ")\n",
    "\n",
    "status = api_response.status\n",
    "if status != HTTPStatus.OK:\n",
    "    raise RuntimeError(f\"Error: Failed to download the block model. Status: {status}\")\n",
    "\n",
    "# Parse the response data\n",
    "response = api_response.data.decode(\"utf-8\")\n",
    "response_json = json.loads(response)\n",
    "\n",
    "# Copy the job URL and remove the host portion to be compatible with the Evo connector object\n",
    "job_url = \"/\" + \"/\".join(response_json[\"job_url\"].split(\"/\")[3:])"
   ]
  },
  {
   "cell_type": "markdown",
   "metadata": {},
   "source": [
    "### Check the job status until it is complete"
   ]
  },
  {
   "cell_type": "code",
   "execution_count": null,
   "metadata": {},
   "outputs": [],
   "source": [
    "api_response = await connector.call_api(\n",
    "    method=\"GET\",\n",
    "    resource_path=job_url,\n",
    "    response_types_map={\n",
    "        \"200\": HTTPResponse,\n",
    "    },\n",
    ")\n",
    "\n",
    "response = api_response.data.decode(\"utf-8\")\n",
    "response_json = json.loads(response)\n",
    "print(highlight(json.dumps(response_json, indent=4), JsonLexer(), TerminalTrueColorFormatter(style=\"lightbulb\")))\n",
    "\n",
    "if response_json[\"job_status\"] == \"COMPLETE\":\n",
    "    download_url = response_json[\"payload\"][\"download_url\"]"
   ]
  },
  {
   "cell_type": "markdown",
   "metadata": {},
   "source": [
    "### Download the data"
   ]
  },
  {
   "cell_type": "code",
   "execution_count": null,
   "metadata": {},
   "outputs": [],
   "source": [
    "download_response = requests.get(download_url)\n",
    "file_path = f\"{download_path}/query_results.parquet\"\n",
    "open(file_path, \"wb\").write(download_response.content)\n",
    "\n",
    "df = pd.read_parquet(file_path)\n",
    "df.head()"
   ]
  },
  {
   "cell_type": "markdown",
   "metadata": {},
   "source": [
    "## Demo 5: Download a block model using a bounding box"
   ]
  },
  {
   "cell_type": "code",
   "execution_count": null,
   "metadata": {},
   "outputs": [],
   "source": [
    "# Get the selected block model from the dropdown in the previous cell\n",
    "selected_blockmodel = bm_selector.get_selected_item()\n",
    "block_model.id = selected_blockmodel[\"block_model.id\"]\n",
    "\n",
    "# Part 1 - Send the initial request\n",
    "resource_path = \"/blockmodel/orgs/{org_id}/workspaces/{workspace_id}/block-models/{block_model.id}/blocks\"\n",
    "\n",
    "path_params = {\"org_id\": org_id, \"workspace_id\": workspace_id, \"block_model.id\": block_model.id}\n",
    "\n",
    "body = {\n",
    "    \"bbox\": {\n",
    "        \"i_minmax\": {\"min\": 3, \"max\": 6},\n",
    "        \"j_minmax\": {\"min\": 2, \"max\": 8},\n",
    "        \"k_minmax\": {\"min\": 1, \"max\": 3},\n",
    "    },\n",
    "    \"columns\": [\"AG_gpt\"],\n",
    "}\n",
    "\n",
    "api_response = await connector.call_api(\n",
    "    method=\"POST\",\n",
    "    resource_path=resource_path,\n",
    "    path_params=path_params,\n",
    "    header_params={\"Content-Type\": \"application/json\"},\n",
    "    body=body,\n",
    "    response_types_map={\n",
    "        \"200\": HTTPResponse,\n",
    "    },\n",
    ")\n",
    "\n",
    "status = api_response.status\n",
    "if status != HTTPStatus.OK:\n",
    "    raise RuntimeError(f\"Error: Failed to download the block model. Status: {status}\")\n",
    "\n",
    "# Parse the response data\n",
    "response = api_response.data.decode(\"utf-8\")\n",
    "response_json = json.loads(response)\n",
    "\n",
    "# Copy the job URL and remove the host portion to be compatible with the Evo connector object\n",
    "job_url = \"/\" + \"/\".join(response_json[\"job_url\"].split(\"/\")[3:])"
   ]
  },
  {
   "cell_type": "markdown",
   "metadata": {},
   "source": [
    "### Check the job status until it is complete"
   ]
  },
  {
   "cell_type": "code",
   "execution_count": null,
   "metadata": {},
   "outputs": [],
   "source": [
    "api_response = await connector.call_api(\n",
    "    method=\"GET\",\n",
    "    resource_path=job_url,\n",
    "    response_types_map={\n",
    "        \"200\": HTTPResponse,\n",
    "    },\n",
    ")\n",
    "\n",
    "response = api_response.data.decode(\"utf-8\")\n",
    "response_json = json.loads(response)\n",
    "print(highlight(json.dumps(response_json, indent=4), JsonLexer(), TerminalTrueColorFormatter(style=\"lightbulb\")))\n",
    "\n",
    "if response_json[\"job_status\"] == \"COMPLETE\":\n",
    "    download_url = response_json[\"payload\"][\"download_url\"]"
   ]
  },
  {
   "cell_type": "markdown",
   "metadata": {},
   "source": [
    "### Download the data"
   ]
  },
  {
   "cell_type": "code",
   "execution_count": null,
   "metadata": {},
   "outputs": [],
   "source": [
    "download_response = requests.get(download_url)\n",
    "file_path = f\"{download_path}/query_results.parquet\"\n",
    "open(file_path, \"wb\").write(download_response.content)\n",
    "\n",
    "df = pd.read_parquet(file_path)\n",
    "df.head()"
   ]
  },
  {
   "cell_type": "markdown",
   "metadata": {},
   "source": [
    "## Demo 6: Display the list of available units"
   ]
  },
  {
   "cell_type": "code",
   "execution_count": null,
   "metadata": {},
   "outputs": [],
   "source": [
    "resource_path = \"/blockmodel/orgs/{org_id}/units\"\n",
    "\n",
    "path_params = {\n",
    "    \"org_id\": org_id,\n",
    "}\n",
    "\n",
    "api_response = await connector.call_api(\n",
    "    method=\"GET\",\n",
    "    resource_path=resource_path,\n",
    "    path_params=path_params,\n",
    "    response_types_map={\n",
    "        \"200\": HTTPResponse,\n",
    "    },\n",
    ")\n",
    "\n",
    "status = api_response.status\n",
    "if status != HTTPStatus.OK:\n",
    "    raise RuntimeError(f\"Error: Failed to list units. Status: {status}\")\n",
    "\n",
    "# Parse the response data\n",
    "response = api_response.data.decode(\"utf-8\")\n",
    "response_json = json.loads(response)\n",
    "print(highlight(json.dumps(response_json, indent=4), JsonLexer(), TerminalTrueColorFormatter(style=\"lightbulb\")))"
   ]
  },
  {
   "cell_type": "markdown",
   "metadata": {},
   "source": [
    "## Demo 7: Update units on existing columns"
   ]
  },
  {
   "cell_type": "code",
   "execution_count": null,
   "metadata": {},
   "outputs": [],
   "source": [
    "resource_path = \"/blockmodel/orgs/{org_id}/workspaces/{workspace_id}/block-models/{block_model.id}/blocks\"\n",
    "\n",
    "path_params = {\"org_id\": org_id, \"workspace_id\": workspace_id, \"block_model.id\": block_model.id}\n",
    "\n",
    "body = {\n",
    "    \"columns\": {\n",
    "        \"new\": [],\n",
    "        \"delete\": [],\n",
    "        \"update\": [],\n",
    "        \"rename\": [],\n",
    "        \"update_metadata\": [{\"title\": \"AG_gpt\", \"values\": {\"unit_id\": \"%[mass]\"}}],\n",
    "    },\n",
    "    \"comment\": \"Updated AG_gpt unit.\",\n",
    "}\n",
    "\n",
    "api_response = await connector.call_api(\n",
    "    method=\"PATCH\",\n",
    "    resource_path=resource_path,\n",
    "    path_params=path_params,\n",
    "    header_params={\"Content-Type\": \"application/json\"},\n",
    "    body=body,\n",
    "    response_types_map={\n",
    "        \"202\": HTTPResponse,\n",
    "    },\n",
    ")\n",
    "\n",
    "status = api_response.status\n",
    "if status != HTTPStatus.ACCEPTED:\n",
    "    raise RuntimeError(f\"Error: Failed to update units of the block model. Status: {status}\")\n",
    "\n",
    "# Parse the response data\n",
    "response = api_response.data.decode(\"utf-8\")\n",
    "response_json = json.loads(response)\n",
    "\n",
    "# Copy the job URL and remove the host portion to be compatible with the Evo connector object\n",
    "job_url = \"/\" + \"/\".join(response_json[\"job_url\"].split(\"/\")[3:])\n",
    "\n",
    "# Copy the upload URL for later use\n",
    "upload_url = response_json[\"upload_url\"]\n",
    "\n",
    "# Print the response in a highlighted format\n",
    "print(highlight(json.dumps(response_json, indent=4), JsonLexer(), TerminalTrueColorFormatter(style=\"lightbulb\")))"
   ]
  },
  {
   "cell_type": "markdown",
   "metadata": {},
   "source": [
    "## Demo 8: Add new random columns\n",
    "\n",
    "NOTE: You must run **Demo 5** before running this demo."
   ]
  },
  {
   "cell_type": "markdown",
   "metadata": {},
   "source": [
    "### Create the random data"
   ]
  },
  {
   "cell_type": "code",
   "execution_count": null,
   "metadata": {},
   "outputs": [],
   "source": [
    "df[\"Random numbers\"] = np.random.uniform(0, 100, size=len(df))\n",
    "df[\"Random strings\"] = np.random.choice([\"Alpha\", \"Bravo\", \"Charlie\", \"Delta\"], size=len(df))\n",
    "temp_df = df[[\"i\", \"j\", \"k\", \"Random numbers\", \"Random strings\"]]\n",
    "temp_file_path = f\"{download_path}/temp_query_results.parquet\"\n",
    "temp_df.to_parquet(temp_file_path, index=False)"
   ]
  },
  {
   "cell_type": "markdown",
   "metadata": {},
   "source": [
    "### Perform the patch request"
   ]
  },
  {
   "cell_type": "code",
   "execution_count": null,
   "metadata": {},
   "outputs": [],
   "source": [
    "resource_path = \"/blockmodel/orgs/{org_id}/workspaces/{workspace_id}/block-models/{block_model.id}/blocks\"\n",
    "\n",
    "path_params = {\n",
    "    \"org_id\": org_id,\n",
    "    \"workspace_id\": workspace_id,\n",
    "    \"block_model.id\": block_model.id,\n",
    "}\n",
    "\n",
    "body = {\n",
    "    \"columns\": {\n",
    "        \"new\": [\n",
    "            {\"title\": \"Random numbers\", \"data_type\": \"Float64\"},\n",
    "            {\"title\": \"Random strings\", \"data_type\": \"Utf8\"},\n",
    "        ],\n",
    "        \"delete\": [],\n",
    "        \"update\": [],\n",
    "        \"rename\": [],\n",
    "    },\n",
    "    \"comment\": \"Added new columns.\",\n",
    "}\n",
    "\n",
    "api_response = await connector.call_api(\n",
    "    method=\"PATCH\",\n",
    "    resource_path=resource_path,\n",
    "    path_params=path_params,\n",
    "    header_params={\"Content-Type\": \"application/json\"},\n",
    "    body=body,\n",
    "    response_types_map={\n",
    "        \"202\": HTTPResponse,\n",
    "    },\n",
    ")\n",
    "\n",
    "status = api_response.status\n",
    "if status != HTTPStatus.ACCEPTED:\n",
    "    raise RuntimeError(f\"Error: Failed to add new columns to the block model. Status: {status}\")\n",
    "\n",
    "# Parse the response data\n",
    "response = api_response.data.decode(\"utf-8\")\n",
    "response_json = json.loads(response)\n",
    "\n",
    "# Copy the job URL and remove the host portion to be compatible with the Evo connector object\n",
    "job_url = \"/\" + \"/\".join(response_json[\"job_url\"].split(\"/\")[3:])\n",
    "\n",
    "# Copy the upload URL for later use\n",
    "upload_url = response_json[\"upload_url\"]\n",
    "\n",
    "# Print the response in a highlighted format\n",
    "print(highlight(json.dumps(response_json, indent=4), JsonLexer(), TerminalTrueColorFormatter(style=\"lightbulb\")))"
   ]
  },
  {
   "cell_type": "markdown",
   "metadata": {},
   "source": [
    "### Upload the block model data to the provided `upload_url`"
   ]
  },
  {
   "cell_type": "code",
   "execution_count": null,
   "metadata": {},
   "outputs": [],
   "source": [
    "headers = {\"Content-Type\": \"application/binary\", \"x-ms-blob-type\": \"BlockBlob\"}\n",
    "with open(temp_file_path, \"rb\") as data_stream:\n",
    "    response = requests.put(url=upload_url, data=data_stream, headers=headers)\n",
    "\n",
    "if response.status_code != HTTPStatus.CREATED:\n",
    "    raise Exception(f\"Request failed: \\n Status: {response.status_code} \\n Response: {response.json()}\")"
   ]
  },
  {
   "cell_type": "markdown",
   "metadata": {},
   "source": [
    "### Tell BlockSync that the patch is complete"
   ]
  },
  {
   "cell_type": "code",
   "execution_count": null,
   "metadata": {},
   "outputs": [],
   "source": [
    "resource_path = job_url + \"/uploaded\"\n",
    "\n",
    "api_response = await connector.call_api(\n",
    "    method=\"POST\",\n",
    "    resource_path=resource_path,\n",
    "    response_types_map={\n",
    "        \"201\": HTTPResponse,\n",
    "    },\n",
    ")\n",
    "\n",
    "response = api_response.data.decode(\"utf-8\")\n",
    "response_json = json.loads(response)\n",
    "print(highlight(json.dumps(response_json, indent=4), JsonLexer(), TerminalTrueColorFormatter(style=\"lightbulb\")))"
   ]
  },
  {
   "cell_type": "markdown",
   "metadata": {},
   "source": [
    "### Keep checking the `job_url` until the `job_status` is `COMPLETE`"
   ]
  },
  {
   "cell_type": "code",
   "execution_count": null,
   "metadata": {},
   "outputs": [],
   "source": [
    "api_response = await connector.call_api(\n",
    "    method=\"GET\",\n",
    "    resource_path=job_url,\n",
    "    response_types_map={\n",
    "        \"200\": HTTPResponse,\n",
    "    },\n",
    ")\n",
    "\n",
    "response = api_response.data.decode(\"utf-8\")\n",
    "response_json = json.loads(response)\n",
    "print(highlight(json.dumps(response_json, indent=4), JsonLexer(), TerminalTrueColorFormatter(style=\"lightbulb\")))"
   ]
  },
  {
   "cell_type": "markdown",
   "metadata": {},
   "source": [
    "## Demo 9: Update a column and publish a new version of the block model"
   ]
  },
  {
   "cell_type": "code",
   "execution_count": null,
   "metadata": {},
   "outputs": [],
   "source": [
    "column_to_update = \"AG_gpt\"\n",
    "\n",
    "df[column_to_update] = df[column_to_update] + 1\n",
    "df.head()\n",
    "df.to_parquet(file_path, index=False)\n",
    "\n",
    "resource_path = \"/blockmodel/orgs/{org_id}/workspaces/{workspace_id}/block-models/{block_model.id}/blocks\"\n",
    "\n",
    "path_params = {\n",
    "    \"org_id\": org_id,\n",
    "    \"workspace_id\": workspace_id,\n",
    "    \"block_model.id\": block_model.id,\n",
    "}\n",
    "\n",
    "body = {\n",
    "    \"columns\": {\"new\": [], \"delete\": [], \"update\": [column_to_update], \"rename\": []},\n",
    "    \"comment\": f\"Updated the {column_to_update} column\",\n",
    "}\n",
    "\n",
    "api_response = await connector.call_api(\n",
    "    method=\"PATCH\",\n",
    "    resource_path=resource_path,\n",
    "    path_params=path_params,\n",
    "    header_params={\"Content-Type\": \"application/json\"},\n",
    "    body=body,\n",
    "    response_types_map={\n",
    "        \"202\": HTTPResponse,\n",
    "    },\n",
    ")\n",
    "\n",
    "status = api_response.status\n",
    "if status != HTTPStatus.ACCEPTED:\n",
    "    raise RuntimeError(f\"Error: Failed to update the block model. Status: {status}\")\n",
    "\n",
    "# Parse the response data\n",
    "response = api_response.data.decode(\"utf-8\")\n",
    "response_json = json.loads(response)\n",
    "\n",
    "# Copy the job URL and remove the host portion to be compatible with the Evo connector object\n",
    "job_url = \"/\" + \"/\".join(response_json[\"job_url\"].split(\"/\")[3:])\n",
    "\n",
    "# Copy the upload URL for later use\n",
    "upload_url = response_json[\"upload_url\"]\n",
    "\n",
    "# Print the response in a highlighted format\n",
    "print(highlight(json.dumps(response_json, indent=4), JsonLexer(), TerminalTrueColorFormatter(style=\"lightbulb\")))"
   ]
  },
  {
   "cell_type": "markdown",
   "metadata": {},
   "source": [
    "### Upload the block model data to the provided `upload_url`"
   ]
  },
  {
   "cell_type": "code",
   "execution_count": null,
   "metadata": {},
   "outputs": [],
   "source": [
    "# Compose the headers\n",
    "headers = {\"Content-Type\": \"application/binary\", \"x-ms-blob-type\": \"BlockBlob\"}\n",
    "\n",
    "# Make a PUT request - include the binary data and headers\n",
    "with open(file_path, \"rb\") as data_stream:\n",
    "    response = requests.put(url=upload_url, data=data_stream, headers=headers)\n",
    "\n",
    "if response.status_code != HTTPStatus.CREATED:\n",
    "    raise Exception(f\"Request failed: \\n Status: {response.status_code} \\n Response: {response.json()}\")"
   ]
  },
  {
   "cell_type": "markdown",
   "metadata": {},
   "source": [
    "### Tell BlockSync that the patch is complete"
   ]
  },
  {
   "cell_type": "code",
   "execution_count": null,
   "metadata": {},
   "outputs": [],
   "source": [
    "resource_path = job_url + \"/uploaded\"\n",
    "\n",
    "api_response = await connector.call_api(\n",
    "    method=\"POST\",\n",
    "    resource_path=resource_path,\n",
    "    response_types_map={\n",
    "        \"201\": HTTPResponse,\n",
    "    },\n",
    ")\n",
    "\n",
    "response = api_response.data.decode(\"utf-8\")\n",
    "response_json = json.loads(response)\n",
    "print(highlight(json.dumps(response_json, indent=4), JsonLexer(), TerminalTrueColorFormatter(style=\"lightbulb\")))"
   ]
  },
  {
   "cell_type": "markdown",
   "metadata": {},
   "source": [
    "### Keep checking the `job_url` until the `job_status` is `COMPLETE`"
   ]
  },
  {
   "cell_type": "code",
   "execution_count": null,
   "metadata": {},
   "outputs": [],
   "source": [
    "api_response = await connector.call_api(\n",
    "    method=\"GET\",\n",
    "    resource_path=job_url,\n",
    "    response_types_map={\n",
    "        \"200\": HTTPResponse,\n",
    "    },\n",
    ")\n",
    "\n",
    "response = api_response.data.decode(\"utf-8\")\n",
    "response_json = json.loads(response)\n",
    "print(highlight(json.dumps(response_json, indent=4), JsonLexer(), TerminalTrueColorFormatter(style=\"lightbulb\")))"
   ]
  },
  {
   "cell_type": "markdown",
   "metadata": {},
   "source": [
    "## Demo 10: Rename columns"
   ]
  },
  {
   "cell_type": "code",
   "execution_count": null,
   "metadata": {},
   "outputs": [],
   "source": [
    "resource_path = \"/blockmodel/orgs/{org_id}/workspaces/{workspace_id}/block-models/{block_model.id}/blocks\"\n",
    "\n",
    "path_params = {\n",
    "    \"org_id\": org_id,\n",
    "    \"workspace_id\": workspace_id,\n",
    "    \"block_model.id\": block_model.id,\n",
    "}\n",
    "\n",
    "body = {\n",
    "    \"columns\": {\n",
    "        \"new\": [],\n",
    "        \"delete\": [],\n",
    "        \"update\": [],\n",
    "        \"rename\": [\n",
    "            {\"title\": \"AG_gpt\", \"new_title\": \"AG_gpt_renamed\"},\n",
    "            {\"title\": \"Geology\", \"new_title\": \"Geology_renamed\"},\n",
    "        ],\n",
    "    },\n",
    "    \"comment\": \"Updated column names.\",\n",
    "}\n",
    "\n",
    "api_response = await connector.call_api(\n",
    "    method=\"PATCH\",\n",
    "    resource_path=resource_path,\n",
    "    path_params=path_params,\n",
    "    header_params={\"Content-Type\": \"application/json\"},\n",
    "    body=body,\n",
    "    response_types_map={\n",
    "        \"202\": HTTPResponse,\n",
    "    },\n",
    ")\n",
    "\n",
    "status = api_response.status\n",
    "if status != HTTPStatus.ACCEPTED:\n",
    "    raise RuntimeError(f\"Error: Failed to rename columns in the block model. Status: {status}\")\n",
    "\n",
    "# Parse the response data\n",
    "response = api_response.data.decode(\"utf-8\")\n",
    "response_json = json.loads(response)\n",
    "\n",
    "# Copy the job URL and remove the host portion to be compatible with the Evo connector object\n",
    "job_url = \"/\" + \"/\".join(response_json[\"job_url\"].split(\"/\")[3:])\n",
    "\n",
    "# Copy the upload URL for later use\n",
    "upload_url = response_json[\"upload_url\"]\n",
    "\n",
    "# Print the response in a highlighted format\n",
    "print(highlight(json.dumps(response_json, indent=4), JsonLexer(), TerminalTrueColorFormatter(style=\"lightbulb\")))"
   ]
  },
  {
   "cell_type": "markdown",
   "metadata": {},
   "source": [
    "### Tell BlockSync that the patch is complete"
   ]
  },
  {
   "cell_type": "code",
   "execution_count": null,
   "metadata": {},
   "outputs": [],
   "source": [
    "resource_path = job_url + \"/uploaded\"\n",
    "\n",
    "api_response = await connector.call_api(\n",
    "    method=\"POST\",\n",
    "    resource_path=resource_path,\n",
    "    response_types_map={\n",
    "        \"201\": HTTPResponse,\n",
    "    },\n",
    ")\n",
    "\n",
    "response = api_response.data.decode(\"utf-8\")\n",
    "response_json = json.loads(response)\n",
    "print(highlight(json.dumps(response_json, indent=4), JsonLexer(), TerminalTrueColorFormatter(style=\"lightbulb\")))"
   ]
  },
  {
   "cell_type": "markdown",
   "metadata": {},
   "source": [
    "### Keep checking the `job_url` until the `job_status` is `COMPLETE`"
   ]
  },
  {
   "cell_type": "code",
   "execution_count": null,
   "metadata": {},
   "outputs": [],
   "source": [
    "api_response = await connector.call_api(\n",
    "    method=\"GET\",\n",
    "    resource_path=job_url,\n",
    "    response_types_map={\n",
    "        \"200\": HTTPResponse,\n",
    "    },\n",
    ")\n",
    "\n",
    "response = api_response.data.decode(\"utf-8\")\n",
    "response_json = json.loads(response)\n",
    "print(highlight(json.dumps(response_json, indent=4), JsonLexer(), TerminalTrueColorFormatter(style=\"lightbulb\")))"
   ]
  },
  {
   "cell_type": "markdown",
   "metadata": {},
   "source": [
    "## Demo 11: Delete a column"
   ]
  },
  {
   "cell_type": "code",
   "execution_count": null,
   "metadata": {},
   "outputs": [],
   "source": [
    "# Delete a column from a block model\n",
    "column_to_delete = \"AG_gpt_renamed\"\n",
    "\n",
    "resource_path = \"/blockmodel/orgs/{org_id}/workspaces/{workspace_id}/block-models/{block_model.id}/blocks\"\n",
    "\n",
    "path_params = {\n",
    "    \"org_id\": org_id,\n",
    "    \"workspace_id\": workspace_id,\n",
    "    \"block_model.id\": block_model.id,\n",
    "}\n",
    "\n",
    "body = {\n",
    "    \"columns\": {\"new\": [], \"delete\": [column_to_delete], \"update\": [], \"rename\": []},\n",
    "    \"comment\": \"Deleted a column.\",\n",
    "}\n",
    "\n",
    "api_response = await connector.call_api(\n",
    "    method=\"PATCH\",\n",
    "    resource_path=resource_path,\n",
    "    path_params=path_params,\n",
    "    header_params={\"Content-Type\": \"application/json\"},\n",
    "    body=body,\n",
    "    response_types_map={\n",
    "        \"202\": HTTPResponse,\n",
    "    },\n",
    ")\n",
    "\n",
    "status = api_response.status\n",
    "if status != HTTPStatus.ACCEPTED:\n",
    "    raise RuntimeError(f\"Error: Failed to delete a column from the block model. Status: {status}\")\n",
    "\n",
    "# Parse the response data\n",
    "response = api_response.data.decode(\"utf-8\")\n",
    "response_json = json.loads(response)\n",
    "\n",
    "# Copy the job URL and remove the host portion to be compatible with the Evo connector object\n",
    "job_url = \"/\" + \"/\".join(response_json[\"job_url\"].split(\"/\")[3:])\n",
    "\n",
    "# Copy the upload URL for later use\n",
    "upload_url = response_json[\"upload_url\"]\n",
    "\n",
    "# Print the response in a highlighted format\n",
    "print(highlight(json.dumps(response_json, indent=4), JsonLexer(), TerminalTrueColorFormatter(style=\"lightbulb\")))"
   ]
  },
  {
   "cell_type": "markdown",
   "metadata": {},
   "source": [
    "### Tell BlockSync that the patch is complete"
   ]
  },
  {
   "cell_type": "code",
   "execution_count": null,
   "metadata": {},
   "outputs": [],
   "source": [
    "resource_path = job_url + \"/uploaded\"\n",
    "\n",
    "api_response = await connector.call_api(\n",
    "    method=\"POST\",\n",
    "    resource_path=resource_path,\n",
    "    response_types_map={\n",
    "        \"201\": HTTPResponse,\n",
    "    },\n",
    ")\n",
    "\n",
    "response = api_response.data.decode(\"utf-8\")\n",
    "response_json = json.loads(response)\n",
    "print(highlight(json.dumps(response_json, indent=4), JsonLexer(), TerminalTrueColorFormatter(style=\"lightbulb\")))"
   ]
  },
  {
   "cell_type": "markdown",
   "metadata": {},
   "source": [
    "### Keep checking the `job_url` until the `job_status` is `COMPLETE`"
   ]
  },
  {
   "cell_type": "code",
   "execution_count": null,
   "metadata": {},
   "outputs": [],
   "source": [
    "api_response = await connector.call_api(\n",
    "    method=\"GET\",\n",
    "    resource_path=job_url,\n",
    "    response_types_map={\n",
    "        \"200\": HTTPResponse,\n",
    "    },\n",
    ")\n",
    "\n",
    "response = api_response.data.decode(\"utf-8\")\n",
    "response_json = json.loads(response)\n",
    "print(highlight(json.dumps(response_json, indent=4), JsonLexer(), TerminalTrueColorFormatter(style=\"lightbulb\")))"
   ]
  },
  {
   "cell_type": "markdown",
   "metadata": {},
   "source": [
    "## Demo 12: List all versions of a block model"
   ]
  },
  {
   "cell_type": "code",
   "execution_count": null,
   "metadata": {},
   "outputs": [],
   "source": [
    "resource_path = \"/blockmodel/orgs/{org_id}/workspaces/{workspace_id}/block-models/{block_model.id}/versions\"\n",
    "\n",
    "path_params = {\n",
    "    \"org_id\": org_id,\n",
    "    \"workspace_id\": workspace_id,\n",
    "    \"block_model.id\": block_model.id,\n",
    "}\n",
    "\n",
    "api_response = await connector.call_api(\n",
    "    method=\"GET\",\n",
    "    resource_path=resource_path,\n",
    "    path_params=path_params,\n",
    "    header_params={\"Content-Type\": \"application/json\"},\n",
    "    response_types_map={\n",
    "        \"200\": HTTPResponse,\n",
    "    },\n",
    ")\n",
    "\n",
    "status = api_response.status\n",
    "if status != HTTPStatus.OK:\n",
    "    raise RuntimeError(f\"Error: Failed to list block model versions. Status: {status}\")\n",
    "\n",
    "# Parse the response data\n",
    "response = api_response.data.decode(\"utf-8\")\n",
    "version_output = json.loads(response)\n",
    "\n",
    "# Print the response in a highlighted format\n",
    "print(highlight(json.dumps(version_output, indent=4), JsonLexer(), TerminalTrueColorFormatter(style=\"lightbulb\")))"
   ]
  },
  {
   "cell_type": "markdown",
   "metadata": {},
   "source": [
    "## Demo 13: Download a specific block model version"
   ]
  },
  {
   "cell_type": "code",
   "execution_count": null,
   "metadata": {},
   "outputs": [],
   "source": [
    "version_id = 2\n",
    "\n",
    "# Parse the version_output from the previous cell to find the version_uuid for the specified version_id\n",
    "filtered_version = next((v for v in version_output[\"results\"] if v[\"version_id\"] == version_id), None)\n",
    "if not filtered_version:\n",
    "    raise ValueError(f\"Version {version_id} not found in the version_output.\")\n",
    "\n",
    "version_uuid = filtered_version[\"version_uuid\"]\n",
    "\n",
    "resource_path = \"/blockmodel/orgs/{org_id}/workspaces/{workspace_id}/block-models/{block_model.id}/blocks\"\n",
    "\n",
    "path_params = {\n",
    "    \"org_id\": org_id,\n",
    "    \"workspace_id\": workspace_id,\n",
    "    \"block_model.id\": block_model.id,\n",
    "}\n",
    "\n",
    "body = {\"columns\": [\"*\"], \"geometry_columns\": \"coordinates\", \"version_uuid\": version_uuid}\n",
    "\n",
    "api_response = await connector.call_api(\n",
    "    method=\"POST\",\n",
    "    resource_path=resource_path,\n",
    "    path_params=path_params,\n",
    "    header_params={\"Content-Type\": \"application/json\"},\n",
    "    body=body,\n",
    "    response_types_map={\n",
    "        \"200\": HTTPResponse,\n",
    "    },\n",
    ")\n",
    "\n",
    "status = api_response.status\n",
    "if status != HTTPStatus.OK:\n",
    "    raise RuntimeError(f\"Error: Failed to download block model version. Status: {status}\")\n",
    "\n",
    "# Parse the response data\n",
    "response = api_response.data.decode(\"utf-8\")\n",
    "response_json = json.loads(response)\n",
    "\n",
    "# Copy the job URL and remove the host portion to be compatible with the Evo connector object\n",
    "job_url = \"/\" + \"/\".join(response_json[\"job_url\"].split(\"/\")[3:])\n",
    "\n",
    "# Print the response in a highlighted format\n",
    "print(highlight(json.dumps(response_json, indent=4), JsonLexer(), TerminalTrueColorFormatter(style=\"lightbulb\")))"
   ]
  },
  {
   "cell_type": "markdown",
   "metadata": {},
   "source": [
    "### Keep checking the `job_url` until the `job_status` is `COMPLETE`"
   ]
  },
  {
   "cell_type": "code",
   "execution_count": null,
   "metadata": {},
   "outputs": [],
   "source": [
    "api_response = await connector.call_api(\n",
    "    method=\"GET\",\n",
    "    resource_path=job_url,\n",
    "    response_types_map={\n",
    "        \"200\": HTTPResponse,\n",
    "    },\n",
    ")\n",
    "\n",
    "response = api_response.data.decode(\"utf-8\")\n",
    "response_json = json.loads(response)\n",
    "print(highlight(json.dumps(response_json, indent=4), JsonLexer(), TerminalTrueColorFormatter(style=\"lightbulb\")))\n",
    "\n",
    "if response_json[\"job_status\"] == \"COMPLETE\":\n",
    "    download_url = response_json[\"payload\"][\"download_url\"]"
   ]
  },
  {
   "cell_type": "markdown",
   "metadata": {},
   "source": [
    "### Download the data"
   ]
  },
  {
   "cell_type": "code",
   "execution_count": null,
   "metadata": {},
   "outputs": [],
   "source": [
    "download_response = requests.get(download_url)\n",
    "file_path = f\"{download_path}/query_results.parquet\"\n",
    "open(file_path, \"wb\").write(download_response.content)\n",
    "\n",
    "df = pd.read_parquet(file_path)\n",
    "df.head()"
   ]
  }
 ],
 "metadata": {
  "kernelspec": {
   "display_name": "samples",
   "language": "python",
   "name": "python3"
  },
  "language_info": {
   "codemirror_mode": {
    "name": "ipython",
    "version": 3
   },
   "file_extension": ".py",
   "mimetype": "text/x-python",
   "name": "python",
   "nbconvert_exporter": "python",
   "pygments_lexer": "ipython3",
   "version": "3.10.16"
  }
 },
 "nbformat": 4,
 "nbformat_minor": 2
}
