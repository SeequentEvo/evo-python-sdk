{
 "cells": [
  {
   "cell_type": "code",
   "execution_count": null,
   "metadata": {},
   "outputs": [],
   "source": [
    "import os\n",
    "import sys\n",
    "from datetime import datetime\n",
    "\n",
    "# Add the path to the geoscience-objects helpers directory\n",
    "sys.path.append(\"./helpers\")\n",
    "import evo_common\n",
    "\n",
    "from evo.blockmodels import BlockModelAPIClient\n",
    "from evo.notebooks import ServiceManagerWidget\n",
    "\n",
    "cache_location = \"./notebook-data\"\n",
    "download_path = cache_location + \"/downloads\"\n",
    "input_path = f\"{cache_location}/input\"\n",
    "\n",
    "if not os.path.exists(download_path):\n",
    "    try:\n",
    "        os.mkdir(download_path)\n",
    "    except Exception:\n",
    "        raise RuntimeError(f\"Error: Failed to create {download_path}.\")\n",
    "\n",
    "# Evo app credentials\n",
    "client_id = \"daves-evo-client\"\n",
    "redirect_url = \"http://localhost:32369/auth/callback\"\n",
    "\n",
    "manager = await ServiceManagerWidget.with_auth_code(\n",
    "    discovery_url=\"https://discover.api.seequent.com\",\n",
    "    redirect_url=redirect_url,\n",
    "    client_id=client_id,\n",
    "    cache_location=cache_location,\n",
    ").login()"
   ]
  },
  {
   "cell_type": "markdown",
   "metadata": {},
   "source": [
    "## Prepare Evo SDK parameters"
   ]
  },
  {
   "cell_type": "code",
   "execution_count": null,
   "metadata": {},
   "outputs": [],
   "source": [
    "# Get the environment and connector from the ServiceManagerWidget instance.\n",
    "# The environment contains the hub URL, organization ID, and workspace ID.\n",
    "# The connector is used to make API calls to the Evo service.\n",
    "environment = manager.get_environment()\n",
    "connector = manager.get_connector()\n",
    "\n",
    "service_client = BlockModelAPIClient(environment, connector, manager.cache)\n",
    "\n",
    "# Create a BlockModelSelector instance. This will be used to select block models from the service.\n",
    "# The source code for this class is in helpers/evo_common.py\n",
    "bm_selector = evo_common.BlockModelSelector(environment, connector)\n",
    "\n",
    "workspace_id = None\n",
    "org_id = None"
   ]
  },
  {
   "cell_type": "markdown",
   "metadata": {},
   "source": [
    "## Demo 1: Create a regular block model"
   ]
  },
  {
   "cell_type": "code",
   "execution_count": null,
   "metadata": {},
   "outputs": [],
   "source": [
    "import pyarrow\n",
    "\n",
    "from evo.blockmodels.data import RegularGridDefinition\n",
    "from evo.blockmodels.endpoints.models import RotationAxis\n",
    "\n",
    "name = f\"Regular block model {datetime.now().strftime('%Y-%m-%d %H:%M:%S')}\"\n",
    "description = \"This is a description of my regular block model.\"\n",
    "object_path = \"/Jupyter/SDK-demo/\"  # Similar to a folder path.\n",
    "coordinate_reference_system = \"EPSG:3395\"  # BlockSync only supports EPSG codes that are meter based.\n",
    "size_unit_id = \"m\"\n",
    "\n",
    "grid_definition = RegularGridDefinition(\n",
    "    model_origin=[1478500, 5174500, 100],\n",
    "    rotations=[(RotationAxis.x, 0), (RotationAxis.y, 0), (RotationAxis.z, 0)],  # Null rotation for demo purposes\n",
    "    n_blocks=[48, 68, 40],\n",
    "    block_size=[25, 25, 25],\n",
    ")\n",
    "\n",
    "initial_data = pyarrow.table(\n",
    "    {\n",
    "        \"x\": [1478512.5, 1479687.5, 1479612.5],\n",
    "        \"y\": [5174512.5, 5175087.5, 5175137.5],\n",
    "        \"z\": [112.5, 337.5, 587.5],\n",
    "        \"Au\": [\"A\", \"D\", \"E\"],\n",
    "        \"Cu\": [1.5, 1.3, 1.2],\n",
    "    },\n",
    "    schema=pyarrow.schema(\n",
    "        {\n",
    "            \"x\": pyarrow.float64(),\n",
    "            \"y\": pyarrow.float64(),\n",
    "            \"z\": pyarrow.float64(),\n",
    "            \"Au\": pyarrow.string(),\n",
    "            \"Cu\": pyarrow.float64(),\n",
    "        }\n",
    "    ),\n",
    ")\n",
    "\n",
    "block_model, version = await service_client.create_block_model(\n",
    "    name=name,\n",
    "    description=description,\n",
    "    grid_definition=grid_definition,\n",
    "    object_path=object_path,\n",
    "    coordinate_reference_system=coordinate_reference_system,\n",
    "    size_unit_id=size_unit_id,\n",
    "    initial_data=initial_data,\n",
    ")\n",
    "\n",
    "print(f\"Created block model with ID: {block_model.id}\")"
   ]
  },
  {
   "cell_type": "markdown",
   "metadata": {},
   "source": [
    "## Demo 2: Add new columns to a block model"
   ]
  },
  {
   "cell_type": "code",
   "execution_count": null,
   "metadata": {},
   "outputs": [],
   "source": [
    "new_cols = pyarrow.table(\n",
    "    {\n",
    "        \"x\": [1478512.5, 1479687.5, 1479612.5],\n",
    "        \"y\": [5174512.5, 5175087.5, 5175137.5],\n",
    "        \"z\": [112.5, 337.5, 587.5],\n",
    "        \"Ag\": [120, 155, 72],\n",
    "        \"Pt\": [4.5, 5.3, 2.1],\n",
    "    },\n",
    "    schema=pyarrow.schema(\n",
    "        {\n",
    "            \"x\": pyarrow.float64(),\n",
    "            \"y\": pyarrow.float64(),\n",
    "            \"z\": pyarrow.float64(),\n",
    "            \"Ag\": pyarrow.int32(),\n",
    "            \"Pt\": pyarrow.float64(),\n",
    "        }\n",
    "    ),\n",
    ")\n",
    "\n",
    "# Add new columns to the block model and include units for the \"Pt\" column.\n",
    "version_with_new_columns = await service_client.add_new_columns(\n",
    "    bm_id=block_model.id,\n",
    "    data=new_cols,\n",
    "    units={\"Pt\": \"g/t\"},\n",
    ")\n",
    "\n",
    "print(f\"Updated block model with new columns: {[col for col in new_cols.column_names if col not in ['x', 'y', 'z']]}\")"
   ]
  }
 ],
 "metadata": {
  "kernelspec": {
   "display_name": "samples",
   "language": "python",
   "name": "python3"
  },
  "language_info": {
   "codemirror_mode": {
    "name": "ipython",
    "version": 3
   },
   "file_extension": ".py",
   "mimetype": "text/x-python",
   "name": "python",
   "nbconvert_exporter": "python",
   "pygments_lexer": "ipython3",
   "version": "3.10.16"
  }
 },
 "nbformat": 4,
 "nbformat_minor": 2
}
