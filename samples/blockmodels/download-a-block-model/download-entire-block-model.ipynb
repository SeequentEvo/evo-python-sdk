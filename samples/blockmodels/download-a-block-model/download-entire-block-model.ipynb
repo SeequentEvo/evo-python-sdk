{
 "cells": [
  {
   "cell_type": "markdown",
   "metadata": {},
   "source": [
    "## Download entire block model"
   ]
  },
  {
   "cell_type": "code",
   "execution_count": null,
   "metadata": {},
   "outputs": [],
   "source": [
    "# Import modules\n",
    "\n",
    "import json\n",
    "from http import HTTPStatus\n",
    "\n",
    "import pandas as pd\n",
    "import requests"
   ]
  },
  {
   "cell_type": "code",
   "execution_count": null,
   "metadata": {},
   "outputs": [],
   "source": [
    "# Enter your access token, Evo hub URL, org ID, workspace ID and block model ID.\n",
    "\n",
    "access_token = \"\"\n",
    "evo_hub_url = \"\"\n",
    "org_id = \"\"\n",
    "workspace_id = \"\"\n",
    "block_model_id = \"\"\n",
    "\n",
    "auth_header = {\"Authorization\": \"Bearer \" + access_token}"
   ]
  },
  {
   "cell_type": "code",
   "execution_count": null,
   "metadata": {},
   "outputs": [],
   "source": [
    "# Compose the URL, query parameters and JSON body\n",
    "url = f\"{evo_hub_url}/blockmodel/orgs/{org_id}/workspaces/{workspace_id}/block-models/{block_model_id}/blocks\"\n",
    "\n",
    "body = {\"columns\": [\"*\"], \"geometry_columns\": \"coordinates\"}\n",
    "\n",
    "# Make a POST request and include the JSON body and headers\n",
    "response = requests.post(url=url, json=body, headers=auth_header)\n",
    "response_output = json.dumps(response.json(), indent=4, sort_keys=True)\n",
    "\n",
    "# Copy the `job_url` parameter from the response\n",
    "if response.status_code == HTTPStatus.OK:\n",
    "    print(response_output)\n",
    "    job_url = response.json()[\"job_url\"]\n",
    "else:\n",
    "    raise Exception(f\"Request failed: \\n Status: {response.status_code} \\n Response: {response_output}\")"
   ]
  },
  {
   "cell_type": "code",
   "execution_count": null,
   "metadata": {},
   "outputs": [],
   "source": [
    "# Keep checking the `job_url` until the response gives you a `download_url` parameter\n",
    "\n",
    "# Make a GET request, including the headers\n",
    "response = requests.get(url=job_url, headers=auth_header)\n",
    "response_output = json.dumps(response.json(), indent=4, sort_keys=True)\n",
    "print(response_output)\n",
    "if response.json()[\"job_status\"] == \"COMPLETE\":\n",
    "    download_url = response.json()[\"payload\"][\"download_url\"]"
   ]
  },
  {
   "cell_type": "code",
   "execution_count": null,
   "metadata": {},
   "outputs": [],
   "source": [
    "# Download the data\n",
    "\n",
    "# Make a GET request\n",
    "response = requests.get(url=download_url)\n",
    "\n",
    "# Save the file\n",
    "open(\"query_results.parquet\", \"wb\").write(response.content)\n",
    "\n",
    "# Display the first rows of data\n",
    "df = pd.read_parquet(\"query_results.parquet\")\n",
    "df.head()"
   ]
  }
 ],
 "metadata": {
  "kernelspec": {
   "display_name": "Python 3",
   "language": "python",
   "name": "python3"
  },
  "language_info": {
   "codemirror_mode": {
    "name": "ipython",
    "version": 3
   },
   "file_extension": ".py",
   "mimetype": "text/x-python",
   "name": "python",
   "nbconvert_exporter": "python",
   "pygments_lexer": "ipython3",
   "version": "3.12.0"
  }
 },
 "nbformat": 4,
 "nbformat_minor": 2
}
