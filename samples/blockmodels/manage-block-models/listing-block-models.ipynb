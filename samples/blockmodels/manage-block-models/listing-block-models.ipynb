{
 "cells": [
  {
   "attachments": {},
   "cell_type": "markdown",
   "metadata": {},
   "source": [
    "## Listing block models"
   ]
  },
  {
   "cell_type": "code",
   "execution_count": null,
   "metadata": {},
   "outputs": [],
   "source": [
    "# Import modules\n",
    "\n",
    "import json\n",
    "\n",
    "import requests"
   ]
  },
  {
   "cell_type": "code",
   "execution_count": null,
   "metadata": {},
   "outputs": [],
   "source": [
    "# Enter your access token, Evo hub URL, org ID, and workspace ID.\n",
    "\n",
    "access_token = \"\"\n",
    "evo_hub_url = \"\"\n",
    "org_id = \"\"\n",
    "workspace_id = \"\"\n",
    "\n",
    "auth_header = {\"Authorization\": \"Bearer \" + access_token}"
   ]
  },
  {
   "attachments": {},
   "cell_type": "markdown",
   "metadata": {},
   "source": [
    "### List all block models, excluding archived models\n",
    "\n",
    "Usually you won't be interested in seeing archived block models, so the default behaviour excludes these models from the results."
   ]
  },
  {
   "cell_type": "code",
   "execution_count": null,
   "metadata": {},
   "outputs": [],
   "source": [
    "# Compose the URL\n",
    "url = f\"{evo_hub_url}/blockmodel/orgs/{org_id}/workspaces/{workspace_id}/block-models\"\n",
    "\n",
    "# Make a GET request and include the headers\n",
    "response = requests.get(url=url, headers=auth_header)\n",
    "response_output = json.dumps(response.json(), indent=4, sort_keys=True)\n",
    "print(response_output)"
   ]
  },
  {
   "attachments": {},
   "cell_type": "markdown",
   "metadata": {},
   "source": [
    "### List all block models, including archived models\n",
    "\n",
    "If you want to see archived block models included in the results, the URL is the same as before but you must include the query parameter `archived=true`."
   ]
  },
  {
   "cell_type": "code",
   "execution_count": null,
   "metadata": {},
   "outputs": [],
   "source": [
    "# Compose the URL\n",
    "url = f\"{evo_hub_url}/blockmodel/orgs/{org_id}/workspaces/{workspace_id}/block-models?archived=true\"\n",
    "\n",
    "# Make a GET request and include the headers\n",
    "response = requests.get(url=url, headers=auth_header)\n",
    "response_output = json.dumps(response.json(), indent=4, sort_keys=True)\n",
    "print(response_output)"
   ]
  },
  {
   "attachments": {},
   "cell_type": "markdown",
   "metadata": {},
   "source": [
    "### Get information about a specific block model\n",
    "\n",
    "To display more information about a given block model, take the standard base URL `{api_host}/blockmodel/orgs/{org_id}/workspaces/{workspace_id}/block-models` and append `/{bm_uuid}`."
   ]
  },
  {
   "cell_type": "code",
   "execution_count": null,
   "metadata": {},
   "outputs": [],
   "source": [
    "block_model_id = \"\"  # Enter the bm_uuid parameter of the block model you're interested in\n",
    "\n",
    "# Compose the URL\n",
    "url = f\"{evo_hub_url}/blockmodel/orgs/{org_id}/workspaces/{workspace_id}/block-models/{block_model_id}\"\n",
    "\n",
    "# Make a GET request and include the headers\n",
    "response = requests.get(url=url, headers=auth_header)\n",
    "response_output = json.dumps(response.json(), indent=4, sort_keys=True)\n",
    "print(response_output)"
   ]
  },
  {
   "attachments": {},
   "cell_type": "markdown",
   "metadata": {},
   "source": [
    "### Get a list of block model versions\n",
    "\n",
    "To display a list of all versions of a block model, take the standard base URL `{api_host}/blockmodel/orgs/{org_id}/workspaces/{workspace_id}/block-models/{bm_uuid}` and append `/versions`."
   ]
  },
  {
   "cell_type": "code",
   "execution_count": null,
   "metadata": {},
   "outputs": [],
   "source": [
    "block_model_id = \"\"  # Enter the bm_uuid parameter of the block model you're interested in\n",
    "\n",
    "# Compose the URL\n",
    "url = f\"{evo_hub_url}/blockmodel/orgs/{org_id}/workspaces/{workspace_id}/block-models/{block_model_id}/versions\"\n",
    "\n",
    "# Make a GET request and include the headers\n",
    "response = requests.get(url=url, headers=auth_header)\n",
    "response_output = json.dumps(response.json(), indent=4, sort_keys=True)\n",
    "print(response_output)"
   ]
  },
  {
   "cell_type": "markdown",
   "metadata": {},
   "source": [
    "### Get more information about a specific version\n",
    "\n",
    "To display a list of all versions of a block model, take the standard base URL `{api_host}/blockmodel/orgs/{org_id}/workspaces/{workspace_id}/block-models/{bm_uuid}` and append `/versions/{version_uuid}`."
   ]
  },
  {
   "cell_type": "code",
   "execution_count": null,
   "metadata": {},
   "outputs": [],
   "source": [
    "version_id = \"\"  # Enter the version_uuid parameter of the version you're interested in\n",
    "\n",
    "# Compose the URL and headers\n",
    "url = f\"{evo_hub_url}/blockmodel/orgs/{org_id}/workspaces/{workspace_id}/block-models/{block_model_id}/versions/{version_id}\"\n",
    "\n",
    "# Make a GET request and include the headers\n",
    "response = requests.get(url=url, headers=auth_header)\n",
    "response_output = json.dumps(response.json(), indent=4, sort_keys=True)\n",
    "print(response_output)"
   ]
  }
 ],
 "metadata": {
  "kernelspec": {
   "display_name": "Python 3",
   "language": "python",
   "name": "python3"
  },
  "language_info": {
   "codemirror_mode": {
    "name": "ipython",
    "version": 3
   },
   "file_extension": ".py",
   "mimetype": "text/x-python",
   "name": "python",
   "nbconvert_exporter": "python",
   "pygments_lexer": "ipython3",
   "version": "3.12.0"
  }
 },
 "nbformat": 4,
 "nbformat_minor": 2
}
