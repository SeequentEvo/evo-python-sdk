{
 "cells": [
  {
   "attachments": {},
   "cell_type": "markdown",
   "metadata": {},
   "source": [
    "## Create a variable-octree block model"
   ]
  },
  {
   "cell_type": "code",
   "execution_count": null,
   "metadata": {},
   "outputs": [],
   "source": [
    "# Import modules\n",
    "\n",
    "import json\n",
    "from datetime import datetime\n",
    "from http import HTTPStatus\n",
    "\n",
    "import requests"
   ]
  },
  {
   "cell_type": "code",
   "execution_count": null,
   "metadata": {},
   "outputs": [],
   "source": [
    "# Enter your access token, Evo hub URL, org ID and workspace ID.\n",
    "\n",
    "access_token = \"\"\n",
    "evo_hub_url = \"\"\n",
    "org_id = \"\"\n",
    "workspace_id = \"\"\n",
    "\n",
    "auth_header = {\"Authorization\": \"Bearer \" + access_token}"
   ]
  },
  {
   "cell_type": "code",
   "execution_count": null,
   "metadata": {},
   "outputs": [],
   "source": [
    "# Create the block model\n",
    "\n",
    "# Compose the URL\n",
    "url = f\"{evo_hub_url}/blockmodel/orgs/{org_id}/workspaces/{workspace_id}/block-models\"\n",
    "\n",
    "# NOTE: Block model names must be unique, so the name parameter below includes the current datetime to ensure uniqueness\n",
    "body = {\n",
    "    \"name\": f\"My variable-octree block model {datetime.now().strftime('%Y-%m-%d %H:%M:%S')}\",\n",
    "    \"description\": \"This is a description of my variable-octree block model.\",\n",
    "    \"comment\": \"First commit.\",\n",
    "    \"model_origin\": {\"x\": -5, \"y\": 0, \"z\": 2},\n",
    "    \"block_rotation\": [\n",
    "        {\"axis\": \"x\", \"angle\": 10},\n",
    "        {\"axis\": \"y\", \"angle\": 5.5},\n",
    "        {\"axis\": \"z\", \"angle\": 10},\n",
    "    ],\n",
    "    \"size_options\": {\n",
    "        \"model_type\": \"variable-octree\",\n",
    "        \"n_parent_blocks\": {\"nx\": 20, \"ny\": 30, \"nz\": 40},\n",
    "        \"n_subblocks_per_parent\": {\"nx\": 1, \"ny\": 2, \"nz\": 8},\n",
    "        \"parent_block_size\": {\"x\": 2.5, \"y\": 5, \"z\": 10},\n",
    "    },\n",
    "}\n",
    "\n",
    "# Make a POST request and include the JSON body and headers\n",
    "response = requests.post(url=url, json=body, headers=auth_header)\n",
    "response_output = json.dumps(response.json(), indent=4, sort_keys=True)\n",
    "\n",
    "# Copy the `job_url` parameter from the response\n",
    "if response.status_code == HTTPStatus.CREATED:\n",
    "    print(response_output)\n",
    "    job_url = response.json()[\"job_url\"]\n",
    "else:\n",
    "    raise Exception(f\"Request failed: \\n Status: {response.status_code} \\n Response: {response_output}\")"
   ]
  },
  {
   "cell_type": "code",
   "execution_count": null,
   "metadata": {},
   "outputs": [],
   "source": [
    "# Keep checking the `job_url` until the `job_status` is `COMPLETE`.\n",
    "\n",
    "# Make a GET request, including the headers\n",
    "response = requests.get(url=job_url, headers=auth_header)\n",
    "response_output = json.dumps(response.json(), indent=4, sort_keys=True)\n",
    "print(response_output)"
   ]
  },
  {
   "attachments": {},
   "cell_type": "markdown",
   "metadata": {},
   "source": [
    "## Conclusion\n",
    "\n",
    "Once your empty block model has been created you can then add columns to your model."
   ]
  }
 ],
 "metadata": {
  "kernelspec": {
   "display_name": "Python 3",
   "language": "python",
   "name": "python3"
  },
  "language_info": {
   "codemirror_mode": {
    "name": "ipython",
    "version": 3
   },
   "file_extension": ".py",
   "mimetype": "text/x-python",
   "name": "python",
   "nbconvert_exporter": "python",
   "pygments_lexer": "ipython3",
   "version": "3.12.0"
  },
  "orig_nbformat": 4
 },
 "nbformat": 4,
 "nbformat_minor": 2
}
