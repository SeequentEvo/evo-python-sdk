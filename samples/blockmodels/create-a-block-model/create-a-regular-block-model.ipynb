{
 "cells": [
  {
   "attachments": {},
   "cell_type": "markdown",
   "metadata": {},
   "source": [
    "## Create a regular block model"
   ]
  },
  {
   "cell_type": "code",
   "execution_count": null,
   "metadata": {},
   "outputs": [],
   "source": [
    "# Import modules\n",
    "\n",
    "import json\n",
    "from datetime import datetime\n",
    "from http import HTTPStatus\n",
    "\n",
    "import requests"
   ]
  },
  {
   "cell_type": "code",
   "execution_count": null,
   "metadata": {},
   "outputs": [],
   "source": [
    "# Enter your access token, Evo hub URL, org ID and workspace ID.\n",
    "\n",
    "access_token = \"\"\n",
    "evo_hub_url = \"\"\n",
    "org_id = \"\"\n",
    "workspace_id = \"\""
   ]
  },
  {
   "cell_type": "code",
   "execution_count": null,
   "metadata": {},
   "outputs": [],
   "source": [
    "# Create the block model\n",
    "\n",
    "# Compose the URL and JSON body\n",
    "auth_header = {\"Authorization\": \"Bearer \" + access_token}\n",
    "url = f\"{evo_hub_url}/blockmodel/orgs/{org_id}/workspaces/{workspace_id}/block-models\"\n",
    "\n",
    "# NOTE: Block model names must be unique, so the name parameter below includes the current datetime to ensure uniqueness\n",
    "body = {\n",
    "    \"name\": f\"My regular block model {datetime.now().strftime('%Y-%m-%d %H:%M:%S')}\",\n",
    "    \"description\": \"This is a description of my regular block model.\",\n",
    "    \"comment\": \"First revision.\",\n",
    "    \"model_origin\": {\"x\": 1478500, \"y\": 5174500, \"z\": 100},\n",
    "    \"block_rotation\": [],\n",
    "    \"size_options\": {\n",
    "        \"n_blocks\": {\"nx\": 48, \"ny\": 68, \"nz\": 40},\n",
    "        \"model_type\": \"regular\",\n",
    "        \"block_size\": {\"x\": 25, \"y\": 25, \"z\": 25},\n",
    "    },\n",
    "}\n",
    "\n",
    "# Make a POST request and include the JSON body and headers\n",
    "response = requests.post(url=url, json=body, headers=auth_header)\n",
    "response_output = json.dumps(response.json(), indent=4, sort_keys=True)\n",
    "\n",
    "# Copy the `job_url` parameter from the response\n",
    "print(response_output)\n",
    "if response.status_code == HTTPStatus.CREATED:\n",
    "    job_url = response.json()[\"job_url\"]\n",
    "else:\n",
    "    raise Exception(f\"Request failed: \\n Status: {response.status_code} \\n Response: {response_output}\")"
   ]
  },
  {
   "cell_type": "code",
   "execution_count": null,
   "metadata": {},
   "outputs": [],
   "source": [
    "# Keep checking the `job_url` until the `job_status` is `COMPLETE`.\n",
    "\n",
    "# Make a GET request, including the headers\n",
    "response = requests.get(url=job_url, headers=auth_header)\n",
    "response_output = json.dumps(response.json(), indent=4, sort_keys=True)\n",
    "print(response_output)"
   ]
  },
  {
   "attachments": {},
   "cell_type": "markdown",
   "metadata": {},
   "source": [
    "## Conclusion\n",
    "\n",
    "Once your empty block model has been created you can then add columns to your model."
   ]
  }
 ],
 "metadata": {
  "kernelspec": {
   "display_name": "Python 3",
   "language": "python",
   "name": "python3"
  },
  "language_info": {
   "codemirror_mode": {
    "name": "ipython",
    "version": 3
   },
   "file_extension": ".py",
   "mimetype": "text/x-python",
   "name": "python",
   "nbconvert_exporter": "python",
   "pygments_lexer": "ipython3",
   "version": "3.12.0"
  }
 },
 "nbformat": 4,
 "nbformat_minor": 2
}
