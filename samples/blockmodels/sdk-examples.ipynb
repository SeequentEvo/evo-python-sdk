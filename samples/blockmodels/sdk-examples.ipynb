{
 "cells": [
  {
   "cell_type": "markdown",
   "metadata": {},
   "source": [
    "## Block Model SDK Examples\n",
    "\n",
    "This notebook demonstrates how to work with Evo Block Models using the **Block Model SDK**, which provides a high-level, Pythonic interface for block model operations.\n",
    "\n",
    "### SDK vs API Approach\n",
    "\n",
    "This notebook uses the **Block Model SDK** (`evo.blockmodels.BlockModelAPIClient`) which:\n",
    "- ✅ Provides simplified, high-level methods for common operations\n",
    "- ✅ Handles complex API interactions behind the scenes\n",
    "- ✅ Offers better error handling and validation\n",
    "- ✅ Works directly with PyArrow tables and pandas DataFrames\n",
    "- ✅ Recommended for most use cases\n",
    "\n",
    "### Want to Learn More About the Underlying API?\n",
    "\n",
    "If you're interested in understanding the raw Block Model API calls and more granular control, check out the `api-examples.ipynb` notebook in this same directory. The API examples show:\n",
    "- Direct HTTP API calls to the Block Model service\n",
    "- Lower-level control over requests and responses\n",
    "- Detailed API response structures\n",
    "- Advanced customization options"
   ]
  },
  {
   "cell_type": "code",
   "execution_count": null,
   "metadata": {},
   "outputs": [],
   "source": [
    "from datetime import datetime\n",
    "\n",
    "from evo.blockmodels import BlockModelAPIClient\n",
    "from evo.notebooks import ServiceManagerWidget\n",
    "\n",
    "cache_location = \"./notebook-data\"\n",
    "input_path = f\"{cache_location}/input\"\n",
    "\n",
    "# Evo app credentials\n",
    "client_id = \"<your-client-id>\"  # Replace with your client ID\n",
    "redirect_url = \"<your-redirect-url>\"  # Replace with your redirect URL\n",
    "\n",
    "manager = await ServiceManagerWidget.with_auth_code(\n",
    "    discovery_url=\"https://discover.api.seequent.com\",\n",
    "    redirect_url=redirect_url,\n",
    "    client_id=client_id,\n",
    "    cache_location=cache_location,\n",
    ").login()"
   ]
  },
  {
   "cell_type": "markdown",
   "metadata": {},
   "source": [
    "### Prepare Evo SDK parameters"
   ]
  },
  {
   "cell_type": "code",
   "execution_count": null,
   "metadata": {},
   "outputs": [],
   "source": [
    "# Get the environment and connector from the ServiceManagerWidget instance.\n",
    "# The environment contains the hub URL, organization ID, and workspace ID.\n",
    "# The connector is used to make API calls to the Evo service.\n",
    "environment = manager.get_environment()\n",
    "connector = manager.get_connector()\n",
    "\n",
    "service_client = BlockModelAPIClient(environment, connector, manager.cache)"
   ]
  },
  {
   "cell_type": "markdown",
   "metadata": {},
   "source": [
    "### Demo 1: Create a regular block model"
   ]
  },
  {
   "cell_type": "code",
   "execution_count": null,
   "metadata": {},
   "outputs": [],
   "source": [
    "import pyarrow\n",
    "import pyarrow.parquet\n",
    "\n",
    "from evo.blockmodels.data import RegularGridDefinition\n",
    "from evo.blockmodels.endpoints.models import RotationAxis\n",
    "\n",
    "name = f\"Regular block model {datetime.now().strftime('%Y-%m-%d %H:%M:%S')}\"\n",
    "description = \"This is a description of my regular block model.\"\n",
    "object_path = \"/Jupyter/SDK-demo\"  # Similar to a folder path.\n",
    "coordinate_reference_system = \"EPSG:3395\"  # BlockSync only supports EPSG codes that are metre-based.\n",
    "size_unit_id = \"m\"\n",
    "\n",
    "grid_definition = RegularGridDefinition(\n",
    "    model_origin=[1478500, 5174500, 100],\n",
    "    rotations=[(RotationAxis.x, 0), (RotationAxis.y, 0), (RotationAxis.z, 0)],  # Null rotation for demo purposes\n",
    "    n_blocks=[48, 68, 40],\n",
    "    block_size=[25, 25, 25],\n",
    ")\n",
    "\n",
    "# Load data from parquet file as initial_data\n",
    "initial_data = pyarrow.parquet.read_table(\"sample/data.parquet\")\n",
    "\n",
    "# Drop the dx, dy, dz columns from the initial_data\n",
    "initial_data = initial_data.drop([\"dx\", \"dy\", \"dz\"])\n",
    "\n",
    "block_model, version = await service_client.create_block_model(\n",
    "    name=name,\n",
    "    description=description,\n",
    "    grid_definition=grid_definition,\n",
    "    object_path=object_path,\n",
    "    coordinate_reference_system=coordinate_reference_system,\n",
    "    size_unit_id=size_unit_id,\n",
    "    initial_data=initial_data,\n",
    ")\n",
    "\n",
    "print(f\"Created block model with ID: {block_model.id}\")"
   ]
  },
  {
   "cell_type": "markdown",
   "metadata": {},
   "source": [
    "### Demo 2: Add new columns to a block model"
   ]
  },
  {
   "cell_type": "code",
   "execution_count": null,
   "metadata": {},
   "outputs": [],
   "source": [
    "new_cols = pyarrow.table(\n",
    "    {\n",
    "        \"x\": [1478512.5, 1479687.5, 1479612.5],\n",
    "        \"y\": [5174512.5, 5175087.5, 5175137.5],\n",
    "        \"z\": [112.5, 337.5, 587.5],\n",
    "        \"Ag\": [120, 155, 72],\n",
    "        \"Pt\": [4.5, 5.3, 2.1],\n",
    "    },\n",
    "    schema=pyarrow.schema(\n",
    "        {\n",
    "            \"x\": pyarrow.float64(),\n",
    "            \"y\": pyarrow.float64(),\n",
    "            \"z\": pyarrow.float64(),\n",
    "            \"Ag\": pyarrow.int32(),\n",
    "            \"Pt\": pyarrow.float64(),\n",
    "        }\n",
    "    ),\n",
    ")\n",
    "\n",
    "# Add new columns to the block model and include units for the \"Pt\" column.\n",
    "version_with_new_columns = await service_client.add_new_columns(\n",
    "    bm_id=block_model.id,\n",
    "    data=new_cols,\n",
    "    units={\"Pt\": \"g/t\"},\n",
    ")\n",
    "\n",
    "print(f\"Updated block model with new columns: {[col for col in new_cols.column_names if col not in ['x', 'y', 'z']]}\")"
   ]
  },
  {
   "cell_type": "markdown",
   "metadata": {},
   "source": [
    "### Demo 3: Query the latest version of a block model"
   ]
  },
  {
   "cell_type": "code",
   "execution_count": null,
   "metadata": {},
   "outputs": [],
   "source": [
    "# Table will be a Pyarrow Table\n",
    "table = await service_client.query_block_model_as_table(\n",
    "    bm_id=block_model.id,\n",
    "    columns=[\"*\"],  # Include all columns by using the * wildcard\n",
    ")\n",
    "\n",
    "# Note: The column UUID is returned instead of the column name.\n",
    "display(table.to_pandas())"
   ]
  },
  {
   "cell_type": "markdown",
   "metadata": {},
   "source": [
    "### Demo 4: Query a block model using a bounding box"
   ]
  },
  {
   "cell_type": "code",
   "execution_count": null,
   "metadata": {},
   "outputs": [],
   "source": [
    "from evo.blockmodels.endpoints.models import BBoxXYZ, FloatRange\n",
    "\n",
    "# Select a bounding box to query\n",
    "bounding_box = BBoxXYZ(\n",
    "    x_minmax=FloatRange(min=1478587.5, max=1478662.5),\n",
    "    y_minmax=FloatRange(min=5174562.5, max=5174712.5),\n",
    "    z_minmax=FloatRange(min=137.5, max=187.5),\n",
    ")\n",
    "\n",
    "# Table will be a Pyarrow Table\n",
    "table = await service_client.query_block_model_as_table(bm_id=block_model.id, columns=[\"*\"], bbox=bounding_box)\n",
    "\n",
    "# Note: The column UUID is returned instead of the column name.\n",
    "display(table.to_pandas())"
   ]
  },
  {
   "cell_type": "markdown",
   "metadata": {},
   "source": [
    "### More to come...\n",
    "\n",
    "New examples will be added in the future as the Block Model SDK continues to evolve!\n",
    "\n",
    "In the meantime, check out the `api-examples` notebook to see what else the Block Model API is capable of."
   ]
  }
 ],
 "metadata": {
  "kernelspec": {
   "display_name": "samples",
   "language": "python",
   "name": "python3"
  },
  "language_info": {
   "codemirror_mode": {
    "name": "ipython",
    "version": 3
   },
   "file_extension": ".py",
   "mimetype": "text/x-python",
   "name": "python",
   "nbconvert_exporter": "python",
   "pygments_lexer": "ipython3",
   "version": "3.10.16"
  }
 },
 "nbformat": 4,
 "nbformat_minor": 2
}
